{
  "nbformat": 4,
  "nbformat_minor": 0,
  "metadata": {
    "colab": {
      "name": "B20AI049_PRML(bonus project).ipynb",
      "provenance": [],
      "collapsed_sections": []
    },
    "kernelspec": {
      "name": "python3",
      "display_name": "Python 3"
    },
    "language_info": {
      "name": "python"
    }
  },
  "cells": [
    {
      "cell_type": "markdown",
      "source": [
        "# Importing The data and preprocessing"
      ],
      "metadata": {
        "id": "o01mOtABchVv"
      }
    },
    {
      "cell_type": "code",
      "execution_count": null,
      "metadata": {
        "id": "7vSnAq8auv2a"
      },
      "outputs": [],
      "source": [
        "import numpy as np\n",
        "import pandas as pd\n",
        "\n",
        "import matplotlib.pyplot as plt\n",
        "import seaborn as sns\n"
      ]
    },
    {
      "cell_type": "code",
      "source": [
        "df=pd.read_csv('/content/drive/MyDrive/datasets/Dataset.xlsx - Sheet1.csv')\n",
        "df.head()"
      ],
      "metadata": {
        "colab": {
          "base_uri": "https://localhost:8080/",
          "height": 206
        },
        "id": "5oWpS54uh6rS",
        "outputId": "fc8d22b9-a387-40ac-f959-3dcdb9411022"
      },
      "execution_count": null,
      "outputs": [
        {
          "output_type": "execute_result",
          "data": {
            "text/plain": [
              "       Airline Date_of_Journey    Source Destination                  Route  \\\n",
              "0       IndiGo      24/03/2019  Banglore   New Delhi              BLR → DEL   \n",
              "1    Air India       1/05/2019   Kolkata    Banglore  CCU → IXR → BBI → BLR   \n",
              "2  Jet Airways       9/06/2019     Delhi      Cochin  DEL → LKO → BOM → COK   \n",
              "3       IndiGo      12/05/2019   Kolkata    Banglore        CCU → NAG → BLR   \n",
              "4       IndiGo      01/03/2019  Banglore   New Delhi        BLR → NAG → DEL   \n",
              "\n",
              "  Dep_Time  Arrival_Time Duration Total_Stops Additional_Info  Price  \n",
              "0    22:20  01:10 22 Mar   2h 50m    non-stop         No info   3897  \n",
              "1    05:50         13:15   7h 25m     2 stops         No info   7662  \n",
              "2    09:25  04:25 10 Jun      19h     2 stops         No info  13882  \n",
              "3    18:05         23:30   5h 25m      1 stop         No info   6218  \n",
              "4    16:50         21:35   4h 45m      1 stop         No info  13302  "
            ],
            "text/html": [
              "\n",
              "  <div id=\"df-fea8589d-a3e3-4a40-a84b-f6abc710ce70\">\n",
              "    <div class=\"colab-df-container\">\n",
              "      <div>\n",
              "<style scoped>\n",
              "    .dataframe tbody tr th:only-of-type {\n",
              "        vertical-align: middle;\n",
              "    }\n",
              "\n",
              "    .dataframe tbody tr th {\n",
              "        vertical-align: top;\n",
              "    }\n",
              "\n",
              "    .dataframe thead th {\n",
              "        text-align: right;\n",
              "    }\n",
              "</style>\n",
              "<table border=\"1\" class=\"dataframe\">\n",
              "  <thead>\n",
              "    <tr style=\"text-align: right;\">\n",
              "      <th></th>\n",
              "      <th>Airline</th>\n",
              "      <th>Date_of_Journey</th>\n",
              "      <th>Source</th>\n",
              "      <th>Destination</th>\n",
              "      <th>Route</th>\n",
              "      <th>Dep_Time</th>\n",
              "      <th>Arrival_Time</th>\n",
              "      <th>Duration</th>\n",
              "      <th>Total_Stops</th>\n",
              "      <th>Additional_Info</th>\n",
              "      <th>Price</th>\n",
              "    </tr>\n",
              "  </thead>\n",
              "  <tbody>\n",
              "    <tr>\n",
              "      <th>0</th>\n",
              "      <td>IndiGo</td>\n",
              "      <td>24/03/2019</td>\n",
              "      <td>Banglore</td>\n",
              "      <td>New Delhi</td>\n",
              "      <td>BLR → DEL</td>\n",
              "      <td>22:20</td>\n",
              "      <td>01:10 22 Mar</td>\n",
              "      <td>2h 50m</td>\n",
              "      <td>non-stop</td>\n",
              "      <td>No info</td>\n",
              "      <td>3897</td>\n",
              "    </tr>\n",
              "    <tr>\n",
              "      <th>1</th>\n",
              "      <td>Air India</td>\n",
              "      <td>1/05/2019</td>\n",
              "      <td>Kolkata</td>\n",
              "      <td>Banglore</td>\n",
              "      <td>CCU → IXR → BBI → BLR</td>\n",
              "      <td>05:50</td>\n",
              "      <td>13:15</td>\n",
              "      <td>7h 25m</td>\n",
              "      <td>2 stops</td>\n",
              "      <td>No info</td>\n",
              "      <td>7662</td>\n",
              "    </tr>\n",
              "    <tr>\n",
              "      <th>2</th>\n",
              "      <td>Jet Airways</td>\n",
              "      <td>9/06/2019</td>\n",
              "      <td>Delhi</td>\n",
              "      <td>Cochin</td>\n",
              "      <td>DEL → LKO → BOM → COK</td>\n",
              "      <td>09:25</td>\n",
              "      <td>04:25 10 Jun</td>\n",
              "      <td>19h</td>\n",
              "      <td>2 stops</td>\n",
              "      <td>No info</td>\n",
              "      <td>13882</td>\n",
              "    </tr>\n",
              "    <tr>\n",
              "      <th>3</th>\n",
              "      <td>IndiGo</td>\n",
              "      <td>12/05/2019</td>\n",
              "      <td>Kolkata</td>\n",
              "      <td>Banglore</td>\n",
              "      <td>CCU → NAG → BLR</td>\n",
              "      <td>18:05</td>\n",
              "      <td>23:30</td>\n",
              "      <td>5h 25m</td>\n",
              "      <td>1 stop</td>\n",
              "      <td>No info</td>\n",
              "      <td>6218</td>\n",
              "    </tr>\n",
              "    <tr>\n",
              "      <th>4</th>\n",
              "      <td>IndiGo</td>\n",
              "      <td>01/03/2019</td>\n",
              "      <td>Banglore</td>\n",
              "      <td>New Delhi</td>\n",
              "      <td>BLR → NAG → DEL</td>\n",
              "      <td>16:50</td>\n",
              "      <td>21:35</td>\n",
              "      <td>4h 45m</td>\n",
              "      <td>1 stop</td>\n",
              "      <td>No info</td>\n",
              "      <td>13302</td>\n",
              "    </tr>\n",
              "  </tbody>\n",
              "</table>\n",
              "</div>\n",
              "      <button class=\"colab-df-convert\" onclick=\"convertToInteractive('df-fea8589d-a3e3-4a40-a84b-f6abc710ce70')\"\n",
              "              title=\"Convert this dataframe to an interactive table.\"\n",
              "              style=\"display:none;\">\n",
              "        \n",
              "  <svg xmlns=\"http://www.w3.org/2000/svg\" height=\"24px\"viewBox=\"0 0 24 24\"\n",
              "       width=\"24px\">\n",
              "    <path d=\"M0 0h24v24H0V0z\" fill=\"none\"/>\n",
              "    <path d=\"M18.56 5.44l.94 2.06.94-2.06 2.06-.94-2.06-.94-.94-2.06-.94 2.06-2.06.94zm-11 1L8.5 8.5l.94-2.06 2.06-.94-2.06-.94L8.5 2.5l-.94 2.06-2.06.94zm10 10l.94 2.06.94-2.06 2.06-.94-2.06-.94-.94-2.06-.94 2.06-2.06.94z\"/><path d=\"M17.41 7.96l-1.37-1.37c-.4-.4-.92-.59-1.43-.59-.52 0-1.04.2-1.43.59L10.3 9.45l-7.72 7.72c-.78.78-.78 2.05 0 2.83L4 21.41c.39.39.9.59 1.41.59.51 0 1.02-.2 1.41-.59l7.78-7.78 2.81-2.81c.8-.78.8-2.07 0-2.86zM5.41 20L4 18.59l7.72-7.72 1.47 1.35L5.41 20z\"/>\n",
              "  </svg>\n",
              "      </button>\n",
              "      \n",
              "  <style>\n",
              "    .colab-df-container {\n",
              "      display:flex;\n",
              "      flex-wrap:wrap;\n",
              "      gap: 12px;\n",
              "    }\n",
              "\n",
              "    .colab-df-convert {\n",
              "      background-color: #E8F0FE;\n",
              "      border: none;\n",
              "      border-radius: 50%;\n",
              "      cursor: pointer;\n",
              "      display: none;\n",
              "      fill: #1967D2;\n",
              "      height: 32px;\n",
              "      padding: 0 0 0 0;\n",
              "      width: 32px;\n",
              "    }\n",
              "\n",
              "    .colab-df-convert:hover {\n",
              "      background-color: #E2EBFA;\n",
              "      box-shadow: 0px 1px 2px rgba(60, 64, 67, 0.3), 0px 1px 3px 1px rgba(60, 64, 67, 0.15);\n",
              "      fill: #174EA6;\n",
              "    }\n",
              "\n",
              "    [theme=dark] .colab-df-convert {\n",
              "      background-color: #3B4455;\n",
              "      fill: #D2E3FC;\n",
              "    }\n",
              "\n",
              "    [theme=dark] .colab-df-convert:hover {\n",
              "      background-color: #434B5C;\n",
              "      box-shadow: 0px 1px 3px 1px rgba(0, 0, 0, 0.15);\n",
              "      filter: drop-shadow(0px 1px 2px rgba(0, 0, 0, 0.3));\n",
              "      fill: #FFFFFF;\n",
              "    }\n",
              "  </style>\n",
              "\n",
              "      <script>\n",
              "        const buttonEl =\n",
              "          document.querySelector('#df-fea8589d-a3e3-4a40-a84b-f6abc710ce70 button.colab-df-convert');\n",
              "        buttonEl.style.display =\n",
              "          google.colab.kernel.accessAllowed ? 'block' : 'none';\n",
              "\n",
              "        async function convertToInteractive(key) {\n",
              "          const element = document.querySelector('#df-fea8589d-a3e3-4a40-a84b-f6abc710ce70');\n",
              "          const dataTable =\n",
              "            await google.colab.kernel.invokeFunction('convertToInteractive',\n",
              "                                                     [key], {});\n",
              "          if (!dataTable) return;\n",
              "\n",
              "          const docLinkHtml = 'Like what you see? Visit the ' +\n",
              "            '<a target=\"_blank\" href=https://colab.research.google.com/notebooks/data_table.ipynb>data table notebook</a>'\n",
              "            + ' to learn more about interactive tables.';\n",
              "          element.innerHTML = '';\n",
              "          dataTable['output_type'] = 'display_data';\n",
              "          await google.colab.output.renderOutput(dataTable, element);\n",
              "          const docLink = document.createElement('div');\n",
              "          docLink.innerHTML = docLinkHtml;\n",
              "          element.appendChild(docLink);\n",
              "        }\n",
              "      </script>\n",
              "    </div>\n",
              "  </div>\n",
              "  "
            ]
          },
          "metadata": {},
          "execution_count": 2
        }
      ]
    },
    {
      "cell_type": "code",
      "source": [
        "df.info()"
      ],
      "metadata": {
        "colab": {
          "base_uri": "https://localhost:8080/"
        },
        "id": "AxYcGBitiOhK",
        "outputId": "cc0de23d-adde-4483-e6e2-ff406148a81f"
      },
      "execution_count": null,
      "outputs": [
        {
          "output_type": "stream",
          "name": "stdout",
          "text": [
            "<class 'pandas.core.frame.DataFrame'>\n",
            "RangeIndex: 10683 entries, 0 to 10682\n",
            "Data columns (total 11 columns):\n",
            " #   Column           Non-Null Count  Dtype \n",
            "---  ------           --------------  ----- \n",
            " 0   Airline          10683 non-null  object\n",
            " 1   Date_of_Journey  10683 non-null  object\n",
            " 2   Source           10683 non-null  object\n",
            " 3   Destination      10683 non-null  object\n",
            " 4   Route            10682 non-null  object\n",
            " 5   Dep_Time         10683 non-null  object\n",
            " 6   Arrival_Time     10683 non-null  object\n",
            " 7   Duration         10683 non-null  object\n",
            " 8   Total_Stops      10682 non-null  object\n",
            " 9   Additional_Info  10683 non-null  object\n",
            " 10  Price            10683 non-null  int64 \n",
            "dtypes: int64(1), object(10)\n",
            "memory usage: 918.2+ KB\n"
          ]
        }
      ]
    },
    {
      "cell_type": "markdown",
      "source": [
        "There are 9 features and 1 target variable"
      ],
      "metadata": {
        "id": "LBzdTbn9iWLS"
      }
    },
    {
      "cell_type": "code",
      "source": [
        "df.describe()"
      ],
      "metadata": {
        "colab": {
          "base_uri": "https://localhost:8080/",
          "height": 300
        },
        "id": "W8nznOPDiTv6",
        "outputId": "cc46673e-9d0d-4c43-904e-cc339d3225c4"
      },
      "execution_count": null,
      "outputs": [
        {
          "output_type": "execute_result",
          "data": {
            "text/plain": [
              "              Price\n",
              "count  10683.000000\n",
              "mean    9087.064121\n",
              "std     4611.359167\n",
              "min     1759.000000\n",
              "25%     5277.000000\n",
              "50%     8372.000000\n",
              "75%    12373.000000\n",
              "max    79512.000000"
            ],
            "text/html": [
              "\n",
              "  <div id=\"df-18165bc2-5002-4791-acd3-7d1ff3de3607\">\n",
              "    <div class=\"colab-df-container\">\n",
              "      <div>\n",
              "<style scoped>\n",
              "    .dataframe tbody tr th:only-of-type {\n",
              "        vertical-align: middle;\n",
              "    }\n",
              "\n",
              "    .dataframe tbody tr th {\n",
              "        vertical-align: top;\n",
              "    }\n",
              "\n",
              "    .dataframe thead th {\n",
              "        text-align: right;\n",
              "    }\n",
              "</style>\n",
              "<table border=\"1\" class=\"dataframe\">\n",
              "  <thead>\n",
              "    <tr style=\"text-align: right;\">\n",
              "      <th></th>\n",
              "      <th>Price</th>\n",
              "    </tr>\n",
              "  </thead>\n",
              "  <tbody>\n",
              "    <tr>\n",
              "      <th>count</th>\n",
              "      <td>10683.000000</td>\n",
              "    </tr>\n",
              "    <tr>\n",
              "      <th>mean</th>\n",
              "      <td>9087.064121</td>\n",
              "    </tr>\n",
              "    <tr>\n",
              "      <th>std</th>\n",
              "      <td>4611.359167</td>\n",
              "    </tr>\n",
              "    <tr>\n",
              "      <th>min</th>\n",
              "      <td>1759.000000</td>\n",
              "    </tr>\n",
              "    <tr>\n",
              "      <th>25%</th>\n",
              "      <td>5277.000000</td>\n",
              "    </tr>\n",
              "    <tr>\n",
              "      <th>50%</th>\n",
              "      <td>8372.000000</td>\n",
              "    </tr>\n",
              "    <tr>\n",
              "      <th>75%</th>\n",
              "      <td>12373.000000</td>\n",
              "    </tr>\n",
              "    <tr>\n",
              "      <th>max</th>\n",
              "      <td>79512.000000</td>\n",
              "    </tr>\n",
              "  </tbody>\n",
              "</table>\n",
              "</div>\n",
              "      <button class=\"colab-df-convert\" onclick=\"convertToInteractive('df-18165bc2-5002-4791-acd3-7d1ff3de3607')\"\n",
              "              title=\"Convert this dataframe to an interactive table.\"\n",
              "              style=\"display:none;\">\n",
              "        \n",
              "  <svg xmlns=\"http://www.w3.org/2000/svg\" height=\"24px\"viewBox=\"0 0 24 24\"\n",
              "       width=\"24px\">\n",
              "    <path d=\"M0 0h24v24H0V0z\" fill=\"none\"/>\n",
              "    <path d=\"M18.56 5.44l.94 2.06.94-2.06 2.06-.94-2.06-.94-.94-2.06-.94 2.06-2.06.94zm-11 1L8.5 8.5l.94-2.06 2.06-.94-2.06-.94L8.5 2.5l-.94 2.06-2.06.94zm10 10l.94 2.06.94-2.06 2.06-.94-2.06-.94-.94-2.06-.94 2.06-2.06.94z\"/><path d=\"M17.41 7.96l-1.37-1.37c-.4-.4-.92-.59-1.43-.59-.52 0-1.04.2-1.43.59L10.3 9.45l-7.72 7.72c-.78.78-.78 2.05 0 2.83L4 21.41c.39.39.9.59 1.41.59.51 0 1.02-.2 1.41-.59l7.78-7.78 2.81-2.81c.8-.78.8-2.07 0-2.86zM5.41 20L4 18.59l7.72-7.72 1.47 1.35L5.41 20z\"/>\n",
              "  </svg>\n",
              "      </button>\n",
              "      \n",
              "  <style>\n",
              "    .colab-df-container {\n",
              "      display:flex;\n",
              "      flex-wrap:wrap;\n",
              "      gap: 12px;\n",
              "    }\n",
              "\n",
              "    .colab-df-convert {\n",
              "      background-color: #E8F0FE;\n",
              "      border: none;\n",
              "      border-radius: 50%;\n",
              "      cursor: pointer;\n",
              "      display: none;\n",
              "      fill: #1967D2;\n",
              "      height: 32px;\n",
              "      padding: 0 0 0 0;\n",
              "      width: 32px;\n",
              "    }\n",
              "\n",
              "    .colab-df-convert:hover {\n",
              "      background-color: #E2EBFA;\n",
              "      box-shadow: 0px 1px 2px rgba(60, 64, 67, 0.3), 0px 1px 3px 1px rgba(60, 64, 67, 0.15);\n",
              "      fill: #174EA6;\n",
              "    }\n",
              "\n",
              "    [theme=dark] .colab-df-convert {\n",
              "      background-color: #3B4455;\n",
              "      fill: #D2E3FC;\n",
              "    }\n",
              "\n",
              "    [theme=dark] .colab-df-convert:hover {\n",
              "      background-color: #434B5C;\n",
              "      box-shadow: 0px 1px 3px 1px rgba(0, 0, 0, 0.15);\n",
              "      filter: drop-shadow(0px 1px 2px rgba(0, 0, 0, 0.3));\n",
              "      fill: #FFFFFF;\n",
              "    }\n",
              "  </style>\n",
              "\n",
              "      <script>\n",
              "        const buttonEl =\n",
              "          document.querySelector('#df-18165bc2-5002-4791-acd3-7d1ff3de3607 button.colab-df-convert');\n",
              "        buttonEl.style.display =\n",
              "          google.colab.kernel.accessAllowed ? 'block' : 'none';\n",
              "\n",
              "        async function convertToInteractive(key) {\n",
              "          const element = document.querySelector('#df-18165bc2-5002-4791-acd3-7d1ff3de3607');\n",
              "          const dataTable =\n",
              "            await google.colab.kernel.invokeFunction('convertToInteractive',\n",
              "                                                     [key], {});\n",
              "          if (!dataTable) return;\n",
              "\n",
              "          const docLinkHtml = 'Like what you see? Visit the ' +\n",
              "            '<a target=\"_blank\" href=https://colab.research.google.com/notebooks/data_table.ipynb>data table notebook</a>'\n",
              "            + ' to learn more about interactive tables.';\n",
              "          element.innerHTML = '';\n",
              "          dataTable['output_type'] = 'display_data';\n",
              "          await google.colab.output.renderOutput(dataTable, element);\n",
              "          const docLink = document.createElement('div');\n",
              "          docLink.innerHTML = docLinkHtml;\n",
              "          element.appendChild(docLink);\n",
              "        }\n",
              "      </script>\n",
              "    </div>\n",
              "  </div>\n",
              "  "
            ]
          },
          "metadata": {},
          "execution_count": 4
        }
      ]
    },
    {
      "cell_type": "code",
      "source": [
        "#checking for null values if any \n",
        "df.isnull().sum()"
      ],
      "metadata": {
        "colab": {
          "base_uri": "https://localhost:8080/"
        },
        "id": "uo4I7LuYicK3",
        "outputId": "294ddbfa-94a7-4e17-d050-1eee6c137b3c"
      },
      "execution_count": null,
      "outputs": [
        {
          "output_type": "execute_result",
          "data": {
            "text/plain": [
              "Airline            0\n",
              "Date_of_Journey    0\n",
              "Source             0\n",
              "Destination        0\n",
              "Route              1\n",
              "Dep_Time           0\n",
              "Arrival_Time       0\n",
              "Duration           0\n",
              "Total_Stops        1\n",
              "Additional_Info    0\n",
              "Price              0\n",
              "dtype: int64"
            ]
          },
          "metadata": {},
          "execution_count": 5
        }
      ]
    },
    {
      "cell_type": "markdown",
      "source": [
        "These empty values are quite low so dropping them"
      ],
      "metadata": {
        "id": "DzvpZwSPippy"
      }
    },
    {
      "cell_type": "code",
      "source": [
        "df.dropna(inplace = True)"
      ],
      "metadata": {
        "id": "qtlxM9lQim3f"
      },
      "execution_count": null,
      "outputs": []
    },
    {
      "cell_type": "markdown",
      "source": [
        "Dropping duplicates rows if any"
      ],
      "metadata": {
        "id": "Mp_kwLGijKG1"
      }
    },
    {
      "cell_type": "code",
      "source": [
        "df.drop_duplicates(inplace=True)"
      ],
      "metadata": {
        "id": "ngYaw3Ghi4e_"
      },
      "execution_count": null,
      "outputs": []
    },
    {
      "cell_type": "markdown",
      "source": [
        "Visualization"
      ],
      "metadata": {
        "id": "3qbV8qRBjcmP"
      }
    },
    {
      "cell_type": "markdown",
      "source": [
        "Converting the date and times"
      ],
      "metadata": {
        "id": "AVSeONgRu87n"
      }
    },
    {
      "cell_type": "code",
      "source": [
        "df[\"Journey_day\"] = pd.to_datetime(df.Date_of_Journey, format=\"%d/%m/%Y\").dt.day"
      ],
      "metadata": {
        "id": "ppBzqcpaku-f"
      },
      "execution_count": null,
      "outputs": []
    },
    {
      "cell_type": "code",
      "source": [
        "df[\"Journey_month\"] = pd.to_datetime(df[\"Date_of_Journey\"], format = \"%d/%m/%Y\").dt.month"
      ],
      "metadata": {
        "id": "Vky6Dh1Rup7c"
      },
      "execution_count": null,
      "outputs": []
    },
    {
      "cell_type": "code",
      "source": [
        "df.head()"
      ],
      "metadata": {
        "colab": {
          "base_uri": "https://localhost:8080/",
          "height": 206
        },
        "id": "NUk0waDwu4K0",
        "outputId": "34af8a59-b44d-47f6-ac3d-18d9bbeb0e08"
      },
      "execution_count": null,
      "outputs": [
        {
          "output_type": "execute_result",
          "data": {
            "text/plain": [
              "       Airline Date_of_Journey    Source Destination                  Route  \\\n",
              "0       IndiGo      24/03/2019  Banglore   New Delhi              BLR → DEL   \n",
              "1    Air India       1/05/2019   Kolkata    Banglore  CCU → IXR → BBI → BLR   \n",
              "2  Jet Airways       9/06/2019     Delhi      Cochin  DEL → LKO → BOM → COK   \n",
              "3       IndiGo      12/05/2019   Kolkata    Banglore        CCU → NAG → BLR   \n",
              "4       IndiGo      01/03/2019  Banglore   New Delhi        BLR → NAG → DEL   \n",
              "\n",
              "  Dep_Time  Arrival_Time Duration Total_Stops Additional_Info  Price  \\\n",
              "0    22:20  01:10 22 Mar   2h 50m    non-stop         No info   3897   \n",
              "1    05:50         13:15   7h 25m     2 stops         No info   7662   \n",
              "2    09:25  04:25 10 Jun      19h     2 stops         No info  13882   \n",
              "3    18:05         23:30   5h 25m      1 stop         No info   6218   \n",
              "4    16:50         21:35   4h 45m      1 stop         No info  13302   \n",
              "\n",
              "   Journey_day  Journey_month  \n",
              "0           24              3  \n",
              "1            1              5  \n",
              "2            9              6  \n",
              "3           12              5  \n",
              "4            1              3  "
            ],
            "text/html": [
              "\n",
              "  <div id=\"df-7f3bc088-a4e8-40fc-94cb-a3d068415a45\">\n",
              "    <div class=\"colab-df-container\">\n",
              "      <div>\n",
              "<style scoped>\n",
              "    .dataframe tbody tr th:only-of-type {\n",
              "        vertical-align: middle;\n",
              "    }\n",
              "\n",
              "    .dataframe tbody tr th {\n",
              "        vertical-align: top;\n",
              "    }\n",
              "\n",
              "    .dataframe thead th {\n",
              "        text-align: right;\n",
              "    }\n",
              "</style>\n",
              "<table border=\"1\" class=\"dataframe\">\n",
              "  <thead>\n",
              "    <tr style=\"text-align: right;\">\n",
              "      <th></th>\n",
              "      <th>Airline</th>\n",
              "      <th>Date_of_Journey</th>\n",
              "      <th>Source</th>\n",
              "      <th>Destination</th>\n",
              "      <th>Route</th>\n",
              "      <th>Dep_Time</th>\n",
              "      <th>Arrival_Time</th>\n",
              "      <th>Duration</th>\n",
              "      <th>Total_Stops</th>\n",
              "      <th>Additional_Info</th>\n",
              "      <th>Price</th>\n",
              "      <th>Journey_day</th>\n",
              "      <th>Journey_month</th>\n",
              "    </tr>\n",
              "  </thead>\n",
              "  <tbody>\n",
              "    <tr>\n",
              "      <th>0</th>\n",
              "      <td>IndiGo</td>\n",
              "      <td>24/03/2019</td>\n",
              "      <td>Banglore</td>\n",
              "      <td>New Delhi</td>\n",
              "      <td>BLR → DEL</td>\n",
              "      <td>22:20</td>\n",
              "      <td>01:10 22 Mar</td>\n",
              "      <td>2h 50m</td>\n",
              "      <td>non-stop</td>\n",
              "      <td>No info</td>\n",
              "      <td>3897</td>\n",
              "      <td>24</td>\n",
              "      <td>3</td>\n",
              "    </tr>\n",
              "    <tr>\n",
              "      <th>1</th>\n",
              "      <td>Air India</td>\n",
              "      <td>1/05/2019</td>\n",
              "      <td>Kolkata</td>\n",
              "      <td>Banglore</td>\n",
              "      <td>CCU → IXR → BBI → BLR</td>\n",
              "      <td>05:50</td>\n",
              "      <td>13:15</td>\n",
              "      <td>7h 25m</td>\n",
              "      <td>2 stops</td>\n",
              "      <td>No info</td>\n",
              "      <td>7662</td>\n",
              "      <td>1</td>\n",
              "      <td>5</td>\n",
              "    </tr>\n",
              "    <tr>\n",
              "      <th>2</th>\n",
              "      <td>Jet Airways</td>\n",
              "      <td>9/06/2019</td>\n",
              "      <td>Delhi</td>\n",
              "      <td>Cochin</td>\n",
              "      <td>DEL → LKO → BOM → COK</td>\n",
              "      <td>09:25</td>\n",
              "      <td>04:25 10 Jun</td>\n",
              "      <td>19h</td>\n",
              "      <td>2 stops</td>\n",
              "      <td>No info</td>\n",
              "      <td>13882</td>\n",
              "      <td>9</td>\n",
              "      <td>6</td>\n",
              "    </tr>\n",
              "    <tr>\n",
              "      <th>3</th>\n",
              "      <td>IndiGo</td>\n",
              "      <td>12/05/2019</td>\n",
              "      <td>Kolkata</td>\n",
              "      <td>Banglore</td>\n",
              "      <td>CCU → NAG → BLR</td>\n",
              "      <td>18:05</td>\n",
              "      <td>23:30</td>\n",
              "      <td>5h 25m</td>\n",
              "      <td>1 stop</td>\n",
              "      <td>No info</td>\n",
              "      <td>6218</td>\n",
              "      <td>12</td>\n",
              "      <td>5</td>\n",
              "    </tr>\n",
              "    <tr>\n",
              "      <th>4</th>\n",
              "      <td>IndiGo</td>\n",
              "      <td>01/03/2019</td>\n",
              "      <td>Banglore</td>\n",
              "      <td>New Delhi</td>\n",
              "      <td>BLR → NAG → DEL</td>\n",
              "      <td>16:50</td>\n",
              "      <td>21:35</td>\n",
              "      <td>4h 45m</td>\n",
              "      <td>1 stop</td>\n",
              "      <td>No info</td>\n",
              "      <td>13302</td>\n",
              "      <td>1</td>\n",
              "      <td>3</td>\n",
              "    </tr>\n",
              "  </tbody>\n",
              "</table>\n",
              "</div>\n",
              "      <button class=\"colab-df-convert\" onclick=\"convertToInteractive('df-7f3bc088-a4e8-40fc-94cb-a3d068415a45')\"\n",
              "              title=\"Convert this dataframe to an interactive table.\"\n",
              "              style=\"display:none;\">\n",
              "        \n",
              "  <svg xmlns=\"http://www.w3.org/2000/svg\" height=\"24px\"viewBox=\"0 0 24 24\"\n",
              "       width=\"24px\">\n",
              "    <path d=\"M0 0h24v24H0V0z\" fill=\"none\"/>\n",
              "    <path d=\"M18.56 5.44l.94 2.06.94-2.06 2.06-.94-2.06-.94-.94-2.06-.94 2.06-2.06.94zm-11 1L8.5 8.5l.94-2.06 2.06-.94-2.06-.94L8.5 2.5l-.94 2.06-2.06.94zm10 10l.94 2.06.94-2.06 2.06-.94-2.06-.94-.94-2.06-.94 2.06-2.06.94z\"/><path d=\"M17.41 7.96l-1.37-1.37c-.4-.4-.92-.59-1.43-.59-.52 0-1.04.2-1.43.59L10.3 9.45l-7.72 7.72c-.78.78-.78 2.05 0 2.83L4 21.41c.39.39.9.59 1.41.59.51 0 1.02-.2 1.41-.59l7.78-7.78 2.81-2.81c.8-.78.8-2.07 0-2.86zM5.41 20L4 18.59l7.72-7.72 1.47 1.35L5.41 20z\"/>\n",
              "  </svg>\n",
              "      </button>\n",
              "      \n",
              "  <style>\n",
              "    .colab-df-container {\n",
              "      display:flex;\n",
              "      flex-wrap:wrap;\n",
              "      gap: 12px;\n",
              "    }\n",
              "\n",
              "    .colab-df-convert {\n",
              "      background-color: #E8F0FE;\n",
              "      border: none;\n",
              "      border-radius: 50%;\n",
              "      cursor: pointer;\n",
              "      display: none;\n",
              "      fill: #1967D2;\n",
              "      height: 32px;\n",
              "      padding: 0 0 0 0;\n",
              "      width: 32px;\n",
              "    }\n",
              "\n",
              "    .colab-df-convert:hover {\n",
              "      background-color: #E2EBFA;\n",
              "      box-shadow: 0px 1px 2px rgba(60, 64, 67, 0.3), 0px 1px 3px 1px rgba(60, 64, 67, 0.15);\n",
              "      fill: #174EA6;\n",
              "    }\n",
              "\n",
              "    [theme=dark] .colab-df-convert {\n",
              "      background-color: #3B4455;\n",
              "      fill: #D2E3FC;\n",
              "    }\n",
              "\n",
              "    [theme=dark] .colab-df-convert:hover {\n",
              "      background-color: #434B5C;\n",
              "      box-shadow: 0px 1px 3px 1px rgba(0, 0, 0, 0.15);\n",
              "      filter: drop-shadow(0px 1px 2px rgba(0, 0, 0, 0.3));\n",
              "      fill: #FFFFFF;\n",
              "    }\n",
              "  </style>\n",
              "\n",
              "      <script>\n",
              "        const buttonEl =\n",
              "          document.querySelector('#df-7f3bc088-a4e8-40fc-94cb-a3d068415a45 button.colab-df-convert');\n",
              "        buttonEl.style.display =\n",
              "          google.colab.kernel.accessAllowed ? 'block' : 'none';\n",
              "\n",
              "        async function convertToInteractive(key) {\n",
              "          const element = document.querySelector('#df-7f3bc088-a4e8-40fc-94cb-a3d068415a45');\n",
              "          const dataTable =\n",
              "            await google.colab.kernel.invokeFunction('convertToInteractive',\n",
              "                                                     [key], {});\n",
              "          if (!dataTable) return;\n",
              "\n",
              "          const docLinkHtml = 'Like what you see? Visit the ' +\n",
              "            '<a target=\"_blank\" href=https://colab.research.google.com/notebooks/data_table.ipynb>data table notebook</a>'\n",
              "            + ' to learn more about interactive tables.';\n",
              "          element.innerHTML = '';\n",
              "          dataTable['output_type'] = 'display_data';\n",
              "          await google.colab.output.renderOutput(dataTable, element);\n",
              "          const docLink = document.createElement('div');\n",
              "          docLink.innerHTML = docLinkHtml;\n",
              "          element.appendChild(docLink);\n",
              "        }\n",
              "      </script>\n",
              "    </div>\n",
              "  </div>\n",
              "  "
            ]
          },
          "metadata": {},
          "execution_count": 10
        }
      ]
    },
    {
      "cell_type": "code",
      "source": [
        "#DAte 0f journey is now of no use so dropping it \n",
        "df.drop([\"Date_of_Journey\"], axis = 1, inplace = True)"
      ],
      "metadata": {
        "id": "oOguMzM-vB7j"
      },
      "execution_count": null,
      "outputs": []
    },
    {
      "cell_type": "code",
      "source": [
        "#converting the dep time into hours and minutes \n",
        "df['Dep_hour']=pd.to_datetime(df[\"Dep_Time\"]).dt.hour\n",
        "#extracting the minutes \n",
        "df['Dep_min']=pd.to_datetime(df[\"Dep_Time\"]).dt.minute\n",
        "\n",
        "#Now we can drop the date time and it is not of use \n",
        "df.drop([\"Dep_Time\"], axis = 1, inplace = True)"
      ],
      "metadata": {
        "id": "iOOO2UravW6A"
      },
      "execution_count": null,
      "outputs": []
    },
    {
      "cell_type": "code",
      "source": [
        "df.head()"
      ],
      "metadata": {
        "colab": {
          "base_uri": "https://localhost:8080/",
          "height": 206
        },
        "id": "cG2GyHzjwodK",
        "outputId": "812a0825-2b41-425d-db5f-16d99a3ea2f9"
      },
      "execution_count": null,
      "outputs": [
        {
          "output_type": "execute_result",
          "data": {
            "text/plain": [
              "       Airline    Source Destination                  Route  Arrival_Time  \\\n",
              "0       IndiGo  Banglore   New Delhi              BLR → DEL  01:10 22 Mar   \n",
              "1    Air India   Kolkata    Banglore  CCU → IXR → BBI → BLR         13:15   \n",
              "2  Jet Airways     Delhi      Cochin  DEL → LKO → BOM → COK  04:25 10 Jun   \n",
              "3       IndiGo   Kolkata    Banglore        CCU → NAG → BLR         23:30   \n",
              "4       IndiGo  Banglore   New Delhi        BLR → NAG → DEL         21:35   \n",
              "\n",
              "  Duration Total_Stops Additional_Info  Price  Journey_day  Journey_month  \\\n",
              "0   2h 50m    non-stop         No info   3897           24              3   \n",
              "1   7h 25m     2 stops         No info   7662            1              5   \n",
              "2      19h     2 stops         No info  13882            9              6   \n",
              "3   5h 25m      1 stop         No info   6218           12              5   \n",
              "4   4h 45m      1 stop         No info  13302            1              3   \n",
              "\n",
              "   Dep_hour  Dep_min  \n",
              "0        22       20  \n",
              "1         5       50  \n",
              "2         9       25  \n",
              "3        18        5  \n",
              "4        16       50  "
            ],
            "text/html": [
              "\n",
              "  <div id=\"df-329fd12f-181e-4206-bbd7-fb46511d48db\">\n",
              "    <div class=\"colab-df-container\">\n",
              "      <div>\n",
              "<style scoped>\n",
              "    .dataframe tbody tr th:only-of-type {\n",
              "        vertical-align: middle;\n",
              "    }\n",
              "\n",
              "    .dataframe tbody tr th {\n",
              "        vertical-align: top;\n",
              "    }\n",
              "\n",
              "    .dataframe thead th {\n",
              "        text-align: right;\n",
              "    }\n",
              "</style>\n",
              "<table border=\"1\" class=\"dataframe\">\n",
              "  <thead>\n",
              "    <tr style=\"text-align: right;\">\n",
              "      <th></th>\n",
              "      <th>Airline</th>\n",
              "      <th>Source</th>\n",
              "      <th>Destination</th>\n",
              "      <th>Route</th>\n",
              "      <th>Arrival_Time</th>\n",
              "      <th>Duration</th>\n",
              "      <th>Total_Stops</th>\n",
              "      <th>Additional_Info</th>\n",
              "      <th>Price</th>\n",
              "      <th>Journey_day</th>\n",
              "      <th>Journey_month</th>\n",
              "      <th>Dep_hour</th>\n",
              "      <th>Dep_min</th>\n",
              "    </tr>\n",
              "  </thead>\n",
              "  <tbody>\n",
              "    <tr>\n",
              "      <th>0</th>\n",
              "      <td>IndiGo</td>\n",
              "      <td>Banglore</td>\n",
              "      <td>New Delhi</td>\n",
              "      <td>BLR → DEL</td>\n",
              "      <td>01:10 22 Mar</td>\n",
              "      <td>2h 50m</td>\n",
              "      <td>non-stop</td>\n",
              "      <td>No info</td>\n",
              "      <td>3897</td>\n",
              "      <td>24</td>\n",
              "      <td>3</td>\n",
              "      <td>22</td>\n",
              "      <td>20</td>\n",
              "    </tr>\n",
              "    <tr>\n",
              "      <th>1</th>\n",
              "      <td>Air India</td>\n",
              "      <td>Kolkata</td>\n",
              "      <td>Banglore</td>\n",
              "      <td>CCU → IXR → BBI → BLR</td>\n",
              "      <td>13:15</td>\n",
              "      <td>7h 25m</td>\n",
              "      <td>2 stops</td>\n",
              "      <td>No info</td>\n",
              "      <td>7662</td>\n",
              "      <td>1</td>\n",
              "      <td>5</td>\n",
              "      <td>5</td>\n",
              "      <td>50</td>\n",
              "    </tr>\n",
              "    <tr>\n",
              "      <th>2</th>\n",
              "      <td>Jet Airways</td>\n",
              "      <td>Delhi</td>\n",
              "      <td>Cochin</td>\n",
              "      <td>DEL → LKO → BOM → COK</td>\n",
              "      <td>04:25 10 Jun</td>\n",
              "      <td>19h</td>\n",
              "      <td>2 stops</td>\n",
              "      <td>No info</td>\n",
              "      <td>13882</td>\n",
              "      <td>9</td>\n",
              "      <td>6</td>\n",
              "      <td>9</td>\n",
              "      <td>25</td>\n",
              "    </tr>\n",
              "    <tr>\n",
              "      <th>3</th>\n",
              "      <td>IndiGo</td>\n",
              "      <td>Kolkata</td>\n",
              "      <td>Banglore</td>\n",
              "      <td>CCU → NAG → BLR</td>\n",
              "      <td>23:30</td>\n",
              "      <td>5h 25m</td>\n",
              "      <td>1 stop</td>\n",
              "      <td>No info</td>\n",
              "      <td>6218</td>\n",
              "      <td>12</td>\n",
              "      <td>5</td>\n",
              "      <td>18</td>\n",
              "      <td>5</td>\n",
              "    </tr>\n",
              "    <tr>\n",
              "      <th>4</th>\n",
              "      <td>IndiGo</td>\n",
              "      <td>Banglore</td>\n",
              "      <td>New Delhi</td>\n",
              "      <td>BLR → NAG → DEL</td>\n",
              "      <td>21:35</td>\n",
              "      <td>4h 45m</td>\n",
              "      <td>1 stop</td>\n",
              "      <td>No info</td>\n",
              "      <td>13302</td>\n",
              "      <td>1</td>\n",
              "      <td>3</td>\n",
              "      <td>16</td>\n",
              "      <td>50</td>\n",
              "    </tr>\n",
              "  </tbody>\n",
              "</table>\n",
              "</div>\n",
              "      <button class=\"colab-df-convert\" onclick=\"convertToInteractive('df-329fd12f-181e-4206-bbd7-fb46511d48db')\"\n",
              "              title=\"Convert this dataframe to an interactive table.\"\n",
              "              style=\"display:none;\">\n",
              "        \n",
              "  <svg xmlns=\"http://www.w3.org/2000/svg\" height=\"24px\"viewBox=\"0 0 24 24\"\n",
              "       width=\"24px\">\n",
              "    <path d=\"M0 0h24v24H0V0z\" fill=\"none\"/>\n",
              "    <path d=\"M18.56 5.44l.94 2.06.94-2.06 2.06-.94-2.06-.94-.94-2.06-.94 2.06-2.06.94zm-11 1L8.5 8.5l.94-2.06 2.06-.94-2.06-.94L8.5 2.5l-.94 2.06-2.06.94zm10 10l.94 2.06.94-2.06 2.06-.94-2.06-.94-.94-2.06-.94 2.06-2.06.94z\"/><path d=\"M17.41 7.96l-1.37-1.37c-.4-.4-.92-.59-1.43-.59-.52 0-1.04.2-1.43.59L10.3 9.45l-7.72 7.72c-.78.78-.78 2.05 0 2.83L4 21.41c.39.39.9.59 1.41.59.51 0 1.02-.2 1.41-.59l7.78-7.78 2.81-2.81c.8-.78.8-2.07 0-2.86zM5.41 20L4 18.59l7.72-7.72 1.47 1.35L5.41 20z\"/>\n",
              "  </svg>\n",
              "      </button>\n",
              "      \n",
              "  <style>\n",
              "    .colab-df-container {\n",
              "      display:flex;\n",
              "      flex-wrap:wrap;\n",
              "      gap: 12px;\n",
              "    }\n",
              "\n",
              "    .colab-df-convert {\n",
              "      background-color: #E8F0FE;\n",
              "      border: none;\n",
              "      border-radius: 50%;\n",
              "      cursor: pointer;\n",
              "      display: none;\n",
              "      fill: #1967D2;\n",
              "      height: 32px;\n",
              "      padding: 0 0 0 0;\n",
              "      width: 32px;\n",
              "    }\n",
              "\n",
              "    .colab-df-convert:hover {\n",
              "      background-color: #E2EBFA;\n",
              "      box-shadow: 0px 1px 2px rgba(60, 64, 67, 0.3), 0px 1px 3px 1px rgba(60, 64, 67, 0.15);\n",
              "      fill: #174EA6;\n",
              "    }\n",
              "\n",
              "    [theme=dark] .colab-df-convert {\n",
              "      background-color: #3B4455;\n",
              "      fill: #D2E3FC;\n",
              "    }\n",
              "\n",
              "    [theme=dark] .colab-df-convert:hover {\n",
              "      background-color: #434B5C;\n",
              "      box-shadow: 0px 1px 3px 1px rgba(0, 0, 0, 0.15);\n",
              "      filter: drop-shadow(0px 1px 2px rgba(0, 0, 0, 0.3));\n",
              "      fill: #FFFFFF;\n",
              "    }\n",
              "  </style>\n",
              "\n",
              "      <script>\n",
              "        const buttonEl =\n",
              "          document.querySelector('#df-329fd12f-181e-4206-bbd7-fb46511d48db button.colab-df-convert');\n",
              "        buttonEl.style.display =\n",
              "          google.colab.kernel.accessAllowed ? 'block' : 'none';\n",
              "\n",
              "        async function convertToInteractive(key) {\n",
              "          const element = document.querySelector('#df-329fd12f-181e-4206-bbd7-fb46511d48db');\n",
              "          const dataTable =\n",
              "            await google.colab.kernel.invokeFunction('convertToInteractive',\n",
              "                                                     [key], {});\n",
              "          if (!dataTable) return;\n",
              "\n",
              "          const docLinkHtml = 'Like what you see? Visit the ' +\n",
              "            '<a target=\"_blank\" href=https://colab.research.google.com/notebooks/data_table.ipynb>data table notebook</a>'\n",
              "            + ' to learn more about interactive tables.';\n",
              "          element.innerHTML = '';\n",
              "          dataTable['output_type'] = 'display_data';\n",
              "          await google.colab.output.renderOutput(dataTable, element);\n",
              "          const docLink = document.createElement('div');\n",
              "          docLink.innerHTML = docLinkHtml;\n",
              "          element.appendChild(docLink);\n",
              "        }\n",
              "      </script>\n",
              "    </div>\n",
              "  </div>\n",
              "  "
            ]
          },
          "metadata": {},
          "execution_count": 13
        }
      ]
    },
    {
      "cell_type": "code",
      "source": [
        "# Arrival time is when the plane pulls up to the gate.\n",
        "# Similar to Date_of_Journey we can extract values from Arrival_Time\n",
        "\n",
        "# Extracting Hours\n",
        "df[\"Arrival_hour\"] = pd.to_datetime(df.Arrival_Time).dt.hour\n",
        "\n",
        "# Extracting Minutes\n",
        "df[\"Arrival_min\"] = pd.to_datetime(df.Arrival_Time).dt.minute\n",
        "\n",
        "# Now we can drop Arrival_Time as it is of no use\n",
        "df.drop([\"Arrival_Time\"], axis = 1, inplace = True)"
      ],
      "metadata": {
        "id": "RCErZ0iywqnc"
      },
      "execution_count": null,
      "outputs": []
    },
    {
      "cell_type": "code",
      "source": [
        "df.head()"
      ],
      "metadata": {
        "colab": {
          "base_uri": "https://localhost:8080/",
          "height": 250
        },
        "id": "Utiri2DpxN7n",
        "outputId": "f8df740b-889c-46ea-d12f-023a9ebb254d"
      },
      "execution_count": null,
      "outputs": [
        {
          "output_type": "execute_result",
          "data": {
            "text/plain": [
              "       Airline    Source Destination                  Route Duration  \\\n",
              "0       IndiGo  Banglore   New Delhi              BLR → DEL   2h 50m   \n",
              "1    Air India   Kolkata    Banglore  CCU → IXR → BBI → BLR   7h 25m   \n",
              "2  Jet Airways     Delhi      Cochin  DEL → LKO → BOM → COK      19h   \n",
              "3       IndiGo   Kolkata    Banglore        CCU → NAG → BLR   5h 25m   \n",
              "4       IndiGo  Banglore   New Delhi        BLR → NAG → DEL   4h 45m   \n",
              "\n",
              "  Total_Stops Additional_Info  Price  Journey_day  Journey_month  Dep_hour  \\\n",
              "0    non-stop         No info   3897           24              3        22   \n",
              "1     2 stops         No info   7662            1              5         5   \n",
              "2     2 stops         No info  13882            9              6         9   \n",
              "3      1 stop         No info   6218           12              5        18   \n",
              "4      1 stop         No info  13302            1              3        16   \n",
              "\n",
              "   Dep_min  Arrival_hour  Arrival_min  \n",
              "0       20             1           10  \n",
              "1       50            13           15  \n",
              "2       25             4           25  \n",
              "3        5            23           30  \n",
              "4       50            21           35  "
            ],
            "text/html": [
              "\n",
              "  <div id=\"df-f420d891-3d4b-4084-8cb5-a8c529529604\">\n",
              "    <div class=\"colab-df-container\">\n",
              "      <div>\n",
              "<style scoped>\n",
              "    .dataframe tbody tr th:only-of-type {\n",
              "        vertical-align: middle;\n",
              "    }\n",
              "\n",
              "    .dataframe tbody tr th {\n",
              "        vertical-align: top;\n",
              "    }\n",
              "\n",
              "    .dataframe thead th {\n",
              "        text-align: right;\n",
              "    }\n",
              "</style>\n",
              "<table border=\"1\" class=\"dataframe\">\n",
              "  <thead>\n",
              "    <tr style=\"text-align: right;\">\n",
              "      <th></th>\n",
              "      <th>Airline</th>\n",
              "      <th>Source</th>\n",
              "      <th>Destination</th>\n",
              "      <th>Route</th>\n",
              "      <th>Duration</th>\n",
              "      <th>Total_Stops</th>\n",
              "      <th>Additional_Info</th>\n",
              "      <th>Price</th>\n",
              "      <th>Journey_day</th>\n",
              "      <th>Journey_month</th>\n",
              "      <th>Dep_hour</th>\n",
              "      <th>Dep_min</th>\n",
              "      <th>Arrival_hour</th>\n",
              "      <th>Arrival_min</th>\n",
              "    </tr>\n",
              "  </thead>\n",
              "  <tbody>\n",
              "    <tr>\n",
              "      <th>0</th>\n",
              "      <td>IndiGo</td>\n",
              "      <td>Banglore</td>\n",
              "      <td>New Delhi</td>\n",
              "      <td>BLR → DEL</td>\n",
              "      <td>2h 50m</td>\n",
              "      <td>non-stop</td>\n",
              "      <td>No info</td>\n",
              "      <td>3897</td>\n",
              "      <td>24</td>\n",
              "      <td>3</td>\n",
              "      <td>22</td>\n",
              "      <td>20</td>\n",
              "      <td>1</td>\n",
              "      <td>10</td>\n",
              "    </tr>\n",
              "    <tr>\n",
              "      <th>1</th>\n",
              "      <td>Air India</td>\n",
              "      <td>Kolkata</td>\n",
              "      <td>Banglore</td>\n",
              "      <td>CCU → IXR → BBI → BLR</td>\n",
              "      <td>7h 25m</td>\n",
              "      <td>2 stops</td>\n",
              "      <td>No info</td>\n",
              "      <td>7662</td>\n",
              "      <td>1</td>\n",
              "      <td>5</td>\n",
              "      <td>5</td>\n",
              "      <td>50</td>\n",
              "      <td>13</td>\n",
              "      <td>15</td>\n",
              "    </tr>\n",
              "    <tr>\n",
              "      <th>2</th>\n",
              "      <td>Jet Airways</td>\n",
              "      <td>Delhi</td>\n",
              "      <td>Cochin</td>\n",
              "      <td>DEL → LKO → BOM → COK</td>\n",
              "      <td>19h</td>\n",
              "      <td>2 stops</td>\n",
              "      <td>No info</td>\n",
              "      <td>13882</td>\n",
              "      <td>9</td>\n",
              "      <td>6</td>\n",
              "      <td>9</td>\n",
              "      <td>25</td>\n",
              "      <td>4</td>\n",
              "      <td>25</td>\n",
              "    </tr>\n",
              "    <tr>\n",
              "      <th>3</th>\n",
              "      <td>IndiGo</td>\n",
              "      <td>Kolkata</td>\n",
              "      <td>Banglore</td>\n",
              "      <td>CCU → NAG → BLR</td>\n",
              "      <td>5h 25m</td>\n",
              "      <td>1 stop</td>\n",
              "      <td>No info</td>\n",
              "      <td>6218</td>\n",
              "      <td>12</td>\n",
              "      <td>5</td>\n",
              "      <td>18</td>\n",
              "      <td>5</td>\n",
              "      <td>23</td>\n",
              "      <td>30</td>\n",
              "    </tr>\n",
              "    <tr>\n",
              "      <th>4</th>\n",
              "      <td>IndiGo</td>\n",
              "      <td>Banglore</td>\n",
              "      <td>New Delhi</td>\n",
              "      <td>BLR → NAG → DEL</td>\n",
              "      <td>4h 45m</td>\n",
              "      <td>1 stop</td>\n",
              "      <td>No info</td>\n",
              "      <td>13302</td>\n",
              "      <td>1</td>\n",
              "      <td>3</td>\n",
              "      <td>16</td>\n",
              "      <td>50</td>\n",
              "      <td>21</td>\n",
              "      <td>35</td>\n",
              "    </tr>\n",
              "  </tbody>\n",
              "</table>\n",
              "</div>\n",
              "      <button class=\"colab-df-convert\" onclick=\"convertToInteractive('df-f420d891-3d4b-4084-8cb5-a8c529529604')\"\n",
              "              title=\"Convert this dataframe to an interactive table.\"\n",
              "              style=\"display:none;\">\n",
              "        \n",
              "  <svg xmlns=\"http://www.w3.org/2000/svg\" height=\"24px\"viewBox=\"0 0 24 24\"\n",
              "       width=\"24px\">\n",
              "    <path d=\"M0 0h24v24H0V0z\" fill=\"none\"/>\n",
              "    <path d=\"M18.56 5.44l.94 2.06.94-2.06 2.06-.94-2.06-.94-.94-2.06-.94 2.06-2.06.94zm-11 1L8.5 8.5l.94-2.06 2.06-.94-2.06-.94L8.5 2.5l-.94 2.06-2.06.94zm10 10l.94 2.06.94-2.06 2.06-.94-2.06-.94-.94-2.06-.94 2.06-2.06.94z\"/><path d=\"M17.41 7.96l-1.37-1.37c-.4-.4-.92-.59-1.43-.59-.52 0-1.04.2-1.43.59L10.3 9.45l-7.72 7.72c-.78.78-.78 2.05 0 2.83L4 21.41c.39.39.9.59 1.41.59.51 0 1.02-.2 1.41-.59l7.78-7.78 2.81-2.81c.8-.78.8-2.07 0-2.86zM5.41 20L4 18.59l7.72-7.72 1.47 1.35L5.41 20z\"/>\n",
              "  </svg>\n",
              "      </button>\n",
              "      \n",
              "  <style>\n",
              "    .colab-df-container {\n",
              "      display:flex;\n",
              "      flex-wrap:wrap;\n",
              "      gap: 12px;\n",
              "    }\n",
              "\n",
              "    .colab-df-convert {\n",
              "      background-color: #E8F0FE;\n",
              "      border: none;\n",
              "      border-radius: 50%;\n",
              "      cursor: pointer;\n",
              "      display: none;\n",
              "      fill: #1967D2;\n",
              "      height: 32px;\n",
              "      padding: 0 0 0 0;\n",
              "      width: 32px;\n",
              "    }\n",
              "\n",
              "    .colab-df-convert:hover {\n",
              "      background-color: #E2EBFA;\n",
              "      box-shadow: 0px 1px 2px rgba(60, 64, 67, 0.3), 0px 1px 3px 1px rgba(60, 64, 67, 0.15);\n",
              "      fill: #174EA6;\n",
              "    }\n",
              "\n",
              "    [theme=dark] .colab-df-convert {\n",
              "      background-color: #3B4455;\n",
              "      fill: #D2E3FC;\n",
              "    }\n",
              "\n",
              "    [theme=dark] .colab-df-convert:hover {\n",
              "      background-color: #434B5C;\n",
              "      box-shadow: 0px 1px 3px 1px rgba(0, 0, 0, 0.15);\n",
              "      filter: drop-shadow(0px 1px 2px rgba(0, 0, 0, 0.3));\n",
              "      fill: #FFFFFF;\n",
              "    }\n",
              "  </style>\n",
              "\n",
              "      <script>\n",
              "        const buttonEl =\n",
              "          document.querySelector('#df-f420d891-3d4b-4084-8cb5-a8c529529604 button.colab-df-convert');\n",
              "        buttonEl.style.display =\n",
              "          google.colab.kernel.accessAllowed ? 'block' : 'none';\n",
              "\n",
              "        async function convertToInteractive(key) {\n",
              "          const element = document.querySelector('#df-f420d891-3d4b-4084-8cb5-a8c529529604');\n",
              "          const dataTable =\n",
              "            await google.colab.kernel.invokeFunction('convertToInteractive',\n",
              "                                                     [key], {});\n",
              "          if (!dataTable) return;\n",
              "\n",
              "          const docLinkHtml = 'Like what you see? Visit the ' +\n",
              "            '<a target=\"_blank\" href=https://colab.research.google.com/notebooks/data_table.ipynb>data table notebook</a>'\n",
              "            + ' to learn more about interactive tables.';\n",
              "          element.innerHTML = '';\n",
              "          dataTable['output_type'] = 'display_data';\n",
              "          await google.colab.output.renderOutput(dataTable, element);\n",
              "          const docLink = document.createElement('div');\n",
              "          docLink.innerHTML = docLinkHtml;\n",
              "          element.appendChild(docLink);\n",
              "        }\n",
              "      </script>\n",
              "    </div>\n",
              "  </div>\n",
              "  "
            ]
          },
          "metadata": {},
          "execution_count": 15
        }
      ]
    },
    {
      "cell_type": "code",
      "source": [
        "# Assigning and converting Duration column into list\n",
        "duration = list(df[\"Duration\"])"
      ],
      "metadata": {
        "id": "v68C1uRvxQVy"
      },
      "execution_count": null,
      "outputs": []
    },
    {
      "cell_type": "code",
      "source": [
        "#takign the durations\n",
        "for i in range(len(duration)):\n",
        "    if len(duration[i].split()) != 2:    # Check if duration contains only hour or mins\n",
        "        if \"h\" in duration[i]:\n",
        "            duration[i] = duration[i].strip() + \" 0m\"   # Adds 0 minute\n",
        "        else:\n",
        "            duration[i] = \"0h \" + duration[i]           # Adds 0 hour\n",
        "\n",
        "duration_hours = []\n",
        "duration_mins = []\n",
        "for i in range(len(duration)):\n",
        "    duration_hours.append(int(duration[i].split(sep = \"h\")[0]))    # Extract hours from duration\n",
        "    duration_mins.append(int(duration[i].split(sep = \"m\")[0].split()[-1]))   # Extracts only minutes from duration"
      ],
      "metadata": {
        "id": "IlREQHKcxpX1"
      },
      "execution_count": null,
      "outputs": []
    },
    {
      "cell_type": "code",
      "source": [
        "df[\"Duration_hours\"] = duration_hours\n",
        "df[\"Duration_mins\"] = duration_mins"
      ],
      "metadata": {
        "id": "w_SyRaE-x6js"
      },
      "execution_count": null,
      "outputs": []
    },
    {
      "cell_type": "code",
      "source": [
        "df.drop([\"Duration\"], axis = 1, inplace = True)"
      ],
      "metadata": {
        "id": "7bm_D-L4yARV"
      },
      "execution_count": null,
      "outputs": []
    },
    {
      "cell_type": "code",
      "source": [
        "df.head()"
      ],
      "metadata": {
        "colab": {
          "base_uri": "https://localhost:8080/",
          "height": 441
        },
        "id": "552zYEn4yVTx",
        "outputId": "89e39da4-8b91-4bba-c411-28ea765b64c6"
      },
      "execution_count": null,
      "outputs": [
        {
          "output_type": "execute_result",
          "data": {
            "text/plain": [
              "       Airline    Source Destination                  Route Total_Stops  \\\n",
              "0       IndiGo  Banglore   New Delhi              BLR → DEL    non-stop   \n",
              "1    Air India   Kolkata    Banglore  CCU → IXR → BBI → BLR     2 stops   \n",
              "2  Jet Airways     Delhi      Cochin  DEL → LKO → BOM → COK     2 stops   \n",
              "3       IndiGo   Kolkata    Banglore        CCU → NAG → BLR      1 stop   \n",
              "4       IndiGo  Banglore   New Delhi        BLR → NAG → DEL      1 stop   \n",
              "\n",
              "  Additional_Info  Price  Journey_day  Journey_month  Dep_hour  Dep_min  \\\n",
              "0         No info   3897           24              3        22       20   \n",
              "1         No info   7662            1              5         5       50   \n",
              "2         No info  13882            9              6         9       25   \n",
              "3         No info   6218           12              5        18        5   \n",
              "4         No info  13302            1              3        16       50   \n",
              "\n",
              "   Arrival_hour  Arrival_min  Duration_hours  Duration_mins  \n",
              "0             1           10               2             50  \n",
              "1            13           15               7             25  \n",
              "2             4           25              19              0  \n",
              "3            23           30               5             25  \n",
              "4            21           35               4             45  "
            ],
            "text/html": [
              "\n",
              "  <div id=\"df-c1f402bc-9701-4b08-a8c3-bbea04eec7fb\">\n",
              "    <div class=\"colab-df-container\">\n",
              "      <div>\n",
              "<style scoped>\n",
              "    .dataframe tbody tr th:only-of-type {\n",
              "        vertical-align: middle;\n",
              "    }\n",
              "\n",
              "    .dataframe tbody tr th {\n",
              "        vertical-align: top;\n",
              "    }\n",
              "\n",
              "    .dataframe thead th {\n",
              "        text-align: right;\n",
              "    }\n",
              "</style>\n",
              "<table border=\"1\" class=\"dataframe\">\n",
              "  <thead>\n",
              "    <tr style=\"text-align: right;\">\n",
              "      <th></th>\n",
              "      <th>Airline</th>\n",
              "      <th>Source</th>\n",
              "      <th>Destination</th>\n",
              "      <th>Route</th>\n",
              "      <th>Total_Stops</th>\n",
              "      <th>Additional_Info</th>\n",
              "      <th>Price</th>\n",
              "      <th>Journey_day</th>\n",
              "      <th>Journey_month</th>\n",
              "      <th>Dep_hour</th>\n",
              "      <th>Dep_min</th>\n",
              "      <th>Arrival_hour</th>\n",
              "      <th>Arrival_min</th>\n",
              "      <th>Duration_hours</th>\n",
              "      <th>Duration_mins</th>\n",
              "    </tr>\n",
              "  </thead>\n",
              "  <tbody>\n",
              "    <tr>\n",
              "      <th>0</th>\n",
              "      <td>IndiGo</td>\n",
              "      <td>Banglore</td>\n",
              "      <td>New Delhi</td>\n",
              "      <td>BLR → DEL</td>\n",
              "      <td>non-stop</td>\n",
              "      <td>No info</td>\n",
              "      <td>3897</td>\n",
              "      <td>24</td>\n",
              "      <td>3</td>\n",
              "      <td>22</td>\n",
              "      <td>20</td>\n",
              "      <td>1</td>\n",
              "      <td>10</td>\n",
              "      <td>2</td>\n",
              "      <td>50</td>\n",
              "    </tr>\n",
              "    <tr>\n",
              "      <th>1</th>\n",
              "      <td>Air India</td>\n",
              "      <td>Kolkata</td>\n",
              "      <td>Banglore</td>\n",
              "      <td>CCU → IXR → BBI → BLR</td>\n",
              "      <td>2 stops</td>\n",
              "      <td>No info</td>\n",
              "      <td>7662</td>\n",
              "      <td>1</td>\n",
              "      <td>5</td>\n",
              "      <td>5</td>\n",
              "      <td>50</td>\n",
              "      <td>13</td>\n",
              "      <td>15</td>\n",
              "      <td>7</td>\n",
              "      <td>25</td>\n",
              "    </tr>\n",
              "    <tr>\n",
              "      <th>2</th>\n",
              "      <td>Jet Airways</td>\n",
              "      <td>Delhi</td>\n",
              "      <td>Cochin</td>\n",
              "      <td>DEL → LKO → BOM → COK</td>\n",
              "      <td>2 stops</td>\n",
              "      <td>No info</td>\n",
              "      <td>13882</td>\n",
              "      <td>9</td>\n",
              "      <td>6</td>\n",
              "      <td>9</td>\n",
              "      <td>25</td>\n",
              "      <td>4</td>\n",
              "      <td>25</td>\n",
              "      <td>19</td>\n",
              "      <td>0</td>\n",
              "    </tr>\n",
              "    <tr>\n",
              "      <th>3</th>\n",
              "      <td>IndiGo</td>\n",
              "      <td>Kolkata</td>\n",
              "      <td>Banglore</td>\n",
              "      <td>CCU → NAG → BLR</td>\n",
              "      <td>1 stop</td>\n",
              "      <td>No info</td>\n",
              "      <td>6218</td>\n",
              "      <td>12</td>\n",
              "      <td>5</td>\n",
              "      <td>18</td>\n",
              "      <td>5</td>\n",
              "      <td>23</td>\n",
              "      <td>30</td>\n",
              "      <td>5</td>\n",
              "      <td>25</td>\n",
              "    </tr>\n",
              "    <tr>\n",
              "      <th>4</th>\n",
              "      <td>IndiGo</td>\n",
              "      <td>Banglore</td>\n",
              "      <td>New Delhi</td>\n",
              "      <td>BLR → NAG → DEL</td>\n",
              "      <td>1 stop</td>\n",
              "      <td>No info</td>\n",
              "      <td>13302</td>\n",
              "      <td>1</td>\n",
              "      <td>3</td>\n",
              "      <td>16</td>\n",
              "      <td>50</td>\n",
              "      <td>21</td>\n",
              "      <td>35</td>\n",
              "      <td>4</td>\n",
              "      <td>45</td>\n",
              "    </tr>\n",
              "  </tbody>\n",
              "</table>\n",
              "</div>\n",
              "      <button class=\"colab-df-convert\" onclick=\"convertToInteractive('df-c1f402bc-9701-4b08-a8c3-bbea04eec7fb')\"\n",
              "              title=\"Convert this dataframe to an interactive table.\"\n",
              "              style=\"display:none;\">\n",
              "        \n",
              "  <svg xmlns=\"http://www.w3.org/2000/svg\" height=\"24px\"viewBox=\"0 0 24 24\"\n",
              "       width=\"24px\">\n",
              "    <path d=\"M0 0h24v24H0V0z\" fill=\"none\"/>\n",
              "    <path d=\"M18.56 5.44l.94 2.06.94-2.06 2.06-.94-2.06-.94-.94-2.06-.94 2.06-2.06.94zm-11 1L8.5 8.5l.94-2.06 2.06-.94-2.06-.94L8.5 2.5l-.94 2.06-2.06.94zm10 10l.94 2.06.94-2.06 2.06-.94-2.06-.94-.94-2.06-.94 2.06-2.06.94z\"/><path d=\"M17.41 7.96l-1.37-1.37c-.4-.4-.92-.59-1.43-.59-.52 0-1.04.2-1.43.59L10.3 9.45l-7.72 7.72c-.78.78-.78 2.05 0 2.83L4 21.41c.39.39.9.59 1.41.59.51 0 1.02-.2 1.41-.59l7.78-7.78 2.81-2.81c.8-.78.8-2.07 0-2.86zM5.41 20L4 18.59l7.72-7.72 1.47 1.35L5.41 20z\"/>\n",
              "  </svg>\n",
              "      </button>\n",
              "      \n",
              "  <style>\n",
              "    .colab-df-container {\n",
              "      display:flex;\n",
              "      flex-wrap:wrap;\n",
              "      gap: 12px;\n",
              "    }\n",
              "\n",
              "    .colab-df-convert {\n",
              "      background-color: #E8F0FE;\n",
              "      border: none;\n",
              "      border-radius: 50%;\n",
              "      cursor: pointer;\n",
              "      display: none;\n",
              "      fill: #1967D2;\n",
              "      height: 32px;\n",
              "      padding: 0 0 0 0;\n",
              "      width: 32px;\n",
              "    }\n",
              "\n",
              "    .colab-df-convert:hover {\n",
              "      background-color: #E2EBFA;\n",
              "      box-shadow: 0px 1px 2px rgba(60, 64, 67, 0.3), 0px 1px 3px 1px rgba(60, 64, 67, 0.15);\n",
              "      fill: #174EA6;\n",
              "    }\n",
              "\n",
              "    [theme=dark] .colab-df-convert {\n",
              "      background-color: #3B4455;\n",
              "      fill: #D2E3FC;\n",
              "    }\n",
              "\n",
              "    [theme=dark] .colab-df-convert:hover {\n",
              "      background-color: #434B5C;\n",
              "      box-shadow: 0px 1px 3px 1px rgba(0, 0, 0, 0.15);\n",
              "      filter: drop-shadow(0px 1px 2px rgba(0, 0, 0, 0.3));\n",
              "      fill: #FFFFFF;\n",
              "    }\n",
              "  </style>\n",
              "\n",
              "      <script>\n",
              "        const buttonEl =\n",
              "          document.querySelector('#df-c1f402bc-9701-4b08-a8c3-bbea04eec7fb button.colab-df-convert');\n",
              "        buttonEl.style.display =\n",
              "          google.colab.kernel.accessAllowed ? 'block' : 'none';\n",
              "\n",
              "        async function convertToInteractive(key) {\n",
              "          const element = document.querySelector('#df-c1f402bc-9701-4b08-a8c3-bbea04eec7fb');\n",
              "          const dataTable =\n",
              "            await google.colab.kernel.invokeFunction('convertToInteractive',\n",
              "                                                     [key], {});\n",
              "          if (!dataTable) return;\n",
              "\n",
              "          const docLinkHtml = 'Like what you see? Visit the ' +\n",
              "            '<a target=\"_blank\" href=https://colab.research.google.com/notebooks/data_table.ipynb>data table notebook</a>'\n",
              "            + ' to learn more about interactive tables.';\n",
              "          element.innerHTML = '';\n",
              "          dataTable['output_type'] = 'display_data';\n",
              "          await google.colab.output.renderOutput(dataTable, element);\n",
              "          const docLink = document.createElement('div');\n",
              "          docLink.innerHTML = docLinkHtml;\n",
              "          element.appendChild(docLink);\n",
              "        }\n",
              "      </script>\n",
              "    </div>\n",
              "  </div>\n",
              "  "
            ]
          },
          "metadata": {},
          "execution_count": 20
        }
      ]
    },
    {
      "cell_type": "markdown",
      "source": [
        "# Handling the categorical data"
      ],
      "metadata": {
        "id": "1792aAnuyjTW"
      }
    },
    {
      "cell_type": "code",
      "source": [
        "# Plotting Price vs Airline plot\n",
        "sns.catplot(y = \"Price\", x = \"Airline\", data = df.sort_values(\"Price\", ascending = False), kind=\"boxen\", height = 8, aspect = 3)\n",
        "plt.show()"
      ],
      "metadata": {
        "colab": {
          "base_uri": "https://localhost:8080/",
          "height": 484
        },
        "id": "zeb_NtFTjI8q",
        "outputId": "22b048f6-dff3-4ea5-e751-6b9e4b359b3f"
      },
      "execution_count": null,
      "outputs": [
        {
          "output_type": "display_data",
          "data": {
            "text/plain": [
              "<Figure size 1728x576 with 1 Axes>"
            ],
            "image/png": "[encoded data removed]"
          },
          "metadata": {
            "needs_background": "light"
          }
        }
      ]
    },
    {
      "cell_type": "markdown",
      "source": [
        "Airline is a Nominal categorical data as we can't assign them any order"
      ],
      "metadata": {
        "id": "Qf0L_zdDzIe_"
      }
    },
    {
      "cell_type": "code",
      "source": [
        "Airline = pd.get_dummies(df[[\"Airline\"]], drop_first= True)\n",
        "Airline.head()"
      ],
      "metadata": {
        "colab": {
          "base_uri": "https://localhost:8080/",
          "height": 285
        },
        "id": "2xElhraEyd0k",
        "outputId": "b504570e-a963-47dc-beba-6a0890d039d1"
      },
      "execution_count": null,
      "outputs": [
        {
          "output_type": "execute_result",
          "data": {
            "text/plain": [
              "   Airline_Air India  Airline_GoAir  Airline_IndiGo  Airline_Jet Airways  \\\n",
              "0                  0              0               1                    0   \n",
              "1                  1              0               0                    0   \n",
              "2                  0              0               0                    1   \n",
              "3                  0              0               1                    0   \n",
              "4                  0              0               1                    0   \n",
              "\n",
              "   Airline_Jet Airways Business  Airline_Multiple carriers  \\\n",
              "0                             0                          0   \n",
              "1                             0                          0   \n",
              "2                             0                          0   \n",
              "3                             0                          0   \n",
              "4                             0                          0   \n",
              "\n",
              "   Airline_Multiple carriers Premium economy  Airline_SpiceJet  \\\n",
              "0                                          0                 0   \n",
              "1                                          0                 0   \n",
              "2                                          0                 0   \n",
              "3                                          0                 0   \n",
              "4                                          0                 0   \n",
              "\n",
              "   Airline_Trujet  Airline_Vistara  Airline_Vistara Premium economy  \n",
              "0               0                0                                0  \n",
              "1               0                0                                0  \n",
              "2               0                0                                0  \n",
              "3               0                0                                0  \n",
              "4               0                0                                0  "
            ],
            "text/html": [
              "\n",
              "  <div id=\"df-a5306e82-721e-4a4e-b2b5-33d1ec384431\">\n",
              "    <div class=\"colab-df-container\">\n",
              "      <div>\n",
              "<style scoped>\n",
              "    .dataframe tbody tr th:only-of-type {\n",
              "        vertical-align: middle;\n",
              "    }\n",
              "\n",
              "    .dataframe tbody tr th {\n",
              "        vertical-align: top;\n",
              "    }\n",
              "\n",
              "    .dataframe thead th {\n",
              "        text-align: right;\n",
              "    }\n",
              "</style>\n",
              "<table border=\"1\" class=\"dataframe\">\n",
              "  <thead>\n",
              "    <tr style=\"text-align: right;\">\n",
              "      <th></th>\n",
              "      <th>Airline_Air India</th>\n",
              "      <th>Airline_GoAir</th>\n",
              "      <th>Airline_IndiGo</th>\n",
              "      <th>Airline_Jet Airways</th>\n",
              "      <th>Airline_Jet Airways Business</th>\n",
              "      <th>Airline_Multiple carriers</th>\n",
              "      <th>Airline_Multiple carriers Premium economy</th>\n",
              "      <th>Airline_SpiceJet</th>\n",
              "      <th>Airline_Trujet</th>\n",
              "      <th>Airline_Vistara</th>\n",
              "      <th>Airline_Vistara Premium economy</th>\n",
              "    </tr>\n",
              "  </thead>\n",
              "  <tbody>\n",
              "    <tr>\n",
              "      <th>0</th>\n",
              "      <td>0</td>\n",
              "      <td>0</td>\n",
              "      <td>1</td>\n",
              "      <td>0</td>\n",
              "      <td>0</td>\n",
              "      <td>0</td>\n",
              "      <td>0</td>\n",
              "      <td>0</td>\n",
              "      <td>0</td>\n",
              "      <td>0</td>\n",
              "      <td>0</td>\n",
              "    </tr>\n",
              "    <tr>\n",
              "      <th>1</th>\n",
              "      <td>1</td>\n",
              "      <td>0</td>\n",
              "      <td>0</td>\n",
              "      <td>0</td>\n",
              "      <td>0</td>\n",
              "      <td>0</td>\n",
              "      <td>0</td>\n",
              "      <td>0</td>\n",
              "      <td>0</td>\n",
              "      <td>0</td>\n",
              "      <td>0</td>\n",
              "    </tr>\n",
              "    <tr>\n",
              "      <th>2</th>\n",
              "      <td>0</td>\n",
              "      <td>0</td>\n",
              "      <td>0</td>\n",
              "      <td>1</td>\n",
              "      <td>0</td>\n",
              "      <td>0</td>\n",
              "      <td>0</td>\n",
              "      <td>0</td>\n",
              "      <td>0</td>\n",
              "      <td>0</td>\n",
              "      <td>0</td>\n",
              "    </tr>\n",
              "    <tr>\n",
              "      <th>3</th>\n",
              "      <td>0</td>\n",
              "      <td>0</td>\n",
              "      <td>1</td>\n",
              "      <td>0</td>\n",
              "      <td>0</td>\n",
              "      <td>0</td>\n",
              "      <td>0</td>\n",
              "      <td>0</td>\n",
              "      <td>0</td>\n",
              "      <td>0</td>\n",
              "      <td>0</td>\n",
              "    </tr>\n",
              "    <tr>\n",
              "      <th>4</th>\n",
              "      <td>0</td>\n",
              "      <td>0</td>\n",
              "      <td>1</td>\n",
              "      <td>0</td>\n",
              "      <td>0</td>\n",
              "      <td>0</td>\n",
              "      <td>0</td>\n",
              "      <td>0</td>\n",
              "      <td>0</td>\n",
              "      <td>0</td>\n",
              "      <td>0</td>\n",
              "    </tr>\n",
              "  </tbody>\n",
              "</table>\n",
              "</div>\n",
              "      <button class=\"colab-df-convert\" onclick=\"convertToInteractive('df-a5306e82-721e-4a4e-b2b5-33d1ec384431')\"\n",
              "              title=\"Convert this dataframe to an interactive table.\"\n",
              "              style=\"display:none;\">\n",
              "        \n",
              "  <svg xmlns=\"http://www.w3.org/2000/svg\" height=\"24px\"viewBox=\"0 0 24 24\"\n",
              "       width=\"24px\">\n",
              "    <path d=\"M0 0h24v24H0V0z\" fill=\"none\"/>\n",
              "    <path d=\"M18.56 5.44l.94 2.06.94-2.06 2.06-.94-2.06-.94-.94-2.06-.94 2.06-2.06.94zm-11 1L8.5 8.5l.94-2.06 2.06-.94-2.06-.94L8.5 2.5l-.94 2.06-2.06.94zm10 10l.94 2.06.94-2.06 2.06-.94-2.06-.94-.94-2.06-.94 2.06-2.06.94z\"/><path d=\"M17.41 7.96l-1.37-1.37c-.4-.4-.92-.59-1.43-.59-.52 0-1.04.2-1.43.59L10.3 9.45l-7.72 7.72c-.78.78-.78 2.05 0 2.83L4 21.41c.39.39.9.59 1.41.59.51 0 1.02-.2 1.41-.59l7.78-7.78 2.81-2.81c.8-.78.8-2.07 0-2.86zM5.41 20L4 18.59l7.72-7.72 1.47 1.35L5.41 20z\"/>\n",
              "  </svg>\n",
              "      </button>\n",
              "      \n",
              "  <style>\n",
              "    .colab-df-container {\n",
              "      display:flex;\n",
              "      flex-wrap:wrap;\n",
              "      gap: 12px;\n",
              "    }\n",
              "\n",
              "    .colab-df-convert {\n",
              "      background-color: #E8F0FE;\n",
              "      border: none;\n",
              "      border-radius: 50%;\n",
              "      cursor: pointer;\n",
              "      display: none;\n",
              "      fill: #1967D2;\n",
              "      height: 32px;\n",
              "      padding: 0 0 0 0;\n",
              "      width: 32px;\n",
              "    }\n",
              "\n",
              "    .colab-df-convert:hover {\n",
              "      background-color: #E2EBFA;\n",
              "      box-shadow: 0px 1px 2px rgba(60, 64, 67, 0.3), 0px 1px 3px 1px rgba(60, 64, 67, 0.15);\n",
              "      fill: #174EA6;\n",
              "    }\n",
              "\n",
              "    [theme=dark] .colab-df-convert {\n",
              "      background-color: #3B4455;\n",
              "      fill: #D2E3FC;\n",
              "    }\n",
              "\n",
              "    [theme=dark] .colab-df-convert:hover {\n",
              "      background-color: #434B5C;\n",
              "      box-shadow: 0px 1px 3px 1px rgba(0, 0, 0, 0.15);\n",
              "      filter: drop-shadow(0px 1px 2px rgba(0, 0, 0, 0.3));\n",
              "      fill: #FFFFFF;\n",
              "    }\n",
              "  </style>\n",
              "\n",
              "      <script>\n",
              "        const buttonEl =\n",
              "          document.querySelector('#df-a5306e82-721e-4a4e-b2b5-33d1ec384431 button.colab-df-convert');\n",
              "        buttonEl.style.display =\n",
              "          google.colab.kernel.accessAllowed ? 'block' : 'none';\n",
              "\n",
              "        async function convertToInteractive(key) {\n",
              "          const element = document.querySelector('#df-a5306e82-721e-4a4e-b2b5-33d1ec384431');\n",
              "          const dataTable =\n",
              "            await google.colab.kernel.invokeFunction('convertToInteractive',\n",
              "                                                     [key], {});\n",
              "          if (!dataTable) return;\n",
              "\n",
              "          const docLinkHtml = 'Like what you see? Visit the ' +\n",
              "            '<a target=\"_blank\" href=https://colab.research.google.com/notebooks/data_table.ipynb>data table notebook</a>'\n",
              "            + ' to learn more about interactive tables.';\n",
              "          element.innerHTML = '';\n",
              "          dataTable['output_type'] = 'display_data';\n",
              "          await google.colab.output.renderOutput(dataTable, element);\n",
              "          const docLink = document.createElement('div');\n",
              "          docLink.innerHTML = docLinkHtml;\n",
              "          element.appendChild(docLink);\n",
              "        }\n",
              "      </script>\n",
              "    </div>\n",
              "  </div>\n",
              "  "
            ]
          },
          "metadata": {},
          "execution_count": 22
        }
      ]
    },
    {
      "cell_type": "code",
      "source": [
        "df[[\"Source\"]].value_counts()"
      ],
      "metadata": {
        "colab": {
          "base_uri": "https://localhost:8080/"
        },
        "id": "RYWKDHc0zZSm",
        "outputId": "367615a6-faef-4a9e-dcdf-de1036342638"
      },
      "execution_count": null,
      "outputs": [
        {
          "output_type": "execute_result",
          "data": {
            "text/plain": [
              "Source  \n",
              "Delhi       4345\n",
              "Kolkata     2860\n",
              "Banglore    2179\n",
              "Mumbai       697\n",
              "Chennai      381\n",
              "dtype: int64"
            ]
          },
          "metadata": {},
          "execution_count": 23
        }
      ]
    },
    {
      "cell_type": "code",
      "source": [
        "# Plotting Violin plot for Price vs Source\n",
        "sns.catplot(y = \"Price\", x = \"Source\", data = df.sort_values(\"Price\", ascending = False), kind=\"violin\", height = 4, aspect = 3)\n",
        "plt.show()"
      ],
      "metadata": {
        "colab": {
          "base_uri": "https://localhost:8080/",
          "height": 297
        },
        "id": "c6NzHmjSjgQx",
        "outputId": "dc2517cf-da3d-44fb-856c-4bf5baea359d"
      },
      "execution_count": null,
      "outputs": [
        {
          "output_type": "display_data",
          "data": {
            "text/plain": [
              "<Figure size 864x288 with 1 Axes>"
            ],
            "image/png": "[encoded data removed]"
          },
          "metadata": {
            "needs_background": "light"
          }
        }
      ]
    },
    {
      "cell_type": "markdown",
      "source": [
        "Source is a Nominal categorical data as we can't assign them any order"
      ],
      "metadata": {
        "id": "Ylh9Wa6DzvbW"
      }
    },
    {
      "cell_type": "code",
      "source": [
        "Source = pd.get_dummies(df[[\"Source\"]], drop_first= True)\n",
        "\n",
        "Source.head()"
      ],
      "metadata": {
        "colab": {
          "base_uri": "https://localhost:8080/",
          "height": 206
        },
        "id": "d1m_vz9gzkAF",
        "outputId": "6b46bbcf-4ed3-47b7-bccb-4c5bb7f34e74"
      },
      "execution_count": null,
      "outputs": [
        {
          "output_type": "execute_result",
          "data": {
            "text/plain": [
              "   Source_Chennai  Source_Delhi  Source_Kolkata  Source_Mumbai\n",
              "0               0             0               0              0\n",
              "1               0             0               1              0\n",
              "2               0             1               0              0\n",
              "3               0             0               1              0\n",
              "4               0             0               0              0"
            ],
            "text/html": [
              "\n",
              "  <div id=\"df-08d45419-5f24-48f4-a6dd-0c17309c7cbc\">\n",
              "    <div class=\"colab-df-container\">\n",
              "      <div>\n",
              "<style scoped>\n",
              "    .dataframe tbody tr th:only-of-type {\n",
              "        vertical-align: middle;\n",
              "    }\n",
              "\n",
              "    .dataframe tbody tr th {\n",
              "        vertical-align: top;\n",
              "    }\n",
              "\n",
              "    .dataframe thead th {\n",
              "        text-align: right;\n",
              "    }\n",
              "</style>\n",
              "<table border=\"1\" class=\"dataframe\">\n",
              "  <thead>\n",
              "    <tr style=\"text-align: right;\">\n",
              "      <th></th>\n",
              "      <th>Source_Chennai</th>\n",
              "      <th>Source_Delhi</th>\n",
              "      <th>Source_Kolkata</th>\n",
              "      <th>Source_Mumbai</th>\n",
              "    </tr>\n",
              "  </thead>\n",
              "  <tbody>\n",
              "    <tr>\n",
              "      <th>0</th>\n",
              "      <td>0</td>\n",
              "      <td>0</td>\n",
              "      <td>0</td>\n",
              "      <td>0</td>\n",
              "    </tr>\n",
              "    <tr>\n",
              "      <th>1</th>\n",
              "      <td>0</td>\n",
              "      <td>0</td>\n",
              "      <td>1</td>\n",
              "      <td>0</td>\n",
              "    </tr>\n",
              "    <tr>\n",
              "      <th>2</th>\n",
              "      <td>0</td>\n",
              "      <td>1</td>\n",
              "      <td>0</td>\n",
              "      <td>0</td>\n",
              "    </tr>\n",
              "    <tr>\n",
              "      <th>3</th>\n",
              "      <td>0</td>\n",
              "      <td>0</td>\n",
              "      <td>1</td>\n",
              "      <td>0</td>\n",
              "    </tr>\n",
              "    <tr>\n",
              "      <th>4</th>\n",
              "      <td>0</td>\n",
              "      <td>0</td>\n",
              "      <td>0</td>\n",
              "      <td>0</td>\n",
              "    </tr>\n",
              "  </tbody>\n",
              "</table>\n",
              "</div>\n",
              "      <button class=\"colab-df-convert\" onclick=\"convertToInteractive('df-08d45419-5f24-48f4-a6dd-0c17309c7cbc')\"\n",
              "              title=\"Convert this dataframe to an interactive table.\"\n",
              "              style=\"display:none;\">\n",
              "        \n",
              "  <svg xmlns=\"http://www.w3.org/2000/svg\" height=\"24px\"viewBox=\"0 0 24 24\"\n",
              "       width=\"24px\">\n",
              "    <path d=\"M0 0h24v24H0V0z\" fill=\"none\"/>\n",
              "    <path d=\"M18.56 5.44l.94 2.06.94-2.06 2.06-.94-2.06-.94-.94-2.06-.94 2.06-2.06.94zm-11 1L8.5 8.5l.94-2.06 2.06-.94-2.06-.94L8.5 2.5l-.94 2.06-2.06.94zm10 10l.94 2.06.94-2.06 2.06-.94-2.06-.94-.94-2.06-.94 2.06-2.06.94z\"/><path d=\"M17.41 7.96l-1.37-1.37c-.4-.4-.92-.59-1.43-.59-.52 0-1.04.2-1.43.59L10.3 9.45l-7.72 7.72c-.78.78-.78 2.05 0 2.83L4 21.41c.39.39.9.59 1.41.59.51 0 1.02-.2 1.41-.59l7.78-7.78 2.81-2.81c.8-.78.8-2.07 0-2.86zM5.41 20L4 18.59l7.72-7.72 1.47 1.35L5.41 20z\"/>\n",
              "  </svg>\n",
              "      </button>\n",
              "      \n",
              "  <style>\n",
              "    .colab-df-container {\n",
              "      display:flex;\n",
              "      flex-wrap:wrap;\n",
              "      gap: 12px;\n",
              "    }\n",
              "\n",
              "    .colab-df-convert {\n",
              "      background-color: #E8F0FE;\n",
              "      border: none;\n",
              "      border-radius: 50%;\n",
              "      cursor: pointer;\n",
              "      display: none;\n",
              "      fill: #1967D2;\n",
              "      height: 32px;\n",
              "      padding: 0 0 0 0;\n",
              "      width: 32px;\n",
              "    }\n",
              "\n",
              "    .colab-df-convert:hover {\n",
              "      background-color: #E2EBFA;\n",
              "      box-shadow: 0px 1px 2px rgba(60, 64, 67, 0.3), 0px 1px 3px 1px rgba(60, 64, 67, 0.15);\n",
              "      fill: #174EA6;\n",
              "    }\n",
              "\n",
              "    [theme=dark] .colab-df-convert {\n",
              "      background-color: #3B4455;\n",
              "      fill: #D2E3FC;\n",
              "    }\n",
              "\n",
              "    [theme=dark] .colab-df-convert:hover {\n",
              "      background-color: #434B5C;\n",
              "      box-shadow: 0px 1px 3px 1px rgba(0, 0, 0, 0.15);\n",
              "      filter: drop-shadow(0px 1px 2px rgba(0, 0, 0, 0.3));\n",
              "      fill: #FFFFFF;\n",
              "    }\n",
              "  </style>\n",
              "\n",
              "      <script>\n",
              "        const buttonEl =\n",
              "          document.querySelector('#df-08d45419-5f24-48f4-a6dd-0c17309c7cbc button.colab-df-convert');\n",
              "        buttonEl.style.display =\n",
              "          google.colab.kernel.accessAllowed ? 'block' : 'none';\n",
              "\n",
              "        async function convertToInteractive(key) {\n",
              "          const element = document.querySelector('#df-08d45419-5f24-48f4-a6dd-0c17309c7cbc');\n",
              "          const dataTable =\n",
              "            await google.colab.kernel.invokeFunction('convertToInteractive',\n",
              "                                                     [key], {});\n",
              "          if (!dataTable) return;\n",
              "\n",
              "          const docLinkHtml = 'Like what you see? Visit the ' +\n",
              "            '<a target=\"_blank\" href=https://colab.research.google.com/notebooks/data_table.ipynb>data table notebook</a>'\n",
              "            + ' to learn more about interactive tables.';\n",
              "          element.innerHTML = '';\n",
              "          dataTable['output_type'] = 'display_data';\n",
              "          await google.colab.output.renderOutput(dataTable, element);\n",
              "          const docLink = document.createElement('div');\n",
              "          docLink.innerHTML = docLinkHtml;\n",
              "          element.appendChild(docLink);\n",
              "        }\n",
              "      </script>\n",
              "    </div>\n",
              "  </div>\n",
              "  "
            ]
          },
          "metadata": {},
          "execution_count": 25
        }
      ]
    },
    {
      "cell_type": "code",
      "source": [
        "df[\"Destination\"].value_counts()"
      ],
      "metadata": {
        "colab": {
          "base_uri": "https://localhost:8080/"
        },
        "id": "fk6StxZJz5rz",
        "outputId": "d594a293-55ad-4913-b624-f4c3c5fe47d1"
      },
      "execution_count": null,
      "outputs": [
        {
          "output_type": "execute_result",
          "data": {
            "text/plain": [
              "Cochin       4345\n",
              "Banglore     2860\n",
              "Delhi        1265\n",
              "New Delhi     914\n",
              "Hyderabad     697\n",
              "Kolkata       381\n",
              "Name: Destination, dtype: int64"
            ]
          },
          "metadata": {},
          "execution_count": 26
        }
      ]
    },
    {
      "cell_type": "markdown",
      "source": [
        "Source is a Nominal categorical data as we can't assign them any order"
      ],
      "metadata": {
        "id": "e7TfU-Ex0GXu"
      }
    },
    {
      "cell_type": "code",
      "source": [
        "Destination = pd.get_dummies(df[[\"Destination\"]], drop_first = True)\n",
        "Destination.head()"
      ],
      "metadata": {
        "colab": {
          "base_uri": "https://localhost:8080/",
          "height": 206
        },
        "id": "pfPKhKlMz9ZD",
        "outputId": "0eea4b41-17e8-4263-8d77-b9dcf6b45848"
      },
      "execution_count": null,
      "outputs": [
        {
          "output_type": "execute_result",
          "data": {
            "text/plain": [
              "   Destination_Cochin  Destination_Delhi  Destination_Hyderabad  \\\n",
              "0                   0                  0                      0   \n",
              "1                   0                  0                      0   \n",
              "2                   1                  0                      0   \n",
              "3                   0                  0                      0   \n",
              "4                   0                  0                      0   \n",
              "\n",
              "   Destination_Kolkata  Destination_New Delhi  \n",
              "0                    0                      1  \n",
              "1                    0                      0  \n",
              "2                    0                      0  \n",
              "3                    0                      0  \n",
              "4                    0                      1  "
            ],
            "text/html": [
              "\n",
              "  <div id=\"df-5b5197e2-6ff1-4a35-a3dd-505608157ff3\">\n",
              "    <div class=\"colab-df-container\">\n",
              "      <div>\n",
              "<style scoped>\n",
              "    .dataframe tbody tr th:only-of-type {\n",
              "        vertical-align: middle;\n",
              "    }\n",
              "\n",
              "    .dataframe tbody tr th {\n",
              "        vertical-align: top;\n",
              "    }\n",
              "\n",
              "    .dataframe thead th {\n",
              "        text-align: right;\n",
              "    }\n",
              "</style>\n",
              "<table border=\"1\" class=\"dataframe\">\n",
              "  <thead>\n",
              "    <tr style=\"text-align: right;\">\n",
              "      <th></th>\n",
              "      <th>Destination_Cochin</th>\n",
              "      <th>Destination_Delhi</th>\n",
              "      <th>Destination_Hyderabad</th>\n",
              "      <th>Destination_Kolkata</th>\n",
              "      <th>Destination_New Delhi</th>\n",
              "    </tr>\n",
              "  </thead>\n",
              "  <tbody>\n",
              "    <tr>\n",
              "      <th>0</th>\n",
              "      <td>0</td>\n",
              "      <td>0</td>\n",
              "      <td>0</td>\n",
              "      <td>0</td>\n",
              "      <td>1</td>\n",
              "    </tr>\n",
              "    <tr>\n",
              "      <th>1</th>\n",
              "      <td>0</td>\n",
              "      <td>0</td>\n",
              "      <td>0</td>\n",
              "      <td>0</td>\n",
              "      <td>0</td>\n",
              "    </tr>\n",
              "    <tr>\n",
              "      <th>2</th>\n",
              "      <td>1</td>\n",
              "      <td>0</td>\n",
              "      <td>0</td>\n",
              "      <td>0</td>\n",
              "      <td>0</td>\n",
              "    </tr>\n",
              "    <tr>\n",
              "      <th>3</th>\n",
              "      <td>0</td>\n",
              "      <td>0</td>\n",
              "      <td>0</td>\n",
              "      <td>0</td>\n",
              "      <td>0</td>\n",
              "    </tr>\n",
              "    <tr>\n",
              "      <th>4</th>\n",
              "      <td>0</td>\n",
              "      <td>0</td>\n",
              "      <td>0</td>\n",
              "      <td>0</td>\n",
              "      <td>1</td>\n",
              "    </tr>\n",
              "  </tbody>\n",
              "</table>\n",
              "</div>\n",
              "      <button class=\"colab-df-convert\" onclick=\"convertToInteractive('df-5b5197e2-6ff1-4a35-a3dd-505608157ff3')\"\n",
              "              title=\"Convert this dataframe to an interactive table.\"\n",
              "              style=\"display:none;\">\n",
              "        \n",
              "  <svg xmlns=\"http://www.w3.org/2000/svg\" height=\"24px\"viewBox=\"0 0 24 24\"\n",
              "       width=\"24px\">\n",
              "    <path d=\"M0 0h24v24H0V0z\" fill=\"none\"/>\n",
              "    <path d=\"M18.56 5.44l.94 2.06.94-2.06 2.06-.94-2.06-.94-.94-2.06-.94 2.06-2.06.94zm-11 1L8.5 8.5l.94-2.06 2.06-.94-2.06-.94L8.5 2.5l-.94 2.06-2.06.94zm10 10l.94 2.06.94-2.06 2.06-.94-2.06-.94-.94-2.06-.94 2.06-2.06.94z\"/><path d=\"M17.41 7.96l-1.37-1.37c-.4-.4-.92-.59-1.43-.59-.52 0-1.04.2-1.43.59L10.3 9.45l-7.72 7.72c-.78.78-.78 2.05 0 2.83L4 21.41c.39.39.9.59 1.41.59.51 0 1.02-.2 1.41-.59l7.78-7.78 2.81-2.81c.8-.78.8-2.07 0-2.86zM5.41 20L4 18.59l7.72-7.72 1.47 1.35L5.41 20z\"/>\n",
              "  </svg>\n",
              "      </button>\n",
              "      \n",
              "  <style>\n",
              "    .colab-df-container {\n",
              "      display:flex;\n",
              "      flex-wrap:wrap;\n",
              "      gap: 12px;\n",
              "    }\n",
              "\n",
              "    .colab-df-convert {\n",
              "      background-color: #E8F0FE;\n",
              "      border: none;\n",
              "      border-radius: 50%;\n",
              "      cursor: pointer;\n",
              "      display: none;\n",
              "      fill: #1967D2;\n",
              "      height: 32px;\n",
              "      padding: 0 0 0 0;\n",
              "      width: 32px;\n",
              "    }\n",
              "\n",
              "    .colab-df-convert:hover {\n",
              "      background-color: #E2EBFA;\n",
              "      box-shadow: 0px 1px 2px rgba(60, 64, 67, 0.3), 0px 1px 3px 1px rgba(60, 64, 67, 0.15);\n",
              "      fill: #174EA6;\n",
              "    }\n",
              "\n",
              "    [theme=dark] .colab-df-convert {\n",
              "      background-color: #3B4455;\n",
              "      fill: #D2E3FC;\n",
              "    }\n",
              "\n",
              "    [theme=dark] .colab-df-convert:hover {\n",
              "      background-color: #434B5C;\n",
              "      box-shadow: 0px 1px 3px 1px rgba(0, 0, 0, 0.15);\n",
              "      filter: drop-shadow(0px 1px 2px rgba(0, 0, 0, 0.3));\n",
              "      fill: #FFFFFF;\n",
              "    }\n",
              "  </style>\n",
              "\n",
              "      <script>\n",
              "        const buttonEl =\n",
              "          document.querySelector('#df-5b5197e2-6ff1-4a35-a3dd-505608157ff3 button.colab-df-convert');\n",
              "        buttonEl.style.display =\n",
              "          google.colab.kernel.accessAllowed ? 'block' : 'none';\n",
              "\n",
              "        async function convertToInteractive(key) {\n",
              "          const element = document.querySelector('#df-5b5197e2-6ff1-4a35-a3dd-505608157ff3');\n",
              "          const dataTable =\n",
              "            await google.colab.kernel.invokeFunction('convertToInteractive',\n",
              "                                                     [key], {});\n",
              "          if (!dataTable) return;\n",
              "\n",
              "          const docLinkHtml = 'Like what you see? Visit the ' +\n",
              "            '<a target=\"_blank\" href=https://colab.research.google.com/notebooks/data_table.ipynb>data table notebook</a>'\n",
              "            + ' to learn more about interactive tables.';\n",
              "          element.innerHTML = '';\n",
              "          dataTable['output_type'] = 'display_data';\n",
              "          await google.colab.output.renderOutput(dataTable, element);\n",
              "          const docLink = document.createElement('div');\n",
              "          docLink.innerHTML = docLinkHtml;\n",
              "          element.appendChild(docLink);\n",
              "        }\n",
              "      </script>\n",
              "    </div>\n",
              "  </div>\n",
              "  "
            ]
          },
          "metadata": {},
          "execution_count": 27
        }
      ]
    },
    {
      "cell_type": "code",
      "source": [
        "# Additional_Info contains almost 80% no_info\n",
        "# Route and Total_Stops are related to each other\n",
        "\n",
        "df.drop([\"Route\", \"Additional_Info\"],axis = 1,inplace = True)"
      ],
      "metadata": {
        "id": "6K4HZyDQ0VUD"
      },
      "execution_count": null,
      "outputs": []
    },
    {
      "cell_type": "code",
      "source": [
        "df.replace({\"non-stop\": 0, \"1 stop\": 1, \"2 stops\": 2, \"3 stops\": 3, \"4 stops\": 4},inplace = True)"
      ],
      "metadata": {
        "id": "NKMlbZ8Q0dp-"
      },
      "execution_count": null,
      "outputs": []
    },
    {
      "cell_type": "code",
      "source": [
        "df.head()"
      ],
      "metadata": {
        "colab": {
          "base_uri": "https://localhost:8080/",
          "height": 206
        },
        "id": "i0K1g-Si050x",
        "outputId": "c424ec05-004a-44ce-a98e-b7b35c7bbe3f"
      },
      "execution_count": null,
      "outputs": [
        {
          "output_type": "execute_result",
          "data": {
            "text/plain": [
              "       Airline    Source Destination  Total_Stops  Price  Journey_day  \\\n",
              "0       IndiGo  Banglore   New Delhi            0   3897           24   \n",
              "1    Air India   Kolkata    Banglore            2   7662            1   \n",
              "2  Jet Airways     Delhi      Cochin            2  13882            9   \n",
              "3       IndiGo   Kolkata    Banglore            1   6218           12   \n",
              "4       IndiGo  Banglore   New Delhi            1  13302            1   \n",
              "\n",
              "   Journey_month  Dep_hour  Dep_min  Arrival_hour  Arrival_min  \\\n",
              "0              3        22       20             1           10   \n",
              "1              5         5       50            13           15   \n",
              "2              6         9       25             4           25   \n",
              "3              5        18        5            23           30   \n",
              "4              3        16       50            21           35   \n",
              "\n",
              "   Duration_hours  Duration_mins  \n",
              "0               2             50  \n",
              "1               7             25  \n",
              "2              19              0  \n",
              "3               5             25  \n",
              "4               4             45  "
            ],
            "text/html": [
              "\n",
              "  <div id=\"df-a13395c5-dffb-47b7-ac59-d224d69b9c17\">\n",
              "    <div class=\"colab-df-container\">\n",
              "      <div>\n",
              "<style scoped>\n",
              "    .dataframe tbody tr th:only-of-type {\n",
              "        vertical-align: middle;\n",
              "    }\n",
              "\n",
              "    .dataframe tbody tr th {\n",
              "        vertical-align: top;\n",
              "    }\n",
              "\n",
              "    .dataframe thead th {\n",
              "        text-align: right;\n",
              "    }\n",
              "</style>\n",
              "<table border=\"1\" class=\"dataframe\">\n",
              "  <thead>\n",
              "    <tr style=\"text-align: right;\">\n",
              "      <th></th>\n",
              "      <th>Airline</th>\n",
              "      <th>Source</th>\n",
              "      <th>Destination</th>\n",
              "      <th>Total_Stops</th>\n",
              "      <th>Price</th>\n",
              "      <th>Journey_day</th>\n",
              "      <th>Journey_month</th>\n",
              "      <th>Dep_hour</th>\n",
              "      <th>Dep_min</th>\n",
              "      <th>Arrival_hour</th>\n",
              "      <th>Arrival_min</th>\n",
              "      <th>Duration_hours</th>\n",
              "      <th>Duration_mins</th>\n",
              "    </tr>\n",
              "  </thead>\n",
              "  <tbody>\n",
              "    <tr>\n",
              "      <th>0</th>\n",
              "      <td>IndiGo</td>\n",
              "      <td>Banglore</td>\n",
              "      <td>New Delhi</td>\n",
              "      <td>0</td>\n",
              "      <td>3897</td>\n",
              "      <td>24</td>\n",
              "      <td>3</td>\n",
              "      <td>22</td>\n",
              "      <td>20</td>\n",
              "      <td>1</td>\n",
              "      <td>10</td>\n",
              "      <td>2</td>\n",
              "      <td>50</td>\n",
              "    </tr>\n",
              "    <tr>\n",
              "      <th>1</th>\n",
              "      <td>Air India</td>\n",
              "      <td>Kolkata</td>\n",
              "      <td>Banglore</td>\n",
              "      <td>2</td>\n",
              "      <td>7662</td>\n",
              "      <td>1</td>\n",
              "      <td>5</td>\n",
              "      <td>5</td>\n",
              "      <td>50</td>\n",
              "      <td>13</td>\n",
              "      <td>15</td>\n",
              "      <td>7</td>\n",
              "      <td>25</td>\n",
              "    </tr>\n",
              "    <tr>\n",
              "      <th>2</th>\n",
              "      <td>Jet Airways</td>\n",
              "      <td>Delhi</td>\n",
              "      <td>Cochin</td>\n",
              "      <td>2</td>\n",
              "      <td>13882</td>\n",
              "      <td>9</td>\n",
              "      <td>6</td>\n",
              "      <td>9</td>\n",
              "      <td>25</td>\n",
              "      <td>4</td>\n",
              "      <td>25</td>\n",
              "      <td>19</td>\n",
              "      <td>0</td>\n",
              "    </tr>\n",
              "    <tr>\n",
              "      <th>3</th>\n",
              "      <td>IndiGo</td>\n",
              "      <td>Kolkata</td>\n",
              "      <td>Banglore</td>\n",
              "      <td>1</td>\n",
              "      <td>6218</td>\n",
              "      <td>12</td>\n",
              "      <td>5</td>\n",
              "      <td>18</td>\n",
              "      <td>5</td>\n",
              "      <td>23</td>\n",
              "      <td>30</td>\n",
              "      <td>5</td>\n",
              "      <td>25</td>\n",
              "    </tr>\n",
              "    <tr>\n",
              "      <th>4</th>\n",
              "      <td>IndiGo</td>\n",
              "      <td>Banglore</td>\n",
              "      <td>New Delhi</td>\n",
              "      <td>1</td>\n",
              "      <td>13302</td>\n",
              "      <td>1</td>\n",
              "      <td>3</td>\n",
              "      <td>16</td>\n",
              "      <td>50</td>\n",
              "      <td>21</td>\n",
              "      <td>35</td>\n",
              "      <td>4</td>\n",
              "      <td>45</td>\n",
              "    </tr>\n",
              "  </tbody>\n",
              "</table>\n",
              "</div>\n",
              "      <button class=\"colab-df-convert\" onclick=\"convertToInteractive('df-a13395c5-dffb-47b7-ac59-d224d69b9c17')\"\n",
              "              title=\"Convert this dataframe to an interactive table.\"\n",
              "              style=\"display:none;\">\n",
              "        \n",
              "  <svg xmlns=\"http://www.w3.org/2000/svg\" height=\"24px\"viewBox=\"0 0 24 24\"\n",
              "       width=\"24px\">\n",
              "    <path d=\"M0 0h24v24H0V0z\" fill=\"none\"/>\n",
              "    <path d=\"M18.56 5.44l.94 2.06.94-2.06 2.06-.94-2.06-.94-.94-2.06-.94 2.06-2.06.94zm-11 1L8.5 8.5l.94-2.06 2.06-.94-2.06-.94L8.5 2.5l-.94 2.06-2.06.94zm10 10l.94 2.06.94-2.06 2.06-.94-2.06-.94-.94-2.06-.94 2.06-2.06.94z\"/><path d=\"M17.41 7.96l-1.37-1.37c-.4-.4-.92-.59-1.43-.59-.52 0-1.04.2-1.43.59L10.3 9.45l-7.72 7.72c-.78.78-.78 2.05 0 2.83L4 21.41c.39.39.9.59 1.41.59.51 0 1.02-.2 1.41-.59l7.78-7.78 2.81-2.81c.8-.78.8-2.07 0-2.86zM5.41 20L4 18.59l7.72-7.72 1.47 1.35L5.41 20z\"/>\n",
              "  </svg>\n",
              "      </button>\n",
              "      \n",
              "  <style>\n",
              "    .colab-df-container {\n",
              "      display:flex;\n",
              "      flex-wrap:wrap;\n",
              "      gap: 12px;\n",
              "    }\n",
              "\n",
              "    .colab-df-convert {\n",
              "      background-color: #E8F0FE;\n",
              "      border: none;\n",
              "      border-radius: 50%;\n",
              "      cursor: pointer;\n",
              "      display: none;\n",
              "      fill: #1967D2;\n",
              "      height: 32px;\n",
              "      padding: 0 0 0 0;\n",
              "      width: 32px;\n",
              "    }\n",
              "\n",
              "    .colab-df-convert:hover {\n",
              "      background-color: #E2EBFA;\n",
              "      box-shadow: 0px 1px 2px rgba(60, 64, 67, 0.3), 0px 1px 3px 1px rgba(60, 64, 67, 0.15);\n",
              "      fill: #174EA6;\n",
              "    }\n",
              "\n",
              "    [theme=dark] .colab-df-convert {\n",
              "      background-color: #3B4455;\n",
              "      fill: #D2E3FC;\n",
              "    }\n",
              "\n",
              "    [theme=dark] .colab-df-convert:hover {\n",
              "      background-color: #434B5C;\n",
              "      box-shadow: 0px 1px 3px 1px rgba(0, 0, 0, 0.15);\n",
              "      filter: drop-shadow(0px 1px 2px rgba(0, 0, 0, 0.3));\n",
              "      fill: #FFFFFF;\n",
              "    }\n",
              "  </style>\n",
              "\n",
              "      <script>\n",
              "        const buttonEl =\n",
              "          document.querySelector('#df-a13395c5-dffb-47b7-ac59-d224d69b9c17 button.colab-df-convert');\n",
              "        buttonEl.style.display =\n",
              "          google.colab.kernel.accessAllowed ? 'block' : 'none';\n",
              "\n",
              "        async function convertToInteractive(key) {\n",
              "          const element = document.querySelector('#df-a13395c5-dffb-47b7-ac59-d224d69b9c17');\n",
              "          const dataTable =\n",
              "            await google.colab.kernel.invokeFunction('convertToInteractive',\n",
              "                                                     [key], {});\n",
              "          if (!dataTable) return;\n",
              "\n",
              "          const docLinkHtml = 'Like what you see? Visit the ' +\n",
              "            '<a target=\"_blank\" href=https://colab.research.google.com/notebooks/data_table.ipynb>data table notebook</a>'\n",
              "            + ' to learn more about interactive tables.';\n",
              "          element.innerHTML = '';\n",
              "          dataTable['output_type'] = 'display_data';\n",
              "          await google.colab.output.renderOutput(dataTable, element);\n",
              "          const docLink = document.createElement('div');\n",
              "          docLink.innerHTML = docLinkHtml;\n",
              "          element.appendChild(docLink);\n",
              "        }\n",
              "      </script>\n",
              "    </div>\n",
              "  </div>\n",
              "  "
            ]
          },
          "metadata": {},
          "execution_count": 30
        }
      ]
    },
    {
      "cell_type": "code",
      "source": [
        "#Now adding encoded columns to the dataframe \n",
        "df_encoded = pd.concat([df, Airline, Source, Destination], axis = 1)"
      ],
      "metadata": {
        "id": "1dxtdYdz09zL"
      },
      "execution_count": null,
      "outputs": []
    },
    {
      "cell_type": "code",
      "source": [
        "df_encoded.drop([\"Airline\", \"Source\", \"Destination\"], axis = 1, inplace = True)"
      ],
      "metadata": {
        "id": "UzIoo0OL5f-7"
      },
      "execution_count": null,
      "outputs": []
    },
    {
      "cell_type": "code",
      "source": [
        "df_encoded.head()"
      ],
      "metadata": {
        "colab": {
          "base_uri": "https://localhost:8080/",
          "height": 317
        },
        "id": "cOA8Xw7h1XBm",
        "outputId": "fe880a97-0d56-409a-a448-58f12973e2de"
      },
      "execution_count": null,
      "outputs": [
        {
          "output_type": "execute_result",
          "data": {
            "text/plain": [
              "   Total_Stops  Price  Journey_day  Journey_month  Dep_hour  Dep_min  \\\n",
              "0            0   3897           24              3        22       20   \n",
              "1            2   7662            1              5         5       50   \n",
              "2            2  13882            9              6         9       25   \n",
              "3            1   6218           12              5        18        5   \n",
              "4            1  13302            1              3        16       50   \n",
              "\n",
              "   Arrival_hour  Arrival_min  Duration_hours  Duration_mins  ...  \\\n",
              "0             1           10               2             50  ...   \n",
              "1            13           15               7             25  ...   \n",
              "2             4           25              19              0  ...   \n",
              "3            23           30               5             25  ...   \n",
              "4            21           35               4             45  ...   \n",
              "\n",
              "   Airline_Vistara Premium economy  Source_Chennai  Source_Delhi  \\\n",
              "0                                0               0             0   \n",
              "1                                0               0             0   \n",
              "2                                0               0             1   \n",
              "3                                0               0             0   \n",
              "4                                0               0             0   \n",
              "\n",
              "   Source_Kolkata  Source_Mumbai  Destination_Cochin  Destination_Delhi  \\\n",
              "0               0              0                   0                  0   \n",
              "1               1              0                   0                  0   \n",
              "2               0              0                   1                  0   \n",
              "3               1              0                   0                  0   \n",
              "4               0              0                   0                  0   \n",
              "\n",
              "   Destination_Hyderabad  Destination_Kolkata  Destination_New Delhi  \n",
              "0                      0                    0                      1  \n",
              "1                      0                    0                      0  \n",
              "2                      0                    0                      0  \n",
              "3                      0                    0                      0  \n",
              "4                      0                    0                      1  \n",
              "\n",
              "[5 rows x 30 columns]"
            ],
            "text/html": [
              "\n",
              "  <div id=\"df-5b70b28d-fbab-46be-b272-3651c38a89f1\">\n",
              "    <div class=\"colab-df-container\">\n",
              "      <div>\n",
              "<style scoped>\n",
              "    .dataframe tbody tr th:only-of-type {\n",
              "        vertical-align: middle;\n",
              "    }\n",
              "\n",
              "    .dataframe tbody tr th {\n",
              "        vertical-align: top;\n",
              "    }\n",
              "\n",
              "    .dataframe thead th {\n",
              "        text-align: right;\n",
              "    }\n",
              "</style>\n",
              "<table border=\"1\" class=\"dataframe\">\n",
              "  <thead>\n",
              "    <tr style=\"text-align: right;\">\n",
              "      <th></th>\n",
              "      <th>Total_Stops</th>\n",
              "      <th>Price</th>\n",
              "      <th>Journey_day</th>\n",
              "      <th>Journey_month</th>\n",
              "      <th>Dep_hour</th>\n",
              "      <th>Dep_min</th>\n",
              "      <th>Arrival_hour</th>\n",
              "      <th>Arrival_min</th>\n",
              "      <th>Duration_hours</th>\n",
              "      <th>Duration_mins</th>\n",
              "      <th>...</th>\n",
              "      <th>Airline_Vistara Premium economy</th>\n",
              "      <th>Source_Chennai</th>\n",
              "      <th>Source_Delhi</th>\n",
              "      <th>Source_Kolkata</th>\n",
              "      <th>Source_Mumbai</th>\n",
              "      <th>Destination_Cochin</th>\n",
              "      <th>Destination_Delhi</th>\n",
              "      <th>Destination_Hyderabad</th>\n",
              "      <th>Destination_Kolkata</th>\n",
              "      <th>Destination_New Delhi</th>\n",
              "    </tr>\n",
              "  </thead>\n",
              "  <tbody>\n",
              "    <tr>\n",
              "      <th>0</th>\n",
              "      <td>0</td>\n",
              "      <td>3897</td>\n",
              "      <td>24</td>\n",
              "      <td>3</td>\n",
              "      <td>22</td>\n",
              "      <td>20</td>\n",
              "      <td>1</td>\n",
              "      <td>10</td>\n",
              "      <td>2</td>\n",
              "      <td>50</td>\n",
              "      <td>...</td>\n",
              "      <td>0</td>\n",
              "      <td>0</td>\n",
              "      <td>0</td>\n",
              "      <td>0</td>\n",
              "      <td>0</td>\n",
              "      <td>0</td>\n",
              "      <td>0</td>\n",
              "      <td>0</td>\n",
              "      <td>0</td>\n",
              "      <td>1</td>\n",
              "    </tr>\n",
              "    <tr>\n",
              "      <th>1</th>\n",
              "      <td>2</td>\n",
              "      <td>7662</td>\n",
              "      <td>1</td>\n",
              "      <td>5</td>\n",
              "      <td>5</td>\n",
              "      <td>50</td>\n",
              "      <td>13</td>\n",
              "      <td>15</td>\n",
              "      <td>7</td>\n",
              "      <td>25</td>\n",
              "      <td>...</td>\n",
              "      <td>0</td>\n",
              "      <td>0</td>\n",
              "      <td>0</td>\n",
              "      <td>1</td>\n",
              "      <td>0</td>\n",
              "      <td>0</td>\n",
              "      <td>0</td>\n",
              "      <td>0</td>\n",
              "      <td>0</td>\n",
              "      <td>0</td>\n",
              "    </tr>\n",
              "    <tr>\n",
              "      <th>2</th>\n",
              "      <td>2</td>\n",
              "      <td>13882</td>\n",
              "      <td>9</td>\n",
              "      <td>6</td>\n",
              "      <td>9</td>\n",
              "      <td>25</td>\n",
              "      <td>4</td>\n",
              "      <td>25</td>\n",
              "      <td>19</td>\n",
              "      <td>0</td>\n",
              "      <td>...</td>\n",
              "      <td>0</td>\n",
              "      <td>0</td>\n",
              "      <td>1</td>\n",
              "      <td>0</td>\n",
              "      <td>0</td>\n",
              "      <td>1</td>\n",
              "      <td>0</td>\n",
              "      <td>0</td>\n",
              "      <td>0</td>\n",
              "      <td>0</td>\n",
              "    </tr>\n",
              "    <tr>\n",
              "      <th>3</th>\n",
              "      <td>1</td>\n",
              "      <td>6218</td>\n",
              "      <td>12</td>\n",
              "      <td>5</td>\n",
              "      <td>18</td>\n",
              "      <td>5</td>\n",
              "      <td>23</td>\n",
              "      <td>30</td>\n",
              "      <td>5</td>\n",
              "      <td>25</td>\n",
              "      <td>...</td>\n",
              "      <td>0</td>\n",
              "      <td>0</td>\n",
              "      <td>0</td>\n",
              "      <td>1</td>\n",
              "      <td>0</td>\n",
              "      <td>0</td>\n",
              "      <td>0</td>\n",
              "      <td>0</td>\n",
              "      <td>0</td>\n",
              "      <td>0</td>\n",
              "    </tr>\n",
              "    <tr>\n",
              "      <th>4</th>\n",
              "      <td>1</td>\n",
              "      <td>13302</td>\n",
              "      <td>1</td>\n",
              "      <td>3</td>\n",
              "      <td>16</td>\n",
              "      <td>50</td>\n",
              "      <td>21</td>\n",
              "      <td>35</td>\n",
              "      <td>4</td>\n",
              "      <td>45</td>\n",
              "      <td>...</td>\n",
              "      <td>0</td>\n",
              "      <td>0</td>\n",
              "      <td>0</td>\n",
              "      <td>0</td>\n",
              "      <td>0</td>\n",
              "      <td>0</td>\n",
              "      <td>0</td>\n",
              "      <td>0</td>\n",
              "      <td>0</td>\n",
              "      <td>1</td>\n",
              "    </tr>\n",
              "  </tbody>\n",
              "</table>\n",
              "<p>5 rows × 30 columns</p>\n",
              "</div>\n",
              "      <button class=\"colab-df-convert\" onclick=\"convertToInteractive('df-5b70b28d-fbab-46be-b272-3651c38a89f1')\"\n",
              "              title=\"Convert this dataframe to an interactive table.\"\n",
              "              style=\"display:none;\">\n",
              "        \n",
              "  <svg xmlns=\"http://www.w3.org/2000/svg\" height=\"24px\"viewBox=\"0 0 24 24\"\n",
              "       width=\"24px\">\n",
              "    <path d=\"M0 0h24v24H0V0z\" fill=\"none\"/>\n",
              "    <path d=\"M18.56 5.44l.94 2.06.94-2.06 2.06-.94-2.06-.94-.94-2.06-.94 2.06-2.06.94zm-11 1L8.5 8.5l.94-2.06 2.06-.94-2.06-.94L8.5 2.5l-.94 2.06-2.06.94zm10 10l.94 2.06.94-2.06 2.06-.94-2.06-.94-.94-2.06-.94 2.06-2.06.94z\"/><path d=\"M17.41 7.96l-1.37-1.37c-.4-.4-.92-.59-1.43-.59-.52 0-1.04.2-1.43.59L10.3 9.45l-7.72 7.72c-.78.78-.78 2.05 0 2.83L4 21.41c.39.39.9.59 1.41.59.51 0 1.02-.2 1.41-.59l7.78-7.78 2.81-2.81c.8-.78.8-2.07 0-2.86zM5.41 20L4 18.59l7.72-7.72 1.47 1.35L5.41 20z\"/>\n",
              "  </svg>\n",
              "      </button>\n",
              "      \n",
              "  <style>\n",
              "    .colab-df-container {\n",
              "      display:flex;\n",
              "      flex-wrap:wrap;\n",
              "      gap: 12px;\n",
              "    }\n",
              "\n",
              "    .colab-df-convert {\n",
              "      background-color: #E8F0FE;\n",
              "      border: none;\n",
              "      border-radius: 50%;\n",
              "      cursor: pointer;\n",
              "      display: none;\n",
              "      fill: #1967D2;\n",
              "      height: 32px;\n",
              "      padding: 0 0 0 0;\n",
              "      width: 32px;\n",
              "    }\n",
              "\n",
              "    .colab-df-convert:hover {\n",
              "      background-color: #E2EBFA;\n",
              "      box-shadow: 0px 1px 2px rgba(60, 64, 67, 0.3), 0px 1px 3px 1px rgba(60, 64, 67, 0.15);\n",
              "      fill: #174EA6;\n",
              "    }\n",
              "\n",
              "    [theme=dark] .colab-df-convert {\n",
              "      background-color: #3B4455;\n",
              "      fill: #D2E3FC;\n",
              "    }\n",
              "\n",
              "    [theme=dark] .colab-df-convert:hover {\n",
              "      background-color: #434B5C;\n",
              "      box-shadow: 0px 1px 3px 1px rgba(0, 0, 0, 0.15);\n",
              "      filter: drop-shadow(0px 1px 2px rgba(0, 0, 0, 0.3));\n",
              "      fill: #FFFFFF;\n",
              "    }\n",
              "  </style>\n",
              "\n",
              "      <script>\n",
              "        const buttonEl =\n",
              "          document.querySelector('#df-5b70b28d-fbab-46be-b272-3651c38a89f1 button.colab-df-convert');\n",
              "        buttonEl.style.display =\n",
              "          google.colab.kernel.accessAllowed ? 'block' : 'none';\n",
              "\n",
              "        async function convertToInteractive(key) {\n",
              "          const element = document.querySelector('#df-5b70b28d-fbab-46be-b272-3651c38a89f1');\n",
              "          const dataTable =\n",
              "            await google.colab.kernel.invokeFunction('convertToInteractive',\n",
              "                                                     [key], {});\n",
              "          if (!dataTable) return;\n",
              "\n",
              "          const docLinkHtml = 'Like what you see? Visit the ' +\n",
              "            '<a target=\"_blank\" href=https://colab.research.google.com/notebooks/data_table.ipynb>data table notebook</a>'\n",
              "            + ' to learn more about interactive tables.';\n",
              "          element.innerHTML = '';\n",
              "          dataTable['output_type'] = 'display_data';\n",
              "          await google.colab.output.renderOutput(dataTable, element);\n",
              "          const docLink = document.createElement('div');\n",
              "          docLink.innerHTML = docLinkHtml;\n",
              "          element.appendChild(docLink);\n",
              "        }\n",
              "      </script>\n",
              "    </div>\n",
              "  </div>\n",
              "  "
            ]
          },
          "metadata": {},
          "execution_count": 33
        }
      ]
    },
    {
      "cell_type": "markdown",
      "source": [
        "There are 33 columns total so training will take much time so selecting some features"
      ],
      "metadata": {
        "id": "600IAmjT2gds"
      }
    },
    {
      "cell_type": "code",
      "source": [
        "X = df_encoded.loc[:, ['Total_Stops', 'Journey_day', 'Journey_month', 'Dep_hour',\n",
        "       'Dep_min', 'Arrival_hour', 'Arrival_min', 'Duration_hours',\n",
        "       'Duration_mins', 'Airline_Air India', 'Airline_GoAir', 'Airline_IndiGo',\n",
        "       'Airline_Jet Airways', 'Airline_Jet Airways Business',\n",
        "       'Airline_Multiple carriers',\n",
        "       'Airline_Multiple carriers Premium economy', 'Airline_SpiceJet',\n",
        "       'Airline_Trujet', 'Airline_Vistara', 'Airline_Vistara Premium economy',\n",
        "       'Source_Chennai', 'Source_Delhi', 'Source_Kolkata', 'Source_Mumbai',\n",
        "       'Destination_Cochin', 'Destination_Delhi', 'Destination_Hyderabad',\n",
        "       'Destination_Kolkata', 'Destination_New Delhi']]\n",
        "X.head()"
      ],
      "metadata": {
        "colab": {
          "base_uri": "https://localhost:8080/",
          "height": 317
        },
        "id": "2tQ514tN1Z1B",
        "outputId": "668e6685-8a44-4027-9772-2e43eca0209e"
      },
      "execution_count": null,
      "outputs": [
        {
          "output_type": "execute_result",
          "data": {
            "text/plain": [
              "   Total_Stops  Journey_day  Journey_month  Dep_hour  Dep_min  Arrival_hour  \\\n",
              "0            0           24              3        22       20             1   \n",
              "1            2            1              5         5       50            13   \n",
              "2            2            9              6         9       25             4   \n",
              "3            1           12              5        18        5            23   \n",
              "4            1            1              3        16       50            21   \n",
              "\n",
              "   Arrival_min  Duration_hours  Duration_mins  Airline_Air India  ...  \\\n",
              "0           10               2             50                  0  ...   \n",
              "1           15               7             25                  1  ...   \n",
              "2           25              19              0                  0  ...   \n",
              "3           30               5             25                  0  ...   \n",
              "4           35               4             45                  0  ...   \n",
              "\n",
              "   Airline_Vistara Premium economy  Source_Chennai  Source_Delhi  \\\n",
              "0                                0               0             0   \n",
              "1                                0               0             0   \n",
              "2                                0               0             1   \n",
              "3                                0               0             0   \n",
              "4                                0               0             0   \n",
              "\n",
              "   Source_Kolkata  Source_Mumbai  Destination_Cochin  Destination_Delhi  \\\n",
              "0               0              0                   0                  0   \n",
              "1               1              0                   0                  0   \n",
              "2               0              0                   1                  0   \n",
              "3               1              0                   0                  0   \n",
              "4               0              0                   0                  0   \n",
              "\n",
              "   Destination_Hyderabad  Destination_Kolkata  Destination_New Delhi  \n",
              "0                      0                    0                      1  \n",
              "1                      0                    0                      0  \n",
              "2                      0                    0                      0  \n",
              "3                      0                    0                      0  \n",
              "4                      0                    0                      1  \n",
              "\n",
              "[5 rows x 29 columns]"
            ],
            "text/html": [
              "\n",
              "  <div id=\"df-b145f54b-27df-49cd-9987-e3b3dd087c7f\">\n",
              "    <div class=\"colab-df-container\">\n",
              "      <div>\n",
              "<style scoped>\n",
              "    .dataframe tbody tr th:only-of-type {\n",
              "        vertical-align: middle;\n",
              "    }\n",
              "\n",
              "    .dataframe tbody tr th {\n",
              "        vertical-align: top;\n",
              "    }\n",
              "\n",
              "    .dataframe thead th {\n",
              "        text-align: right;\n",
              "    }\n",
              "</style>\n",
              "<table border=\"1\" class=\"dataframe\">\n",
              "  <thead>\n",
              "    <tr style=\"text-align: right;\">\n",
              "      <th></th>\n",
              "      <th>Total_Stops</th>\n",
              "      <th>Journey_day</th>\n",
              "      <th>Journey_month</th>\n",
              "      <th>Dep_hour</th>\n",
              "      <th>Dep_min</th>\n",
              "      <th>Arrival_hour</th>\n",
              "      <th>Arrival_min</th>\n",
              "      <th>Duration_hours</th>\n",
              "      <th>Duration_mins</th>\n",
              "      <th>Airline_Air India</th>\n",
              "      <th>...</th>\n",
              "      <th>Airline_Vistara Premium economy</th>\n",
              "      <th>Source_Chennai</th>\n",
              "      <th>Source_Delhi</th>\n",
              "      <th>Source_Kolkata</th>\n",
              "      <th>Source_Mumbai</th>\n",
              "      <th>Destination_Cochin</th>\n",
              "      <th>Destination_Delhi</th>\n",
              "      <th>Destination_Hyderabad</th>\n",
              "      <th>Destination_Kolkata</th>\n",
              "      <th>Destination_New Delhi</th>\n",
              "    </tr>\n",
              "  </thead>\n",
              "  <tbody>\n",
              "    <tr>\n",
              "      <th>0</th>\n",
              "      <td>0</td>\n",
              "      <td>24</td>\n",
              "      <td>3</td>\n",
              "      <td>22</td>\n",
              "      <td>20</td>\n",
              "      <td>1</td>\n",
              "      <td>10</td>\n",
              "      <td>2</td>\n",
              "      <td>50</td>\n",
              "      <td>0</td>\n",
              "      <td>...</td>\n",
              "      <td>0</td>\n",
              "      <td>0</td>\n",
              "      <td>0</td>\n",
              "      <td>0</td>\n",
              "      <td>0</td>\n",
              "      <td>0</td>\n",
              "      <td>0</td>\n",
              "      <td>0</td>\n",
              "      <td>0</td>\n",
              "      <td>1</td>\n",
              "    </tr>\n",
              "    <tr>\n",
              "      <th>1</th>\n",
              "      <td>2</td>\n",
              "      <td>1</td>\n",
              "      <td>5</td>\n",
              "      <td>5</td>\n",
              "      <td>50</td>\n",
              "      <td>13</td>\n",
              "      <td>15</td>\n",
              "      <td>7</td>\n",
              "      <td>25</td>\n",
              "      <td>1</td>\n",
              "      <td>...</td>\n",
              "      <td>0</td>\n",
              "      <td>0</td>\n",
              "      <td>0</td>\n",
              "      <td>1</td>\n",
              "      <td>0</td>\n",
              "      <td>0</td>\n",
              "      <td>0</td>\n",
              "      <td>0</td>\n",
              "      <td>0</td>\n",
              "      <td>0</td>\n",
              "    </tr>\n",
              "    <tr>\n",
              "      <th>2</th>\n",
              "      <td>2</td>\n",
              "      <td>9</td>\n",
              "      <td>6</td>\n",
              "      <td>9</td>\n",
              "      <td>25</td>\n",
              "      <td>4</td>\n",
              "      <td>25</td>\n",
              "      <td>19</td>\n",
              "      <td>0</td>\n",
              "      <td>0</td>\n",
              "      <td>...</td>\n",
              "      <td>0</td>\n",
              "      <td>0</td>\n",
              "      <td>1</td>\n",
              "      <td>0</td>\n",
              "      <td>0</td>\n",
              "      <td>1</td>\n",
              "      <td>0</td>\n",
              "      <td>0</td>\n",
              "      <td>0</td>\n",
              "      <td>0</td>\n",
              "    </tr>\n",
              "    <tr>\n",
              "      <th>3</th>\n",
              "      <td>1</td>\n",
              "      <td>12</td>\n",
              "      <td>5</td>\n",
              "      <td>18</td>\n",
              "      <td>5</td>\n",
              "      <td>23</td>\n",
              "      <td>30</td>\n",
              "      <td>5</td>\n",
              "      <td>25</td>\n",
              "      <td>0</td>\n",
              "      <td>...</td>\n",
              "      <td>0</td>\n",
              "      <td>0</td>\n",
              "      <td>0</td>\n",
              "      <td>1</td>\n",
              "      <td>0</td>\n",
              "      <td>0</td>\n",
              "      <td>0</td>\n",
              "      <td>0</td>\n",
              "      <td>0</td>\n",
              "      <td>0</td>\n",
              "    </tr>\n",
              "    <tr>\n",
              "      <th>4</th>\n",
              "      <td>1</td>\n",
              "      <td>1</td>\n",
              "      <td>3</td>\n",
              "      <td>16</td>\n",
              "      <td>50</td>\n",
              "      <td>21</td>\n",
              "      <td>35</td>\n",
              "      <td>4</td>\n",
              "      <td>45</td>\n",
              "      <td>0</td>\n",
              "      <td>...</td>\n",
              "      <td>0</td>\n",
              "      <td>0</td>\n",
              "      <td>0</td>\n",
              "      <td>0</td>\n",
              "      <td>0</td>\n",
              "      <td>0</td>\n",
              "      <td>0</td>\n",
              "      <td>0</td>\n",
              "      <td>0</td>\n",
              "      <td>1</td>\n",
              "    </tr>\n",
              "  </tbody>\n",
              "</table>\n",
              "<p>5 rows × 29 columns</p>\n",
              "</div>\n",
              "      <button class=\"colab-df-convert\" onclick=\"convertToInteractive('df-b145f54b-27df-49cd-9987-e3b3dd087c7f')\"\n",
              "              title=\"Convert this dataframe to an interactive table.\"\n",
              "              style=\"display:none;\">\n",
              "        \n",
              "  <svg xmlns=\"http://www.w3.org/2000/svg\" height=\"24px\"viewBox=\"0 0 24 24\"\n",
              "       width=\"24px\">\n",
              "    <path d=\"M0 0h24v24H0V0z\" fill=\"none\"/>\n",
              "    <path d=\"M18.56 5.44l.94 2.06.94-2.06 2.06-.94-2.06-.94-.94-2.06-.94 2.06-2.06.94zm-11 1L8.5 8.5l.94-2.06 2.06-.94-2.06-.94L8.5 2.5l-.94 2.06-2.06.94zm10 10l.94 2.06.94-2.06 2.06-.94-2.06-.94-.94-2.06-.94 2.06-2.06.94z\"/><path d=\"M17.41 7.96l-1.37-1.37c-.4-.4-.92-.59-1.43-.59-.52 0-1.04.2-1.43.59L10.3 9.45l-7.72 7.72c-.78.78-.78 2.05 0 2.83L4 21.41c.39.39.9.59 1.41.59.51 0 1.02-.2 1.41-.59l7.78-7.78 2.81-2.81c.8-.78.8-2.07 0-2.86zM5.41 20L4 18.59l7.72-7.72 1.47 1.35L5.41 20z\"/>\n",
              "  </svg>\n",
              "      </button>\n",
              "      \n",
              "  <style>\n",
              "    .colab-df-container {\n",
              "      display:flex;\n",
              "      flex-wrap:wrap;\n",
              "      gap: 12px;\n",
              "    }\n",
              "\n",
              "    .colab-df-convert {\n",
              "      background-color: #E8F0FE;\n",
              "      border: none;\n",
              "      border-radius: 50%;\n",
              "      cursor: pointer;\n",
              "      display: none;\n",
              "      fill: #1967D2;\n",
              "      height: 32px;\n",
              "      padding: 0 0 0 0;\n",
              "      width: 32px;\n",
              "    }\n",
              "\n",
              "    .colab-df-convert:hover {\n",
              "      background-color: #E2EBFA;\n",
              "      box-shadow: 0px 1px 2px rgba(60, 64, 67, 0.3), 0px 1px 3px 1px rgba(60, 64, 67, 0.15);\n",
              "      fill: #174EA6;\n",
              "    }\n",
              "\n",
              "    [theme=dark] .colab-df-convert {\n",
              "      background-color: #3B4455;\n",
              "      fill: #D2E3FC;\n",
              "    }\n",
              "\n",
              "    [theme=dark] .colab-df-convert:hover {\n",
              "      background-color: #434B5C;\n",
              "      box-shadow: 0px 1px 3px 1px rgba(0, 0, 0, 0.15);\n",
              "      filter: drop-shadow(0px 1px 2px rgba(0, 0, 0, 0.3));\n",
              "      fill: #FFFFFF;\n",
              "    }\n",
              "  </style>\n",
              "\n",
              "      <script>\n",
              "        const buttonEl =\n",
              "          document.querySelector('#df-b145f54b-27df-49cd-9987-e3b3dd087c7f button.colab-df-convert');\n",
              "        buttonEl.style.display =\n",
              "          google.colab.kernel.accessAllowed ? 'block' : 'none';\n",
              "\n",
              "        async function convertToInteractive(key) {\n",
              "          const element = document.querySelector('#df-b145f54b-27df-49cd-9987-e3b3dd087c7f');\n",
              "          const dataTable =\n",
              "            await google.colab.kernel.invokeFunction('convertToInteractive',\n",
              "                                                     [key], {});\n",
              "          if (!dataTable) return;\n",
              "\n",
              "          const docLinkHtml = 'Like what you see? Visit the ' +\n",
              "            '<a target=\"_blank\" href=https://colab.research.google.com/notebooks/data_table.ipynb>data table notebook</a>'\n",
              "            + ' to learn more about interactive tables.';\n",
              "          element.innerHTML = '';\n",
              "          dataTable['output_type'] = 'display_data';\n",
              "          await google.colab.output.renderOutput(dataTable, element);\n",
              "          const docLink = document.createElement('div');\n",
              "          docLink.innerHTML = docLinkHtml;\n",
              "          element.appendChild(docLink);\n",
              "        }\n",
              "      </script>\n",
              "    </div>\n",
              "  </div>\n",
              "  "
            ]
          },
          "metadata": {},
          "execution_count": 34
        }
      ]
    },
    {
      "cell_type": "code",
      "source": [
        "plt.figure(figsize = (18,18))\n",
        "sns.heatmap(df.corr(), annot = True, cmap = \"RdYlGn\")\n",
        "plt.show()"
      ],
      "metadata": {
        "colab": {
          "base_uri": "https://localhost:8080/",
          "height": 1000
        },
        "id": "2ZBp8eWm2422",
        "outputId": "59146933-00d0-4b75-929d-c33bfe2f9bb8"
      },
      "execution_count": null,
      "outputs": [
        {
          "output_type": "display_data",
          "data": {
            "text/plain": [
              "<Figure size 1296x1296 with 2 Axes>"
            ],
            "image/png": "[encoded data removed]"
          },
          "metadata": {
            "needs_background": "light"
          }
        }
      ]
    },
    {
      "cell_type": "markdown",
      "source": [
        "# Implementing the model"
      ],
      "metadata": {
        "id": "dvzlsYIa4I5X"
      }
    },
    {
      "cell_type": "markdown",
      "source": [
        "## Random Forest"
      ],
      "metadata": {
        "id": "dzWnwrohnesj"
      }
    },
    {
      "cell_type": "code",
      "source": [
        "y = df_encoded.iloc[:, 1]\n",
        "y.head()"
      ],
      "metadata": {
        "colab": {
          "base_uri": "https://localhost:8080/"
        },
        "id": "fTD7lSf-4Tw1",
        "outputId": "83e2da2d-a195-4874-e5bd-c5da0572ab71"
      },
      "execution_count": null,
      "outputs": [
        {
          "output_type": "execute_result",
          "data": {
            "text/plain": [
              "0     3897\n",
              "1     7662\n",
              "2    13882\n",
              "3     6218\n",
              "4    13302\n",
              "Name: Price, dtype: int64"
            ]
          },
          "metadata": {},
          "execution_count": 36
        }
      ]
    },
    {
      "cell_type": "code",
      "source": [
        "from sklearn.model_selection import train_test_split\n",
        "X_train, X_test, y_train, y_test = train_test_split(X, y, test_size = 0.2, random_state = 42)"
      ],
      "metadata": {
        "id": "k5UI2dgO3Dug"
      },
      "execution_count": null,
      "outputs": []
    },
    {
      "cell_type": "code",
      "source": [
        "from sklearn.ensemble import RandomForestRegressor\n",
        "reg_rf = RandomForestRegressor()\n",
        "reg_rf.fit(X_train, y_train)"
      ],
      "metadata": {
        "colab": {
          "base_uri": "https://localhost:8080/"
        },
        "id": "VTsc0_i05MZe",
        "outputId": "d739712d-1d3f-4da6-b81e-3ef1ef9ab59d"
      },
      "execution_count": null,
      "outputs": [
        {
          "output_type": "execute_result",
          "data": {
            "text/plain": [
              "RandomForestRegressor()"
            ]
          },
          "metadata": {},
          "execution_count": 38
        }
      ]
    },
    {
      "cell_type": "code",
      "source": [
        "y_pred = reg_rf.predict(X_test)"
      ],
      "metadata": {
        "id": "-lPqg4dR5NCc"
      },
      "execution_count": null,
      "outputs": []
    },
    {
      "cell_type": "code",
      "source": [
        "reg_rf.score(X_train, y_train)"
      ],
      "metadata": {
        "colab": {
          "base_uri": "https://localhost:8080/"
        },
        "id": "M0UVMbNL502p",
        "outputId": "3fdd18bb-9c3d-4881-dd0f-8d3de166ad40"
      },
      "execution_count": null,
      "outputs": [
        {
          "output_type": "execute_result",
          "data": {
            "text/plain": [
              "0.9537291293129474"
            ]
          },
          "metadata": {},
          "execution_count": 40
        }
      ]
    },
    {
      "cell_type": "code",
      "source": [
        "reg_rf.score(X_test,y_test)"
      ],
      "metadata": {
        "colab": {
          "base_uri": "https://localhost:8080/"
        },
        "id": "p1avttHX54FI",
        "outputId": "ebc1d7c0-f7ef-4881-db0c-55ba6f9c646b"
      },
      "execution_count": null,
      "outputs": [
        {
          "output_type": "execute_result",
          "data": {
            "text/plain": [
              "0.8114621754468243"
            ]
          },
          "metadata": {},
          "execution_count": 41
        }
      ]
    },
    {
      "cell_type": "code",
      "source": [
        "sns.distplot(y_test-y_pred)\n",
        "plt.show()"
      ],
      "metadata": {
        "colab": {
          "base_uri": "https://localhost:8080/",
          "height": 334
        },
        "id": "_o5FcrE857VH",
        "outputId": "6c7239fb-792e-4618-b9c6-50726bc3a1ef"
      },
      "execution_count": null,
      "outputs": [
        {
          "output_type": "stream",
          "name": "stderr",
          "text": [
            "/usr/local/lib/python3.7/dist-packages/seaborn/distributions.py:2619: FutureWarning: `distplot` is a deprecated function and will be removed in a future version. Please adapt your code to use either `displot` (a figure-level function with similar flexibility) or `histplot` (an axes-level function for histograms).\n",
            "  warnings.warn(msg, FutureWarning)\n"
          ]
        },
        {
          "output_type": "display_data",
          "data": {
            "text/plain": [
              "<Figure size 432x288 with 1 Axes>"
            ],
            "image/png": "[encoded data removed]"
          },
          "metadata": {
            "needs_background": "light"
          }
        }
      ]
    },
    {
      "cell_type": "code",
      "source": [
        "plt.scatter(y_test, y_pred, alpha = 0.5)\n",
        "plt.xlabel(\"y_test\")\n",
        "plt.ylabel(\"y_pred\")\n",
        "plt.show()"
      ],
      "metadata": {
        "colab": {
          "base_uri": "https://localhost:8080/",
          "height": 280
        },
        "id": "6fP7XmL96VCE",
        "outputId": "e9ceded5-c092-4b67-824f-3f539c07feb7"
      },
      "execution_count": null,
      "outputs": [
        {
          "output_type": "display_data",
          "data": {
            "text/plain": [
              "<Figure size 432x288 with 1 Axes>"
            ],
            "image/png": "[encoded data removed]"
          },
          "metadata": {
            "needs_background": "light"
          }
        }
      ]
    },
    {
      "cell_type": "code",
      "source": [
        "from sklearn import metrics"
      ],
      "metadata": {
        "id": "Bp9P9cSG6YR_"
      },
      "execution_count": null,
      "outputs": []
    },
    {
      "cell_type": "code",
      "source": [
        "print('MAE:', metrics.mean_absolute_error(y_test, y_pred))\n",
        "print('MSE:', metrics.mean_squared_error(y_test, y_pred))\n",
        "print('RMSE:', np.sqrt(metrics.mean_squared_error(y_test, y_pred)))"
      ],
      "metadata": {
        "colab": {
          "base_uri": "https://localhost:8080/"
        },
        "id": "OV6YUFWO6bW5",
        "outputId": "0298de81-2733-4abf-a899-d0f550843396"
      },
      "execution_count": null,
      "outputs": [
        {
          "output_type": "stream",
          "name": "stdout",
          "text": [
            "MAE: 1184.1359932377839\n",
            "MSE: 3931065.7496232307\n",
            "RMSE: 1982.6915417238333\n"
          ]
        }
      ]
    },
    {
      "cell_type": "code",
      "source": [
        "2090.5509/(max(y)-min(y))"
      ],
      "metadata": {
        "colab": {
          "base_uri": "https://localhost:8080/"
        },
        "id": "dRgFx0UN6c95",
        "outputId": "da708a44-c8fc-4af2-bebc-32a5becc604a"
      },
      "execution_count": null,
      "outputs": [
        {
          "output_type": "execute_result",
          "data": {
            "text/plain": [
              "0.026887077025966846"
            ]
          },
          "metadata": {},
          "execution_count": 46
        }
      ]
    },
    {
      "cell_type": "code",
      "source": [
        "metrics.r2_score(y_test, y_pred)"
      ],
      "metadata": {
        "colab": {
          "base_uri": "https://localhost:8080/"
        },
        "id": "RpKnNeSA6i1z",
        "outputId": "e02130f3-11fb-4a9a-809c-7321c9e1b976"
      },
      "execution_count": null,
      "outputs": [
        {
          "output_type": "execute_result",
          "data": {
            "text/plain": [
              "0.8114621754468243"
            ]
          },
          "metadata": {},
          "execution_count": 47
        }
      ]
    },
    {
      "cell_type": "markdown",
      "source": [
        "### HyperParamter Tuning"
      ],
      "metadata": {
        "id": "xH84BzBk6phJ"
      }
    },
    {
      "cell_type": "code",
      "source": [
        "from sklearn.model_selection import RandomizedSearchCV"
      ],
      "metadata": {
        "id": "7Uf8x4lz6krL"
      },
      "execution_count": null,
      "outputs": []
    },
    {
      "cell_type": "code",
      "source": [
        "n_estimators = [int(x) for x in np.linspace(start = 100, stop = 1200, num = 12)]\n",
        "# Number of features to consider at every split\n",
        "max_features = ['auto', 'sqrt']\n",
        "# Maximum number of levels in tree\n",
        "max_depth = [int(x) for x in np.linspace(5, 30, num = 6)]\n",
        "# Minimum number of samples required to split a node\n",
        "min_samples_split = [2, 5, 10, 15, 100]\n",
        "# Minimum number of samples required at each leaf node\n",
        "min_samples_leaf = [1, 2, 5, 10]"
      ],
      "metadata": {
        "id": "6qYNhXUp6wMa"
      },
      "execution_count": null,
      "outputs": []
    },
    {
      "cell_type": "code",
      "source": [
        "random_grid = {'n_estimators': n_estimators,\n",
        "               'max_features': max_features,\n",
        "               'max_depth': max_depth,\n",
        "               'min_samples_split': min_samples_split,\n",
        "               'min_samples_leaf': min_samples_leaf}"
      ],
      "metadata": {
        "id": "8Mz6Z5dO6ybX"
      },
      "execution_count": null,
      "outputs": []
    },
    {
      "cell_type": "code",
      "source": [
        "rf_random = RandomizedSearchCV(estimator = reg_rf, param_distributions = random_grid,scoring='neg_mean_squared_error', n_iter = 10, cv = 5, verbose=2, random_state=42)"
      ],
      "metadata": {
        "id": "XR05V5q660jC"
      },
      "execution_count": null,
      "outputs": []
    },
    {
      "cell_type": "code",
      "source": [
        "rf_random.fit(X_train,y_train)"
      ],
      "metadata": {
        "colab": {
          "base_uri": "https://localhost:8080/"
        },
        "id": "mZ7J3sct6-uq",
        "outputId": "926b022a-4103-43bb-9946-bc9b9d9905db"
      },
      "execution_count": null,
      "outputs": [
        {
          "output_type": "stream",
          "name": "stdout",
          "text": [
            "Fitting 5 folds for each of 10 candidates, totalling 50 fits\n",
            "[CV] END max_depth=10, max_features=sqrt, min_samples_leaf=5, min_samples_split=5, n_estimators=900; total time=   7.7s\n",
            "[CV] END max_depth=10, max_features=sqrt, min_samples_leaf=5, min_samples_split=5, n_estimators=900; total time=   9.6s\n",
            "[CV] END max_depth=10, max_features=sqrt, min_samples_leaf=5, min_samples_split=5, n_estimators=900; total time=   8.4s\n",
            "[CV] END max_depth=10, max_features=sqrt, min_samples_leaf=5, min_samples_split=5, n_estimators=900; total time=   7.2s\n",
            "[CV] END max_depth=10, max_features=sqrt, min_samples_leaf=5, min_samples_split=5, n_estimators=900; total time=   4.3s\n",
            "[CV] END max_depth=15, max_features=sqrt, min_samples_leaf=2, min_samples_split=10, n_estimators=1100; total time=   5.9s\n",
            "[CV] END max_depth=15, max_features=sqrt, min_samples_leaf=2, min_samples_split=10, n_estimators=1100; total time=   6.0s\n",
            "[CV] END max_depth=15, max_features=sqrt, min_samples_leaf=2, min_samples_split=10, n_estimators=1100; total time=   5.8s\n",
            "[CV] END max_depth=15, max_features=sqrt, min_samples_leaf=2, min_samples_split=10, n_estimators=1100; total time=   5.8s\n",
            "[CV] END max_depth=15, max_features=sqrt, min_samples_leaf=2, min_samples_split=10, n_estimators=1100; total time=   5.9s\n",
            "[CV] END max_depth=15, max_features=auto, min_samples_leaf=5, min_samples_split=100, n_estimators=300; total time=   3.6s\n",
            "[CV] END max_depth=15, max_features=auto, min_samples_leaf=5, min_samples_split=100, n_estimators=300; total time=   3.7s\n",
            "[CV] END max_depth=15, max_features=auto, min_samples_leaf=5, min_samples_split=100, n_estimators=300; total time=   3.6s\n",
            "[CV] END max_depth=15, max_features=auto, min_samples_leaf=5, min_samples_split=100, n_estimators=300; total time=   3.6s\n",
            "[CV] END max_depth=15, max_features=auto, min_samples_leaf=5, min_samples_split=100, n_estimators=300; total time=   3.6s\n",
            "[CV] END max_depth=15, max_features=auto, min_samples_leaf=5, min_samples_split=5, n_estimators=400; total time=   6.5s\n",
            "[CV] END max_depth=15, max_features=auto, min_samples_leaf=5, min_samples_split=5, n_estimators=400; total time=   6.6s\n",
            "[CV] END max_depth=15, max_features=auto, min_samples_leaf=5, min_samples_split=5, n_estimators=400; total time=   6.5s\n",
            "[CV] END max_depth=15, max_features=auto, min_samples_leaf=5, min_samples_split=5, n_estimators=400; total time=   6.6s\n",
            "[CV] END max_depth=15, max_features=auto, min_samples_leaf=5, min_samples_split=5, n_estimators=400; total time=   6.5s\n",
            "[CV] END max_depth=20, max_features=auto, min_samples_leaf=10, min_samples_split=5, n_estimators=700; total time=  12.3s\n",
            "[CV] END max_depth=20, max_features=auto, min_samples_leaf=10, min_samples_split=5, n_estimators=700; total time=  10.1s\n",
            "[CV] END max_depth=20, max_features=auto, min_samples_leaf=10, min_samples_split=5, n_estimators=700; total time=  10.1s\n",
            "[CV] END max_depth=20, max_features=auto, min_samples_leaf=10, min_samples_split=5, n_estimators=700; total time=  10.2s\n",
            "[CV] END max_depth=20, max_features=auto, min_samples_leaf=10, min_samples_split=5, n_estimators=700; total time=  10.1s\n",
            "[CV] END max_depth=25, max_features=sqrt, min_samples_leaf=1, min_samples_split=2, n_estimators=1000; total time=   8.8s\n",
            "[CV] END max_depth=25, max_features=sqrt, min_samples_leaf=1, min_samples_split=2, n_estimators=1000; total time=   8.6s\n",
            "[CV] END max_depth=25, max_features=sqrt, min_samples_leaf=1, min_samples_split=2, n_estimators=1000; total time=   8.6s\n",
            "[CV] END max_depth=25, max_features=sqrt, min_samples_leaf=1, min_samples_split=2, n_estimators=1000; total time=   8.7s\n",
            "[CV] END max_depth=25, max_features=sqrt, min_samples_leaf=1, min_samples_split=2, n_estimators=1000; total time=   8.6s\n",
            "[CV] END max_depth=5, max_features=sqrt, min_samples_leaf=10, min_samples_split=15, n_estimators=1100; total time=   3.1s\n",
            "[CV] END max_depth=5, max_features=sqrt, min_samples_leaf=10, min_samples_split=15, n_estimators=1100; total time=   3.1s\n",
            "[CV] END max_depth=5, max_features=sqrt, min_samples_leaf=10, min_samples_split=15, n_estimators=1100; total time=   3.2s\n",
            "[CV] END max_depth=5, max_features=sqrt, min_samples_leaf=10, min_samples_split=15, n_estimators=1100; total time=   3.1s\n",
            "[CV] END max_depth=5, max_features=sqrt, min_samples_leaf=10, min_samples_split=15, n_estimators=1100; total time=   3.1s\n",
            "[CV] END max_depth=15, max_features=sqrt, min_samples_leaf=1, min_samples_split=15, n_estimators=300; total time=   1.5s\n",
            "[CV] END max_depth=15, max_features=sqrt, min_samples_leaf=1, min_samples_split=15, n_estimators=300; total time=   1.5s\n",
            "[CV] END max_depth=15, max_features=sqrt, min_samples_leaf=1, min_samples_split=15, n_estimators=300; total time=   1.6s\n",
            "[CV] END max_depth=15, max_features=sqrt, min_samples_leaf=1, min_samples_split=15, n_estimators=300; total time=   1.5s\n",
            "[CV] END max_depth=15, max_features=sqrt, min_samples_leaf=1, min_samples_split=15, n_estimators=300; total time=   1.6s\n",
            "[CV] END max_depth=5, max_features=sqrt, min_samples_leaf=2, min_samples_split=10, n_estimators=700; total time=   2.0s\n",
            "[CV] END max_depth=5, max_features=sqrt, min_samples_leaf=2, min_samples_split=10, n_estimators=700; total time=   2.0s\n",
            "[CV] END max_depth=5, max_features=sqrt, min_samples_leaf=2, min_samples_split=10, n_estimators=700; total time=   2.0s\n",
            "[CV] END max_depth=5, max_features=sqrt, min_samples_leaf=2, min_samples_split=10, n_estimators=700; total time=   2.0s\n",
            "[CV] END max_depth=5, max_features=sqrt, min_samples_leaf=2, min_samples_split=10, n_estimators=700; total time=   2.0s\n",
            "[CV] END max_depth=20, max_features=auto, min_samples_leaf=1, min_samples_split=15, n_estimators=700; total time=  12.1s\n",
            "[CV] END max_depth=20, max_features=auto, min_samples_leaf=1, min_samples_split=15, n_estimators=700; total time=  12.5s\n",
            "[CV] END max_depth=20, max_features=auto, min_samples_leaf=1, min_samples_split=15, n_estimators=700; total time=  12.2s\n",
            "[CV] END max_depth=20, max_features=auto, min_samples_leaf=1, min_samples_split=15, n_estimators=700; total time=  12.4s\n",
            "[CV] END max_depth=20, max_features=auto, min_samples_leaf=1, min_samples_split=15, n_estimators=700; total time=  13.1s\n"
          ]
        },
        {
          "output_type": "execute_result",
          "data": {
            "text/plain": [
              "RandomizedSearchCV(cv=5, estimator=RandomForestRegressor(),\n",
              "                   param_distributions={'max_depth': [5, 10, 15, 20, 25, 30],\n",
              "                                        'max_features': ['auto', 'sqrt'],\n",
              "                                        'min_samples_leaf': [1, 2, 5, 10],\n",
              "                                        'min_samples_split': [2, 5, 10, 15,\n",
              "                                                              100],\n",
              "                                        'n_estimators': [100, 200, 300, 400,\n",
              "                                                         500, 600, 700, 800,\n",
              "                                                         900, 1000, 1100,\n",
              "                                                         1200]},\n",
              "                   random_state=42, scoring='neg_mean_squared_error',\n",
              "                   verbose=2)"
            ]
          },
          "metadata": {},
          "execution_count": 52
        }
      ]
    },
    {
      "cell_type": "code",
      "source": [
        "rf_random.best_params_"
      ],
      "metadata": {
        "colab": {
          "base_uri": "https://localhost:8080/"
        },
        "id": "tA_LTkOf7AYr",
        "outputId": "98890fc5-7b0e-420c-bbad-313dab70d5f7"
      },
      "execution_count": null,
      "outputs": [
        {
          "output_type": "execute_result",
          "data": {
            "text/plain": [
              "{'max_depth': 20,\n",
              " 'max_features': 'auto',\n",
              " 'min_samples_leaf': 1,\n",
              " 'min_samples_split': 15,\n",
              " 'n_estimators': 700}"
            ]
          },
          "metadata": {},
          "execution_count": 53
        }
      ]
    },
    {
      "cell_type": "code",
      "source": [
        "rf_best=RandomForestRegressor(max_depth= 20,\n",
        " max_features= 'auto',\n",
        " min_samples_leaf= 1,\n",
        " min_samples_split= 15,\n",
        " n_estimators= 700)"
      ],
      "metadata": {
        "id": "K4NvR2aJB7EZ"
      },
      "execution_count": null,
      "outputs": []
    },
    {
      "cell_type": "code",
      "source": [
        "rf_best.fit(X_train,y_train)"
      ],
      "metadata": {
        "colab": {
          "base_uri": "https://localhost:8080/"
        },
        "id": "CAnNo1BJCoxn",
        "outputId": "b57275a5-5a86-4352-9cba-ccf27f6bbbeb"
      },
      "execution_count": null,
      "outputs": [
        {
          "output_type": "execute_result",
          "data": {
            "text/plain": [
              "RandomForestRegressor(max_depth=20, min_samples_split=15, n_estimators=700)"
            ]
          },
          "metadata": {},
          "execution_count": 55
        }
      ]
    },
    {
      "cell_type": "code",
      "source": [
        "y_prediction = rf_best.predict(X_test)"
      ],
      "metadata": {
        "id": "65JFsMZVDGxL"
      },
      "execution_count": null,
      "outputs": []
    },
    {
      "cell_type": "code",
      "source": [
        "score_rf=metrics.r2_score(y_test, y_prediction)"
      ],
      "metadata": {
        "id": "6FtJipk1DKSN"
      },
      "execution_count": null,
      "outputs": []
    },
    {
      "cell_type": "code",
      "source": [
        "print(\"The score for Random forest is \",score_rf)"
      ],
      "metadata": {
        "colab": {
          "base_uri": "https://localhost:8080/"
        },
        "id": "-0tEaMyNm6nu",
        "outputId": "2f5e2c14-ee75-4a4b-9784-2885a34d4fee"
      },
      "execution_count": null,
      "outputs": [
        {
          "output_type": "stream",
          "name": "stdout",
          "text": [
            "The score for Random forest is  0.831413582260279\n"
          ]
        }
      ]
    },
    {
      "cell_type": "markdown",
      "source": [
        "## XGboost"
      ],
      "metadata": {
        "id": "CTmS2BEaD4YF"
      }
    },
    {
      "cell_type": "code",
      "source": [
        "import xgboost as xg"
      ],
      "metadata": {
        "id": "YSNQmzyRDRPP"
      },
      "execution_count": null,
      "outputs": []
    },
    {
      "cell_type": "code",
      "source": [
        "xgb_r = xg.XGBRegressor(n_estimators = 10, seed = 123)"
      ],
      "metadata": {
        "id": "xYY231qMEJdN"
      },
      "execution_count": null,
      "outputs": []
    },
    {
      "cell_type": "code",
      "source": [
        "xgb_r.fit(X_train, y_train)"
      ],
      "metadata": {
        "colab": {
          "base_uri": "https://localhost:8080/"
        },
        "id": "Vrz9CGfsEmA7",
        "outputId": "c3ad1b58-7530-4471-9392-f89cf7c6fe77"
      },
      "execution_count": null,
      "outputs": [
        {
          "output_type": "stream",
          "name": "stdout",
          "text": [
            "[17:16:00] WARNING: /workspace/src/objective/regression_obj.cu:152: reg:linear is now deprecated in favor of reg:squarederror.\n"
          ]
        },
        {
          "output_type": "execute_result",
          "data": {
            "text/plain": [
              "XGBRegressor(n_estimators=10, seed=123)"
            ]
          },
          "metadata": {},
          "execution_count": 61
        }
      ]
    },
    {
      "cell_type": "code",
      "source": [
        "pred_xgb=xgb_r.predict(X_test)"
      ],
      "metadata": {
        "id": "oKvbjzC4Exf2"
      },
      "execution_count": null,
      "outputs": []
    },
    {
      "cell_type": "code",
      "source": [
        "sns.distplot(y_test-pred_xgb)\n",
        "plt.show()"
      ],
      "metadata": {
        "colab": {
          "base_uri": "https://localhost:8080/",
          "height": 334
        },
        "id": "FCPBEUVZkzbW",
        "outputId": "b145f49b-0faf-46b9-dda8-a5a1c1500716"
      },
      "execution_count": null,
      "outputs": [
        {
          "output_type": "stream",
          "name": "stderr",
          "text": [
            "/usr/local/lib/python3.7/dist-packages/seaborn/distributions.py:2619: FutureWarning: `distplot` is a deprecated function and will be removed in a future version. Please adapt your code to use either `displot` (a figure-level function with similar flexibility) or `histplot` (an axes-level function for histograms).\n",
            "  warnings.warn(msg, FutureWarning)\n"
          ]
        },
        {
          "output_type": "display_data",
          "data": {
            "text/plain": [
              "<Figure size 432x288 with 1 Axes>"
            ],
            "image/png": "[encoded data removed]"
          },
          "metadata": {
            "needs_background": "light"
          }
        }
      ]
    },
    {
      "cell_type": "code",
      "source": [
        "plt.scatter(y_test, pred_xgb, alpha = 0.5)\n",
        "plt.xlabel(\"y_test\")\n",
        "plt.ylabel(\"y_pred\")\n",
        "plt.show()"
      ],
      "metadata": {
        "colab": {
          "base_uri": "https://localhost:8080/",
          "height": 280
        },
        "id": "L-y9SJzhk-gq",
        "outputId": "527b0b7e-03c1-40a1-b68a-af021ad800c4"
      },
      "execution_count": null,
      "outputs": [
        {
          "output_type": "display_data",
          "data": {
            "text/plain": [
              "<Figure size 432x288 with 1 Axes>"
            ],
            "image/png": "[encoded data removed]"
          },
          "metadata": {
            "needs_background": "light"
          }
        }
      ]
    },
    {
      "cell_type": "code",
      "source": [
        "print('MAE:', metrics.mean_absolute_error(y_test, y_pred))\n",
        "print('MSE:', metrics.mean_squared_error(y_test, y_pred))\n",
        "print('RMSE:', np.sqrt(metrics.mean_squared_error(y_test, y_pred)))"
      ],
      "metadata": {
        "colab": {
          "base_uri": "https://localhost:8080/"
        },
        "id": "A_ZVWOzwEoh1",
        "outputId": "0024d15a-3d2d-43db-e48e-4c18df83b52e"
      },
      "execution_count": null,
      "outputs": [
        {
          "output_type": "stream",
          "name": "stdout",
          "text": [
            "MAE: 1184.1359932377839\n",
            "MSE: 3931065.7496232307\n",
            "RMSE: 1982.6915417238333\n"
          ]
        }
      ]
    },
    {
      "cell_type": "markdown",
      "source": [
        "### HyperParameter Tuning"
      ],
      "metadata": {
        "id": "Ht9JT7jJE7wS"
      }
    },
    {
      "cell_type": "code",
      "source": [
        "max_depth=[5,10,15,20]\n",
        "n_estimators=[100,500,1000]\n",
        "n_jobs=[2,5,8,10]\n",
        "learning_rate=[0.005,0.01,0.05,0.1,1]"
      ],
      "metadata": {
        "id": "7mn6sF38E2E5"
      },
      "execution_count": null,
      "outputs": []
    },
    {
      "cell_type": "code",
      "source": [
        "XGB_grid = {'max_depth': max_depth,\n",
        "               'n_estimators': n_estimators,\n",
        "               'max_depth': max_depth,\n",
        "               'learning_rate':learning_rate}"
      ],
      "metadata": {
        "id": "iMYYTVyaFrZM"
      },
      "execution_count": null,
      "outputs": []
    },
    {
      "cell_type": "code",
      "source": [
        "XGB_random = RandomizedSearchCV(estimator = xgb_r, param_distributions = XGB_grid,scoring='neg_mean_squared_error', n_iter = 10, cv = 5, verbose=2, random_state=42)"
      ],
      "metadata": {
        "id": "YMcxKxsOF5EM"
      },
      "execution_count": null,
      "outputs": []
    },
    {
      "cell_type": "code",
      "source": [
        "XGB_random.fit(X_train,y_train)"
      ],
      "metadata": {
        "colab": {
          "base_uri": "https://localhost:8080/"
        },
        "id": "ooX8BQ0DGG2v",
        "outputId": "16a65691-c22d-43ee-8b10-94ae9df61004"
      },
      "execution_count": null,
      "outputs": [
        {
          "output_type": "stream",
          "name": "stdout",
          "text": [
            "Fitting 5 folds for each of 10 candidates, totalling 50 fits\n",
            "[17:16:00] WARNING: /workspace/src/objective/regression_obj.cu:152: reg:linear is now deprecated in favor of reg:squarederror.\n",
            "[CV] END .learning_rate=0.005, max_depth=5, n_estimators=100; total time=   0.9s\n",
            "[17:16:01] WARNING: /workspace/src/objective/regression_obj.cu:152: reg:linear is now deprecated in favor of reg:squarederror.\n",
            "[CV] END .learning_rate=0.005, max_depth=5, n_estimators=100; total time=   0.9s\n",
            "[17:16:02] WARNING: /workspace/src/objective/regression_obj.cu:152: reg:linear is now deprecated in favor of reg:squarederror.\n",
            "[CV] END .learning_rate=0.005, max_depth=5, n_estimators=100; total time=   0.9s\n",
            "[17:16:03] WARNING: /workspace/src/objective/regression_obj.cu:152: reg:linear is now deprecated in favor of reg:squarederror.\n",
            "[CV] END .learning_rate=0.005, max_depth=5, n_estimators=100; total time=   0.9s\n",
            "[17:16:04] WARNING: /workspace/src/objective/regression_obj.cu:152: reg:linear is now deprecated in favor of reg:squarederror.\n",
            "[CV] END .learning_rate=0.005, max_depth=5, n_estimators=100; total time=   0.9s\n",
            "[17:16:05] WARNING: /workspace/src/objective/regression_obj.cu:152: reg:linear is now deprecated in favor of reg:squarederror.\n",
            "[CV] END learning_rate=0.005, max_depth=10, n_estimators=1000; total time=  20.1s\n",
            "[17:16:25] WARNING: /workspace/src/objective/regression_obj.cu:152: reg:linear is now deprecated in favor of reg:squarederror.\n",
            "[CV] END learning_rate=0.005, max_depth=10, n_estimators=1000; total time=  19.9s\n",
            "[17:16:45] WARNING: /workspace/src/objective/regression_obj.cu:152: reg:linear is now deprecated in favor of reg:squarederror.\n",
            "[CV] END learning_rate=0.005, max_depth=10, n_estimators=1000; total time=  19.9s\n",
            "[17:17:05] WARNING: /workspace/src/objective/regression_obj.cu:152: reg:linear is now deprecated in favor of reg:squarederror.\n",
            "[CV] END learning_rate=0.005, max_depth=10, n_estimators=1000; total time=  20.0s\n",
            "[17:17:25] WARNING: /workspace/src/objective/regression_obj.cu:152: reg:linear is now deprecated in favor of reg:squarederror.\n",
            "[CV] END learning_rate=0.005, max_depth=10, n_estimators=1000; total time=  19.6s\n",
            "[17:17:45] WARNING: /workspace/src/objective/regression_obj.cu:152: reg:linear is now deprecated in favor of reg:squarederror.\n",
            "[CV] END ...learning_rate=0.1, max_depth=5, n_estimators=100; total time=   0.8s\n",
            "[17:17:45] WARNING: /workspace/src/objective/regression_obj.cu:152: reg:linear is now deprecated in favor of reg:squarederror.\n",
            "[CV] END ...learning_rate=0.1, max_depth=5, n_estimators=100; total time=   0.8s\n",
            "[17:17:46] WARNING: /workspace/src/objective/regression_obj.cu:152: reg:linear is now deprecated in favor of reg:squarederror.\n",
            "[CV] END ...learning_rate=0.1, max_depth=5, n_estimators=100; total time=   0.9s\n",
            "[17:17:47] WARNING: /workspace/src/objective/regression_obj.cu:152: reg:linear is now deprecated in favor of reg:squarederror.\n",
            "[CV] END ...learning_rate=0.1, max_depth=5, n_estimators=100; total time=   0.9s\n",
            "[17:17:48] WARNING: /workspace/src/objective/regression_obj.cu:152: reg:linear is now deprecated in favor of reg:squarederror.\n",
            "[CV] END ...learning_rate=0.1, max_depth=5, n_estimators=100; total time=   0.9s\n",
            "[17:17:49] WARNING: /workspace/src/objective/regression_obj.cu:152: reg:linear is now deprecated in favor of reg:squarederror.\n",
            "[CV] END ..learning_rate=0.1, max_depth=20, n_estimators=100; total time=   4.9s\n",
            "[17:17:54] WARNING: /workspace/src/objective/regression_obj.cu:152: reg:linear is now deprecated in favor of reg:squarederror.\n",
            "[CV] END ..learning_rate=0.1, max_depth=20, n_estimators=100; total time=   4.9s\n",
            "[17:17:59] WARNING: /workspace/src/objective/regression_obj.cu:152: reg:linear is now deprecated in favor of reg:squarederror.\n",
            "[CV] END ..learning_rate=0.1, max_depth=20, n_estimators=100; total time=   4.9s\n",
            "[17:18:04] WARNING: /workspace/src/objective/regression_obj.cu:152: reg:linear is now deprecated in favor of reg:squarederror.\n",
            "[CV] END ..learning_rate=0.1, max_depth=20, n_estimators=100; total time=   5.0s\n",
            "[17:18:09] WARNING: /workspace/src/objective/regression_obj.cu:152: reg:linear is now deprecated in favor of reg:squarederror.\n",
            "[CV] END ..learning_rate=0.1, max_depth=20, n_estimators=100; total time=   4.9s\n",
            "[17:18:13] WARNING: /workspace/src/objective/regression_obj.cu:152: reg:linear is now deprecated in favor of reg:squarederror.\n",
            "[CV] END ..learning_rate=0.01, max_depth=5, n_estimators=500; total time=   4.3s\n",
            "[17:18:18] WARNING: /workspace/src/objective/regression_obj.cu:152: reg:linear is now deprecated in favor of reg:squarederror.\n",
            "[CV] END ..learning_rate=0.01, max_depth=5, n_estimators=500; total time=   4.2s\n",
            "[17:18:22] WARNING: /workspace/src/objective/regression_obj.cu:152: reg:linear is now deprecated in favor of reg:squarederror.\n",
            "[CV] END ..learning_rate=0.01, max_depth=5, n_estimators=500; total time=   4.2s\n",
            "[17:18:26] WARNING: /workspace/src/objective/regression_obj.cu:152: reg:linear is now deprecated in favor of reg:squarederror.\n",
            "[CV] END ..learning_rate=0.01, max_depth=5, n_estimators=500; total time=   4.2s\n",
            "[17:18:30] WARNING: /workspace/src/objective/regression_obj.cu:152: reg:linear is now deprecated in favor of reg:squarederror.\n",
            "[CV] END ..learning_rate=0.01, max_depth=5, n_estimators=500; total time=   4.2s\n",
            "[17:18:35] WARNING: /workspace/src/objective/regression_obj.cu:152: reg:linear is now deprecated in favor of reg:squarederror.\n",
            "[CV] END ....learning_rate=1, max_depth=15, n_estimators=100; total time=   2.0s\n",
            "[17:18:37] WARNING: /workspace/src/objective/regression_obj.cu:152: reg:linear is now deprecated in favor of reg:squarederror.\n",
            "[CV] END ....learning_rate=1, max_depth=15, n_estimators=100; total time=   1.8s\n",
            "[17:18:38] WARNING: /workspace/src/objective/regression_obj.cu:152: reg:linear is now deprecated in favor of reg:squarederror.\n",
            "[CV] END ....learning_rate=1, max_depth=15, n_estimators=100; total time=   1.7s\n",
            "[17:18:40] WARNING: /workspace/src/objective/regression_obj.cu:152: reg:linear is now deprecated in favor of reg:squarederror.\n",
            "[CV] END ....learning_rate=1, max_depth=15, n_estimators=100; total time=   2.0s\n",
            "[17:18:42] WARNING: /workspace/src/objective/regression_obj.cu:152: reg:linear is now deprecated in favor of reg:squarederror.\n",
            "[CV] END ....learning_rate=1, max_depth=15, n_estimators=100; total time=   2.2s\n",
            "[17:18:44] WARNING: /workspace/src/objective/regression_obj.cu:152: reg:linear is now deprecated in favor of reg:squarederror.\n",
            "[CV] END .learning_rate=0.05, max_depth=20, n_estimators=100; total time=   4.3s\n",
            "[17:18:49] WARNING: /workspace/src/objective/regression_obj.cu:152: reg:linear is now deprecated in favor of reg:squarederror.\n",
            "[CV] END .learning_rate=0.05, max_depth=20, n_estimators=100; total time=   4.3s\n",
            "[17:18:53] WARNING: /workspace/src/objective/regression_obj.cu:152: reg:linear is now deprecated in favor of reg:squarederror.\n",
            "[CV] END .learning_rate=0.05, max_depth=20, n_estimators=100; total time=   4.3s\n",
            "[17:18:57] WARNING: /workspace/src/objective/regression_obj.cu:152: reg:linear is now deprecated in favor of reg:squarederror.\n",
            "[CV] END .learning_rate=0.05, max_depth=20, n_estimators=100; total time=   4.4s\n",
            "[17:19:02] WARNING: /workspace/src/objective/regression_obj.cu:152: reg:linear is now deprecated in favor of reg:squarederror.\n",
            "[CV] END .learning_rate=0.05, max_depth=20, n_estimators=100; total time=   4.4s\n",
            "[17:19:06] WARNING: /workspace/src/objective/regression_obj.cu:152: reg:linear is now deprecated in favor of reg:squarederror.\n",
            "[CV] END .....learning_rate=1, max_depth=5, n_estimators=100; total time=   0.9s\n",
            "[17:19:07] WARNING: /workspace/src/objective/regression_obj.cu:152: reg:linear is now deprecated in favor of reg:squarederror.\n",
            "[CV] END .....learning_rate=1, max_depth=5, n_estimators=100; total time=   0.9s\n",
            "[17:19:08] WARNING: /workspace/src/objective/regression_obj.cu:152: reg:linear is now deprecated in favor of reg:squarederror.\n",
            "[CV] END .....learning_rate=1, max_depth=5, n_estimators=100; total time=   0.9s\n",
            "[17:19:09] WARNING: /workspace/src/objective/regression_obj.cu:152: reg:linear is now deprecated in favor of reg:squarederror.\n",
            "[CV] END .....learning_rate=1, max_depth=5, n_estimators=100; total time=   0.9s\n",
            "[17:19:10] WARNING: /workspace/src/objective/regression_obj.cu:152: reg:linear is now deprecated in favor of reg:squarederror.\n",
            "[CV] END .....learning_rate=1, max_depth=5, n_estimators=100; total time=   0.9s\n",
            "[17:19:10] WARNING: /workspace/src/objective/regression_obj.cu:152: reg:linear is now deprecated in favor of reg:squarederror.\n",
            "[CV] END ..learning_rate=0.01, max_depth=5, n_estimators=100; total time=   0.9s\n",
            "[17:19:11] WARNING: /workspace/src/objective/regression_obj.cu:152: reg:linear is now deprecated in favor of reg:squarederror.\n",
            "[CV] END ..learning_rate=0.01, max_depth=5, n_estimators=100; total time=   0.9s\n",
            "[17:19:12] WARNING: /workspace/src/objective/regression_obj.cu:152: reg:linear is now deprecated in favor of reg:squarederror.\n",
            "[CV] END ..learning_rate=0.01, max_depth=5, n_estimators=100; total time=   0.9s\n",
            "[17:19:13] WARNING: /workspace/src/objective/regression_obj.cu:152: reg:linear is now deprecated in favor of reg:squarederror.\n",
            "[CV] END ..learning_rate=0.01, max_depth=5, n_estimators=100; total time=   0.9s\n",
            "[17:19:14] WARNING: /workspace/src/objective/regression_obj.cu:152: reg:linear is now deprecated in favor of reg:squarederror.\n",
            "[CV] END ..learning_rate=0.01, max_depth=5, n_estimators=100; total time=   0.9s\n",
            "[17:19:15] WARNING: /workspace/src/objective/regression_obj.cu:152: reg:linear is now deprecated in favor of reg:squarederror.\n",
            "[CV] END ....learning_rate=1, max_depth=20, n_estimators=100; total time=   1.7s\n",
            "[17:19:17] WARNING: /workspace/src/objective/regression_obj.cu:152: reg:linear is now deprecated in favor of reg:squarederror.\n",
            "[CV] END ....learning_rate=1, max_depth=20, n_estimators=100; total time=   1.6s\n",
            "[17:19:18] WARNING: /workspace/src/objective/regression_obj.cu:152: reg:linear is now deprecated in favor of reg:squarederror.\n",
            "[CV] END ....learning_rate=1, max_depth=20, n_estimators=100; total time=   1.9s\n",
            "[17:19:20] WARNING: /workspace/src/objective/regression_obj.cu:152: reg:linear is now deprecated in favor of reg:squarederror.\n",
            "[CV] END ....learning_rate=1, max_depth=20, n_estimators=100; total time=   1.9s\n",
            "[17:19:22] WARNING: /workspace/src/objective/regression_obj.cu:152: reg:linear is now deprecated in favor of reg:squarederror.\n",
            "[CV] END ....learning_rate=1, max_depth=20, n_estimators=100; total time=   2.1s\n",
            "[17:19:24] WARNING: /workspace/src/objective/regression_obj.cu:152: reg:linear is now deprecated in favor of reg:squarederror.\n"
          ]
        },
        {
          "output_type": "execute_result",
          "data": {
            "text/plain": [
              "RandomizedSearchCV(cv=5, estimator=XGBRegressor(n_estimators=10, seed=123),\n",
              "                   param_distributions={'learning_rate': [0.005, 0.01, 0.05,\n",
              "                                                          0.1, 1],\n",
              "                                        'max_depth': [5, 10, 15, 20],\n",
              "                                        'n_estimators': [100, 500, 1000]},\n",
              "                   random_state=42, scoring='neg_mean_squared_error',\n",
              "                   verbose=2)"
            ]
          },
          "metadata": {},
          "execution_count": 69
        }
      ]
    },
    {
      "cell_type": "code",
      "source": [
        "XGB_random.best_params_"
      ],
      "metadata": {
        "colab": {
          "base_uri": "https://localhost:8080/"
        },
        "id": "yJpKjfXQGeB1",
        "outputId": "8a761479-dcd6-4e13-fa04-0aacd9a5667c"
      },
      "execution_count": null,
      "outputs": [
        {
          "output_type": "execute_result",
          "data": {
            "text/plain": [
              "{'learning_rate': 0.005, 'max_depth': 10, 'n_estimators': 1000}"
            ]
          },
          "metadata": {},
          "execution_count": 70
        }
      ]
    },
    {
      "cell_type": "code",
      "source": [
        "xgb_best=xg.XGBRegressor(learning_rate= 0.005, max_depth= 10, n_estimators= 1000,state=42,objectvie='reg:squarederror')"
      ],
      "metadata": {
        "id": "-sDneAxnHSxR"
      },
      "execution_count": null,
      "outputs": []
    },
    {
      "cell_type": "code",
      "source": [
        "xgb_best.fit(X_train,y_train)"
      ],
      "metadata": {
        "colab": {
          "base_uri": "https://localhost:8080/"
        },
        "id": "WNszDfEgH4Ej",
        "outputId": "c968493d-8ce0-49cb-e4f0-dfe9ade651b2"
      },
      "execution_count": null,
      "outputs": [
        {
          "output_type": "stream",
          "name": "stdout",
          "text": [
            "[17:19:48] WARNING: /workspace/src/objective/regression_obj.cu:152: reg:linear is now deprecated in favor of reg:squarederror.\n"
          ]
        },
        {
          "output_type": "execute_result",
          "data": {
            "text/plain": [
              "XGBRegressor(learning_rate=0.005, max_depth=10, n_estimators=1000,\n",
              "             objectvie='reg:squarederror', state=42)"
            ]
          },
          "metadata": {},
          "execution_count": 72
        }
      ]
    },
    {
      "cell_type": "code",
      "source": [
        "y_prediction_xgb = xgb_best.predict(X_test)"
      ],
      "metadata": {
        "id": "cxM78lGNHblm"
      },
      "execution_count": null,
      "outputs": []
    },
    {
      "cell_type": "code",
      "source": [
        "score_xgb=metrics.r2_score(y_test, y_prediction_xgb)"
      ],
      "metadata": {
        "id": "J8tABRW-H0Fq"
      },
      "execution_count": null,
      "outputs": []
    },
    {
      "cell_type": "code",
      "source": [
        "print(\"The R2 score for XGB is\",score_xgb)"
      ],
      "metadata": {
        "colab": {
          "base_uri": "https://localhost:8080/"
        },
        "id": "AdXvVimCmtW3",
        "outputId": "b940124f-088b-4cb3-a970-d77564fdf33a"
      },
      "execution_count": null,
      "outputs": [
        {
          "output_type": "stream",
          "name": "stdout",
          "text": [
            "The R2 score for XGB is 0.8407496354735597\n"
          ]
        }
      ]
    },
    {
      "cell_type": "markdown",
      "source": [
        "## LightGBM"
      ],
      "metadata": {
        "id": "bHoyuaCMIac5"
      }
    },
    {
      "cell_type": "code",
      "source": [
        "from lightgbm import LGBMRegressor"
      ],
      "metadata": {
        "id": "HIacpCNpIFA3"
      },
      "execution_count": null,
      "outputs": []
    },
    {
      "cell_type": "code",
      "source": [
        "lgb_r=LGBMRegressor()\n",
        "lgb_r.fit(X_train,y_train)"
      ],
      "metadata": {
        "colab": {
          "base_uri": "https://localhost:8080/"
        },
        "id": "kiTEZSmIJGpF",
        "outputId": "2bddf6e6-b26b-41e6-e009-f3b6cd5e4dd7"
      },
      "execution_count": null,
      "outputs": [
        {
          "output_type": "execute_result",
          "data": {
            "text/plain": [
              "LGBMRegressor()"
            ]
          },
          "metadata": {},
          "execution_count": 77
        }
      ]
    },
    {
      "cell_type": "code",
      "source": [
        "pred_lgb=lgb_r.predict(X_test)"
      ],
      "metadata": {
        "id": "9Yu5uJF7JO1V"
      },
      "execution_count": null,
      "outputs": []
    },
    {
      "cell_type": "code",
      "source": [
        "plt.scatter(y_test, pred_lgb, alpha = 0.5)\n",
        "plt.xlabel(\"y_test\")\n",
        "plt.ylabel(\"y_pred\")\n",
        "plt.show()"
      ],
      "metadata": {
        "colab": {
          "base_uri": "https://localhost:8080/",
          "height": 280
        },
        "id": "dwUBey4ulC6l",
        "outputId": "216bfa9d-1466-4e0d-9aba-d9a1f4625b86"
      },
      "execution_count": null,
      "outputs": [
        {
          "output_type": "display_data",
          "data": {
            "text/plain": [
              "<Figure size 432x288 with 1 Axes>"
            ],
            "image/png": "[encoded data removed]"
          },
          "metadata": {
            "needs_background": "light"
          }
        }
      ]
    },
    {
      "cell_type": "code",
      "source": [
        "plt.scatter(y_test, pred_lgb, alpha = 0.5)\n",
        "plt.xlabel(\"y_test\")\n",
        "plt.ylabel(\"y_pred\")\n",
        "plt.show()"
      ],
      "metadata": {
        "colab": {
          "base_uri": "https://localhost:8080/",
          "height": 280
        },
        "id": "iMWXJcNImO0G",
        "outputId": "4649fe2a-8850-43d1-b7cb-6852dcf9317a"
      },
      "execution_count": null,
      "outputs": [
        {
          "output_type": "display_data",
          "data": {
            "text/plain": [
              "<Figure size 432x288 with 1 Axes>"
            ],
            "image/png": "[encoded data removed]"
          },
          "metadata": {
            "needs_background": "light"
          }
        }
      ]
    },
    {
      "cell_type": "markdown",
      "source": [
        "### HyperParameter Tuning"
      ],
      "metadata": {
        "id": "cJpk6zJxJbqt"
      }
    },
    {
      "cell_type": "code",
      "source": [
        "max_depth=[5,10,15,20]\n",
        "n_estimators=[100,500,1000]\n",
        "n_jobs=[2,5,8,10]\n",
        "learning_rate=[0.005,0.01,0.05,0.1,1]\n",
        "reg_alpha=[0,0.01,0.5,1]"
      ],
      "metadata": {
        "id": "hb5X1W_TJXsw"
      },
      "execution_count": null,
      "outputs": []
    },
    {
      "cell_type": "code",
      "source": [
        "lgb_grid = {'max_depth': max_depth,\n",
        "               'n_estimators': n_estimators,\n",
        "               'max_depth': max_depth,\n",
        "               'learning_rate':learning_rate,\n",
        "            'reg_aplha':reg_alpha}"
      ],
      "metadata": {
        "id": "dwuihNqoKHaj"
      },
      "execution_count": null,
      "outputs": []
    },
    {
      "cell_type": "code",
      "source": [
        "lgb_random = RandomizedSearchCV(estimator = lgb_r, param_distributions = lgb_grid,scoring='neg_mean_squared_error', n_iter = 10, cv = 5, verbose=2, random_state=42)"
      ],
      "metadata": {
        "id": "a-muaySxKDL5"
      },
      "execution_count": null,
      "outputs": []
    },
    {
      "cell_type": "code",
      "source": [
        "lgb_random.fit(X_train,y_train)"
      ],
      "metadata": {
        "colab": {
          "base_uri": "https://localhost:8080/"
        },
        "id": "i2njid15KOx5",
        "outputId": "fcec0326-3a1b-4577-b6a2-88f6bdba4eb3"
      },
      "execution_count": null,
      "outputs": [
        {
          "output_type": "stream",
          "name": "stdout",
          "text": [
            "Fitting 5 folds for each of 10 candidates, totalling 50 fits\n",
            "[CV] END learning_rate=0.005, max_depth=15, n_estimators=100, reg_aplha=0; total time=   0.2s\n",
            "[CV] END learning_rate=0.005, max_depth=15, n_estimators=100, reg_aplha=0; total time=   0.1s\n",
            "[CV] END learning_rate=0.005, max_depth=15, n_estimators=100, reg_aplha=0; total time=   0.1s\n",
            "[CV] END learning_rate=0.005, max_depth=15, n_estimators=100, reg_aplha=0; total time=   0.1s\n",
            "[CV] END learning_rate=0.005, max_depth=15, n_estimators=100, reg_aplha=0; total time=   0.1s\n",
            "[CV] END learning_rate=0.005, max_depth=5, n_estimators=500, reg_aplha=0.5; total time=   0.6s\n",
            "[CV] END learning_rate=0.005, max_depth=5, n_estimators=500, reg_aplha=0.5; total time=   0.6s\n",
            "[CV] END learning_rate=0.005, max_depth=5, n_estimators=500, reg_aplha=0.5; total time=   0.6s\n",
            "[CV] END learning_rate=0.005, max_depth=5, n_estimators=500, reg_aplha=0.5; total time=   0.6s\n",
            "[CV] END learning_rate=0.005, max_depth=5, n_estimators=500, reg_aplha=0.5; total time=   0.6s\n",
            "[CV] END learning_rate=0.01, max_depth=20, n_estimators=1000, reg_aplha=0.01; total time=   1.2s\n",
            "[CV] END learning_rate=0.01, max_depth=20, n_estimators=1000, reg_aplha=0.01; total time=   1.2s\n",
            "[CV] END learning_rate=0.01, max_depth=20, n_estimators=1000, reg_aplha=0.01; total time=   1.2s\n",
            "[CV] END learning_rate=0.01, max_depth=20, n_estimators=1000, reg_aplha=0.01; total time=   1.3s\n",
            "[CV] END learning_rate=0.01, max_depth=20, n_estimators=1000, reg_aplha=0.01; total time=   1.2s\n",
            "[CV] END learning_rate=0.05, max_depth=10, n_estimators=100, reg_aplha=0.01; total time=   0.1s\n",
            "[CV] END learning_rate=0.05, max_depth=10, n_estimators=100, reg_aplha=0.01; total time=   0.1s\n",
            "[CV] END learning_rate=0.05, max_depth=10, n_estimators=100, reg_aplha=0.01; total time=   0.1s\n",
            "[CV] END learning_rate=0.05, max_depth=10, n_estimators=100, reg_aplha=0.01; total time=   0.1s\n",
            "[CV] END learning_rate=0.05, max_depth=10, n_estimators=100, reg_aplha=0.01; total time=   0.1s\n",
            "[CV] END learning_rate=0.05, max_depth=5, n_estimators=1000, reg_aplha=0; total time=   1.0s\n",
            "[CV] END learning_rate=0.05, max_depth=5, n_estimators=1000, reg_aplha=0; total time=   1.0s\n",
            "[CV] END learning_rate=0.05, max_depth=5, n_estimators=1000, reg_aplha=0; total time=   1.0s\n",
            "[CV] END learning_rate=0.05, max_depth=5, n_estimators=1000, reg_aplha=0; total time=   1.0s\n",
            "[CV] END learning_rate=0.05, max_depth=5, n_estimators=1000, reg_aplha=0; total time=   1.0s\n",
            "[CV] END learning_rate=0.1, max_depth=15, n_estimators=500, reg_aplha=0; total time=   0.6s\n",
            "[CV] END learning_rate=0.1, max_depth=15, n_estimators=500, reg_aplha=0; total time=   0.6s\n",
            "[CV] END learning_rate=0.1, max_depth=15, n_estimators=500, reg_aplha=0; total time=   0.6s\n",
            "[CV] END learning_rate=0.1, max_depth=15, n_estimators=500, reg_aplha=0; total time=   0.6s\n",
            "[CV] END learning_rate=0.1, max_depth=15, n_estimators=500, reg_aplha=0; total time=   0.6s\n",
            "[CV] END learning_rate=1, max_depth=20, n_estimators=500, reg_aplha=0.01; total time=   0.6s\n",
            "[CV] END learning_rate=1, max_depth=20, n_estimators=500, reg_aplha=0.01; total time=   0.6s\n",
            "[CV] END learning_rate=1, max_depth=20, n_estimators=500, reg_aplha=0.01; total time=   0.6s\n",
            "[CV] END learning_rate=1, max_depth=20, n_estimators=500, reg_aplha=0.01; total time=   0.6s\n",
            "[CV] END learning_rate=1, max_depth=20, n_estimators=500, reg_aplha=0.01; total time=   0.6s\n",
            "[CV] END learning_rate=0.01, max_depth=20, n_estimators=100, reg_aplha=0.5; total time=   0.2s\n",
            "[CV] END learning_rate=0.01, max_depth=20, n_estimators=100, reg_aplha=0.5; total time=   0.1s\n",
            "[CV] END learning_rate=0.01, max_depth=20, n_estimators=100, reg_aplha=0.5; total time=   0.1s\n",
            "[CV] END learning_rate=0.01, max_depth=20, n_estimators=100, reg_aplha=0.5; total time=   0.2s\n",
            "[CV] END learning_rate=0.01, max_depth=20, n_estimators=100, reg_aplha=0.5; total time=   0.1s\n",
            "[CV] END learning_rate=0.005, max_depth=5, n_estimators=1000, reg_aplha=0.01; total time=   1.1s\n",
            "[CV] END learning_rate=0.005, max_depth=5, n_estimators=1000, reg_aplha=0.01; total time=   1.1s\n",
            "[CV] END learning_rate=0.005, max_depth=5, n_estimators=1000, reg_aplha=0.01; total time=   1.1s\n",
            "[CV] END learning_rate=0.005, max_depth=5, n_estimators=1000, reg_aplha=0.01; total time=   1.1s\n",
            "[CV] END learning_rate=0.005, max_depth=5, n_estimators=1000, reg_aplha=0.01; total time=   1.1s\n",
            "[CV] END learning_rate=0.05, max_depth=20, n_estimators=1000, reg_aplha=1; total time=   1.1s\n",
            "[CV] END learning_rate=0.05, max_depth=20, n_estimators=1000, reg_aplha=1; total time=   1.1s\n",
            "[CV] END learning_rate=0.05, max_depth=20, n_estimators=1000, reg_aplha=1; total time=   1.1s\n",
            "[CV] END learning_rate=0.05, max_depth=20, n_estimators=1000, reg_aplha=1; total time=   1.1s\n",
            "[CV] END learning_rate=0.05, max_depth=20, n_estimators=1000, reg_aplha=1; total time=   1.1s\n"
          ]
        },
        {
          "output_type": "execute_result",
          "data": {
            "text/plain": [
              "RandomizedSearchCV(cv=5, estimator=LGBMRegressor(),\n",
              "                   param_distributions={'learning_rate': [0.005, 0.01, 0.05,\n",
              "                                                          0.1, 1],\n",
              "                                        'max_depth': [5, 10, 15, 20],\n",
              "                                        'n_estimators': [100, 500, 1000],\n",
              "                                        'reg_aplha': [0, 0.01, 0.5, 1]},\n",
              "                   random_state=42, scoring='neg_mean_squared_error',\n",
              "                   verbose=2)"
            ]
          },
          "metadata": {},
          "execution_count": 84
        }
      ]
    },
    {
      "cell_type": "code",
      "source": [
        "lgb_random.best_params_"
      ],
      "metadata": {
        "colab": {
          "base_uri": "https://localhost:8080/"
        },
        "id": "xE5R4hP6KaQg",
        "outputId": "654acc10-2c1f-4b2d-9df8-d64edd1888e5"
      },
      "execution_count": null,
      "outputs": [
        {
          "output_type": "execute_result",
          "data": {
            "text/plain": [
              "{'learning_rate': 0.05, 'max_depth': 20, 'n_estimators': 1000, 'reg_aplha': 1}"
            ]
          },
          "metadata": {},
          "execution_count": 85
        }
      ]
    },
    {
      "cell_type": "code",
      "source": [
        "lgb_best=LGBMRegressor(learning_rate= 0.05, max_depth= 20, n_estimators= 1000, reg_aplha= 1,seed=42)"
      ],
      "metadata": {
        "id": "1FGuqoXHNLfq"
      },
      "execution_count": null,
      "outputs": []
    },
    {
      "cell_type": "code",
      "source": [
        "lgb_best.fit(X_train,y_train)"
      ],
      "metadata": {
        "colab": {
          "base_uri": "https://localhost:8080/"
        },
        "id": "CV2EAK-qNn8u",
        "outputId": "b8858bae-3edd-4491-e811-f7eea655a689"
      },
      "execution_count": null,
      "outputs": [
        {
          "output_type": "execute_result",
          "data": {
            "text/plain": [
              "LGBMRegressor(learning_rate=0.05, max_depth=20, n_estimators=1000, reg_aplha=1,\n",
              "              seed=42)"
            ]
          },
          "metadata": {},
          "execution_count": 87
        }
      ]
    },
    {
      "cell_type": "code",
      "source": [
        "lgb_best.fit(X_train,y_train)"
      ],
      "metadata": {
        "colab": {
          "base_uri": "https://localhost:8080/"
        },
        "id": "K0szrzP1Nqod",
        "outputId": "a8d9d1ae-5e61-404d-b40d-c39d1935cd55"
      },
      "execution_count": null,
      "outputs": [
        {
          "output_type": "execute_result",
          "data": {
            "text/plain": [
              "LGBMRegressor(learning_rate=0.05, max_depth=20, n_estimators=1000, reg_aplha=1,\n",
              "              seed=42)"
            ]
          },
          "metadata": {},
          "execution_count": 88
        }
      ]
    },
    {
      "cell_type": "code",
      "source": [
        "y_prediction_lgb=lgb_best.predict(X_test)"
      ],
      "metadata": {
        "id": "w6xGqegPN5JD"
      },
      "execution_count": null,
      "outputs": []
    },
    {
      "cell_type": "code",
      "source": [
        "score_lgb=metrics.r2_score(y_test, y_prediction_lgb)"
      ],
      "metadata": {
        "id": "7dU-4uMKN3NS"
      },
      "execution_count": null,
      "outputs": []
    },
    {
      "cell_type": "code",
      "source": [
        "score_lgb"
      ],
      "metadata": {
        "colab": {
          "base_uri": "https://localhost:8080/"
        },
        "id": "EuDJQpSBpdEg",
        "outputId": "65f2d691-fd36-495c-a784-1d155feeeb27"
      },
      "execution_count": null,
      "outputs": [
        {
          "output_type": "execute_result",
          "data": {
            "text/plain": [
              "0.8219500646852804"
            ]
          },
          "metadata": {},
          "execution_count": 91
        }
      ]
    },
    {
      "cell_type": "markdown",
      "source": [
        "## Artificial Neural Network"
      ],
      "metadata": {
        "id": "S_GQMMD5Q61w"
      }
    },
    {
      "cell_type": "code",
      "source": [
        "X_train.shape"
      ],
      "metadata": {
        "colab": {
          "base_uri": "https://localhost:8080/"
        },
        "id": "_e_C4WaMS_y4",
        "outputId": "c6c72085-2f7f-4062-ce7d-a7483d326899"
      },
      "execution_count": null,
      "outputs": [
        {
          "output_type": "execute_result",
          "data": {
            "text/plain": [
              "(8369, 29)"
            ]
          },
          "metadata": {},
          "execution_count": 92
        }
      ]
    },
    {
      "cell_type": "code",
      "source": [
        "import tensorflow as tf"
      ],
      "metadata": {
        "id": "WJEScwfwTLzy"
      },
      "execution_count": null,
      "outputs": []
    },
    {
      "cell_type": "code",
      "source": [
        "from keras import Sequential\n",
        "from keras.layers import Dense"
      ],
      "metadata": {
        "id": "OOfasgjrTZxK"
      },
      "execution_count": null,
      "outputs": []
    },
    {
      "cell_type": "code",
      "source": [
        "NN_model = Sequential()\n",
        "\n",
        "# The Input Layer :\n",
        "NN_model.add(Dense(50, kernel_initializer='normal',input_dim = X_train.shape[1], activation='relu'))\n",
        "\n",
        "# The Hidden Layers :\n",
        "NN_model.add(Dense(100, kernel_initializer='normal',activation='relu'))\n",
        "NN_model.add(Dense(100, kernel_initializer='normal',activation='relu'))\n",
        "NN_model.add(Dense(100, kernel_initializer='normal',activation='relu'))\n",
        "\n",
        "# The Output Layer :\n",
        "NN_model.add(Dense(1, kernel_initializer='normal',activation='linear'))\n",
        "\n",
        "# Compile the network :\n",
        "NN_model.compile(loss='mean_absolute_error', optimizer='adam', metrics=['mean_absolute_error'])\n",
        "NN_model.summary()"
      ],
      "metadata": {
        "colab": {
          "base_uri": "https://localhost:8080/"
        },
        "id": "xF64TikhUIEy",
        "outputId": "f00a50af-9e3f-4d2c-cd9d-0243eef9138a"
      },
      "execution_count": null,
      "outputs": [
        {
          "output_type": "stream",
          "name": "stdout",
          "text": [
            "Model: \"sequential_1\"\n",
            "_________________________________________________________________\n",
            " Layer (type)                Output Shape              Param #   \n",
            "=================================================================\n",
            " dense_5 (Dense)             (None, 50)                1500      \n",
            "                                                                 \n",
            " dense_6 (Dense)             (None, 100)               5100      \n",
            "                                                                 \n",
            " dense_7 (Dense)             (None, 100)               10100     \n",
            "                                                                 \n",
            " dense_8 (Dense)             (None, 100)               10100     \n",
            "                                                                 \n",
            " dense_9 (Dense)             (None, 1)                 101       \n",
            "                                                                 \n",
            "=================================================================\n",
            "Total params: 26,901\n",
            "Trainable params: 26,901\n",
            "Non-trainable params: 0\n",
            "_________________________________________________________________\n"
          ]
        }
      ]
    },
    {
      "cell_type": "code",
      "source": [
        "NN_model.fit(X_train, y_train, epochs=500, batch_size=32, validation_split = 0.2)"
      ],
      "metadata": {
        "colab": {
          "base_uri": "https://localhost:8080/"
        },
        "id": "FCs1akRuUnUA",
        "outputId": "1586eec1-86eb-45bf-c3f1-4a59cc125b5e"
      },
      "execution_count": null,
      "outputs": [
        {
          "output_type": "stream",
          "name": "stdout",
          "text": [
            "Epoch 1/500\n",
            "210/210 [==============================] - 1s 3ms/step - loss: 4927.4355 - mean_absolute_error: 4927.4355 - val_loss: 2760.3708 - val_mean_absolute_error: 2760.3708\n",
            "Epoch 2/500\n",
            "210/210 [==============================] - 1s 3ms/step - loss: 2688.0493 - mean_absolute_error: 2688.0493 - val_loss: 2512.4121 - val_mean_absolute_error: 2512.4121\n",
            "Epoch 3/500\n",
            "210/210 [==============================] - 1s 3ms/step - loss: 2516.8018 - mean_absolute_error: 2516.8018 - val_loss: 2366.5312 - val_mean_absolute_error: 2366.5312\n",
            "Epoch 4/500\n",
            "210/210 [==============================] - 1s 3ms/step - loss: 2329.1562 - mean_absolute_error: 2329.1562 - val_loss: 2192.9409 - val_mean_absolute_error: 2192.9409\n",
            "Epoch 5/500\n",
            "210/210 [==============================] - 1s 3ms/step - loss: 2173.4580 - mean_absolute_error: 2173.4580 - val_loss: 2054.5640 - val_mean_absolute_error: 2054.5640\n",
            "Epoch 6/500\n",
            "210/210 [==============================] - 1s 2ms/step - loss: 2071.6003 - mean_absolute_error: 2071.6003 - val_loss: 2006.0604 - val_mean_absolute_error: 2006.0604\n",
            "Epoch 7/500\n",
            "210/210 [==============================] - 1s 2ms/step - loss: 2003.9099 - mean_absolute_error: 2003.9099 - val_loss: 1956.9739 - val_mean_absolute_error: 1956.9739\n",
            "Epoch 8/500\n",
            "210/210 [==============================] - 1s 3ms/step - loss: 1974.1632 - mean_absolute_error: 1974.1632 - val_loss: 1950.8324 - val_mean_absolute_error: 1950.8324\n",
            "Epoch 9/500\n",
            "210/210 [==============================] - 1s 3ms/step - loss: 1955.0322 - mean_absolute_error: 1955.0322 - val_loss: 1894.1853 - val_mean_absolute_error: 1894.1853\n",
            "Epoch 10/500\n",
            "210/210 [==============================] - 1s 3ms/step - loss: 1937.5569 - mean_absolute_error: 1937.5569 - val_loss: 1899.6378 - val_mean_absolute_error: 1899.6378\n",
            "Epoch 11/500\n",
            "210/210 [==============================] - 1s 2ms/step - loss: 1902.1089 - mean_absolute_error: 1902.1089 - val_loss: 1841.5975 - val_mean_absolute_error: 1841.5975\n",
            "Epoch 12/500\n",
            "210/210 [==============================] - 1s 2ms/step - loss: 1879.9144 - mean_absolute_error: 1879.9144 - val_loss: 1854.7205 - val_mean_absolute_error: 1854.7205\n",
            "Epoch 13/500\n",
            "210/210 [==============================] - 1s 2ms/step - loss: 1871.3983 - mean_absolute_error: 1871.3983 - val_loss: 1844.8608 - val_mean_absolute_error: 1844.8608\n",
            "Epoch 14/500\n",
            "210/210 [==============================] - 1s 3ms/step - loss: 1867.3254 - mean_absolute_error: 1867.3254 - val_loss: 1797.9525 - val_mean_absolute_error: 1797.9525\n",
            "Epoch 15/500\n",
            "210/210 [==============================] - 1s 2ms/step - loss: 1847.8239 - mean_absolute_error: 1847.8239 - val_loss: 1801.2052 - val_mean_absolute_error: 1801.2052\n",
            "Epoch 16/500\n",
            "210/210 [==============================] - 1s 3ms/step - loss: 1819.1083 - mean_absolute_error: 1819.1083 - val_loss: 1848.2823 - val_mean_absolute_error: 1848.2823\n",
            "Epoch 17/500\n",
            "210/210 [==============================] - 1s 2ms/step - loss: 1827.7635 - mean_absolute_error: 1827.7635 - val_loss: 1930.9122 - val_mean_absolute_error: 1930.9122\n",
            "Epoch 18/500\n",
            "210/210 [==============================] - 1s 3ms/step - loss: 1785.5275 - mean_absolute_error: 1785.5275 - val_loss: 1748.3816 - val_mean_absolute_error: 1748.3816\n",
            "Epoch 19/500\n",
            "210/210 [==============================] - 1s 3ms/step - loss: 1780.4521 - mean_absolute_error: 1780.4521 - val_loss: 1762.8561 - val_mean_absolute_error: 1762.8561\n",
            "Epoch 20/500\n",
            "210/210 [==============================] - 1s 3ms/step - loss: 1762.4757 - mean_absolute_error: 1762.4757 - val_loss: 1725.4043 - val_mean_absolute_error: 1725.4043\n",
            "Epoch 21/500\n",
            "210/210 [==============================] - 1s 3ms/step - loss: 1751.8201 - mean_absolute_error: 1751.8201 - val_loss: 1718.2969 - val_mean_absolute_error: 1718.2969\n",
            "Epoch 22/500\n",
            "210/210 [==============================] - 1s 2ms/step - loss: 1740.2269 - mean_absolute_error: 1740.2269 - val_loss: 1740.9165 - val_mean_absolute_error: 1740.9165\n",
            "Epoch 23/500\n",
            "210/210 [==============================] - 1s 3ms/step - loss: 1720.8510 - mean_absolute_error: 1720.8510 - val_loss: 1687.5187 - val_mean_absolute_error: 1687.5187\n",
            "Epoch 24/500\n",
            "210/210 [==============================] - 1s 3ms/step - loss: 1699.1649 - mean_absolute_error: 1699.1649 - val_loss: 1670.3214 - val_mean_absolute_error: 1670.3214\n",
            "Epoch 25/500\n",
            "210/210 [==============================] - 1s 3ms/step - loss: 1703.1434 - mean_absolute_error: 1703.1434 - val_loss: 1756.1854 - val_mean_absolute_error: 1756.1854\n",
            "Epoch 26/500\n",
            "210/210 [==============================] - 1s 3ms/step - loss: 1685.9821 - mean_absolute_error: 1685.9821 - val_loss: 1694.8394 - val_mean_absolute_error: 1694.8394\n",
            "Epoch 27/500\n",
            "210/210 [==============================] - 1s 3ms/step - loss: 1678.1243 - mean_absolute_error: 1678.1243 - val_loss: 1686.5948 - val_mean_absolute_error: 1686.5948\n",
            "Epoch 28/500\n",
            "210/210 [==============================] - 1s 3ms/step - loss: 1661.6334 - mean_absolute_error: 1661.6334 - val_loss: 1705.8730 - val_mean_absolute_error: 1705.8730\n",
            "Epoch 29/500\n",
            "210/210 [==============================] - 1s 3ms/step - loss: 1658.3702 - mean_absolute_error: 1658.3702 - val_loss: 1637.1279 - val_mean_absolute_error: 1637.1279\n",
            "Epoch 30/500\n",
            "210/210 [==============================] - 1s 3ms/step - loss: 1655.1256 - mean_absolute_error: 1655.1256 - val_loss: 1644.1318 - val_mean_absolute_error: 1644.1318\n",
            "Epoch 31/500\n",
            "210/210 [==============================] - 1s 3ms/step - loss: 1662.6173 - mean_absolute_error: 1662.6173 - val_loss: 1616.3387 - val_mean_absolute_error: 1616.3387\n",
            "Epoch 32/500\n",
            "210/210 [==============================] - 1s 3ms/step - loss: 1632.2046 - mean_absolute_error: 1632.2046 - val_loss: 1616.5632 - val_mean_absolute_error: 1616.5632\n",
            "Epoch 33/500\n",
            "210/210 [==============================] - 1s 3ms/step - loss: 1646.7462 - mean_absolute_error: 1646.7462 - val_loss: 1629.9407 - val_mean_absolute_error: 1629.9407\n",
            "Epoch 34/500\n",
            "210/210 [==============================] - 1s 2ms/step - loss: 1638.9032 - mean_absolute_error: 1638.9032 - val_loss: 1669.1925 - val_mean_absolute_error: 1669.1925\n",
            "Epoch 35/500\n",
            "210/210 [==============================] - 1s 2ms/step - loss: 1612.7203 - mean_absolute_error: 1612.7203 - val_loss: 1601.2159 - val_mean_absolute_error: 1601.2159\n",
            "Epoch 36/500\n",
            "210/210 [==============================] - 1s 2ms/step - loss: 1604.0092 - mean_absolute_error: 1604.0092 - val_loss: 1637.7859 - val_mean_absolute_error: 1637.7859\n",
            "Epoch 37/500\n",
            "210/210 [==============================] - 1s 2ms/step - loss: 1602.8156 - mean_absolute_error: 1602.8156 - val_loss: 1592.3444 - val_mean_absolute_error: 1592.3444\n",
            "Epoch 38/500\n",
            "210/210 [==============================] - 1s 3ms/step - loss: 1595.7454 - mean_absolute_error: 1595.7454 - val_loss: 1592.9652 - val_mean_absolute_error: 1592.9652\n",
            "Epoch 39/500\n",
            "210/210 [==============================] - 1s 2ms/step - loss: 1590.4207 - mean_absolute_error: 1590.4207 - val_loss: 1608.0022 - val_mean_absolute_error: 1608.0022\n",
            "Epoch 40/500\n",
            "210/210 [==============================] - 1s 3ms/step - loss: 1606.2242 - mean_absolute_error: 1606.2242 - val_loss: 1577.8016 - val_mean_absolute_error: 1577.8016\n",
            "Epoch 41/500\n",
            "210/210 [==============================] - 1s 3ms/step - loss: 1588.7568 - mean_absolute_error: 1588.7568 - val_loss: 1592.2542 - val_mean_absolute_error: 1592.2542\n",
            "Epoch 42/500\n",
            "210/210 [==============================] - 1s 3ms/step - loss: 1598.3192 - mean_absolute_error: 1598.3192 - val_loss: 1582.3878 - val_mean_absolute_error: 1582.3878\n",
            "Epoch 43/500\n",
            "210/210 [==============================] - 1s 2ms/step - loss: 1576.0333 - mean_absolute_error: 1576.0333 - val_loss: 1565.7161 - val_mean_absolute_error: 1565.7161\n",
            "Epoch 44/500\n",
            "210/210 [==============================] - 1s 3ms/step - loss: 1585.4037 - mean_absolute_error: 1585.4037 - val_loss: 1598.9357 - val_mean_absolute_error: 1598.9357\n",
            "Epoch 45/500\n",
            "210/210 [==============================] - 1s 3ms/step - loss: 1574.4181 - mean_absolute_error: 1574.4181 - val_loss: 1568.7527 - val_mean_absolute_error: 1568.7527\n",
            "Epoch 46/500\n",
            "210/210 [==============================] - 1s 3ms/step - loss: 1567.6644 - mean_absolute_error: 1567.6644 - val_loss: 1614.3732 - val_mean_absolute_error: 1614.3732\n",
            "Epoch 47/500\n",
            "210/210 [==============================] - 1s 3ms/step - loss: 1569.5747 - mean_absolute_error: 1569.5747 - val_loss: 1564.5103 - val_mean_absolute_error: 1564.5103\n",
            "Epoch 48/500\n",
            "210/210 [==============================] - 1s 2ms/step - loss: 1574.7347 - mean_absolute_error: 1574.7347 - val_loss: 1572.4801 - val_mean_absolute_error: 1572.4801\n",
            "Epoch 49/500\n",
            "210/210 [==============================] - 1s 3ms/step - loss: 1551.4535 - mean_absolute_error: 1551.4535 - val_loss: 1659.3883 - val_mean_absolute_error: 1659.3883\n",
            "Epoch 50/500\n",
            "210/210 [==============================] - 1s 3ms/step - loss: 1570.5228 - mean_absolute_error: 1570.5228 - val_loss: 1619.7275 - val_mean_absolute_error: 1619.7275\n",
            "Epoch 51/500\n",
            "210/210 [==============================] - 1s 3ms/step - loss: 1564.9270 - mean_absolute_error: 1564.9270 - val_loss: 1578.0723 - val_mean_absolute_error: 1578.0723\n",
            "Epoch 52/500\n",
            "210/210 [==============================] - 1s 3ms/step - loss: 1555.3378 - mean_absolute_error: 1555.3378 - val_loss: 1559.0046 - val_mean_absolute_error: 1559.0046\n",
            "Epoch 53/500\n",
            "210/210 [==============================] - 1s 3ms/step - loss: 1543.9373 - mean_absolute_error: 1543.9373 - val_loss: 1601.0797 - val_mean_absolute_error: 1601.0797\n",
            "Epoch 54/500\n",
            "210/210 [==============================] - 1s 2ms/step - loss: 1547.4066 - mean_absolute_error: 1547.4066 - val_loss: 1565.5211 - val_mean_absolute_error: 1565.5211\n",
            "Epoch 55/500\n",
            "210/210 [==============================] - 1s 3ms/step - loss: 1546.7021 - mean_absolute_error: 1546.7021 - val_loss: 1584.7582 - val_mean_absolute_error: 1584.7582\n",
            "Epoch 56/500\n",
            "210/210 [==============================] - 1s 3ms/step - loss: 1537.3282 - mean_absolute_error: 1537.3282 - val_loss: 1583.6647 - val_mean_absolute_error: 1583.6647\n",
            "Epoch 57/500\n",
            "210/210 [==============================] - 1s 3ms/step - loss: 1552.1343 - mean_absolute_error: 1552.1343 - val_loss: 1586.2275 - val_mean_absolute_error: 1586.2275\n",
            "Epoch 58/500\n",
            "210/210 [==============================] - 1s 3ms/step - loss: 1548.5522 - mean_absolute_error: 1548.5522 - val_loss: 1549.7018 - val_mean_absolute_error: 1549.7018\n",
            "Epoch 59/500\n",
            "210/210 [==============================] - 1s 3ms/step - loss: 1541.4449 - mean_absolute_error: 1541.4449 - val_loss: 1562.5276 - val_mean_absolute_error: 1562.5276\n",
            "Epoch 60/500\n",
            "210/210 [==============================] - 1s 2ms/step - loss: 1528.7062 - mean_absolute_error: 1528.7062 - val_loss: 1542.7939 - val_mean_absolute_error: 1542.7939\n",
            "Epoch 61/500\n",
            "210/210 [==============================] - 1s 2ms/step - loss: 1532.5095 - mean_absolute_error: 1532.5095 - val_loss: 1551.2688 - val_mean_absolute_error: 1551.2688\n",
            "Epoch 62/500\n",
            "210/210 [==============================] - 1s 2ms/step - loss: 1520.6290 - mean_absolute_error: 1520.6290 - val_loss: 1575.3149 - val_mean_absolute_error: 1575.3149\n",
            "Epoch 63/500\n",
            "210/210 [==============================] - 1s 3ms/step - loss: 1522.3019 - mean_absolute_error: 1522.3019 - val_loss: 1547.5054 - val_mean_absolute_error: 1547.5054\n",
            "Epoch 64/500\n",
            "210/210 [==============================] - 1s 3ms/step - loss: 1523.4617 - mean_absolute_error: 1523.4617 - val_loss: 1565.8462 - val_mean_absolute_error: 1565.8462\n",
            "Epoch 65/500\n",
            "210/210 [==============================] - 1s 3ms/step - loss: 1513.3922 - mean_absolute_error: 1513.3922 - val_loss: 1549.0621 - val_mean_absolute_error: 1549.0621\n",
            "Epoch 66/500\n",
            "210/210 [==============================] - 1s 3ms/step - loss: 1514.2888 - mean_absolute_error: 1514.2888 - val_loss: 1583.9498 - val_mean_absolute_error: 1583.9498\n",
            "Epoch 67/500\n",
            "210/210 [==============================] - 1s 3ms/step - loss: 1505.6622 - mean_absolute_error: 1505.6622 - val_loss: 1529.1683 - val_mean_absolute_error: 1529.1683\n",
            "Epoch 68/500\n",
            "210/210 [==============================] - 1s 2ms/step - loss: 1497.0955 - mean_absolute_error: 1497.0955 - val_loss: 1532.3107 - val_mean_absolute_error: 1532.3107\n",
            "Epoch 69/500\n",
            "210/210 [==============================] - 1s 3ms/step - loss: 1508.6831 - mean_absolute_error: 1508.6831 - val_loss: 1551.3796 - val_mean_absolute_error: 1551.3796\n",
            "Epoch 70/500\n",
            "210/210 [==============================] - 1s 3ms/step - loss: 1489.7808 - mean_absolute_error: 1489.7808 - val_loss: 1619.5363 - val_mean_absolute_error: 1619.5363\n",
            "Epoch 71/500\n",
            "210/210 [==============================] - 1s 3ms/step - loss: 1482.1340 - mean_absolute_error: 1482.1340 - val_loss: 1541.3539 - val_mean_absolute_error: 1541.3539\n",
            "Epoch 72/500\n",
            "210/210 [==============================] - 1s 3ms/step - loss: 1493.5001 - mean_absolute_error: 1493.5001 - val_loss: 1544.1980 - val_mean_absolute_error: 1544.1980\n",
            "Epoch 73/500\n",
            "210/210 [==============================] - 1s 3ms/step - loss: 1497.1694 - mean_absolute_error: 1497.1694 - val_loss: 1555.4391 - val_mean_absolute_error: 1555.4391\n",
            "Epoch 74/500\n",
            "210/210 [==============================] - 1s 3ms/step - loss: 1501.4464 - mean_absolute_error: 1501.4464 - val_loss: 1537.3126 - val_mean_absolute_error: 1537.3126\n",
            "Epoch 75/500\n",
            "210/210 [==============================] - 1s 3ms/step - loss: 1496.0009 - mean_absolute_error: 1496.0009 - val_loss: 1529.6288 - val_mean_absolute_error: 1529.6288\n",
            "Epoch 76/500\n",
            "210/210 [==============================] - 1s 3ms/step - loss: 1502.2593 - mean_absolute_error: 1502.2593 - val_loss: 1548.3695 - val_mean_absolute_error: 1548.3695\n",
            "Epoch 77/500\n",
            "210/210 [==============================] - 1s 3ms/step - loss: 1479.0684 - mean_absolute_error: 1479.0684 - val_loss: 1527.6656 - val_mean_absolute_error: 1527.6656\n",
            "Epoch 78/500\n",
            "210/210 [==============================] - 1s 2ms/step - loss: 1479.6947 - mean_absolute_error: 1479.6947 - val_loss: 1521.1316 - val_mean_absolute_error: 1521.1316\n",
            "Epoch 79/500\n",
            "210/210 [==============================] - 1s 3ms/step - loss: 1476.8075 - mean_absolute_error: 1476.8075 - val_loss: 1550.6001 - val_mean_absolute_error: 1550.6001\n",
            "Epoch 80/500\n",
            "210/210 [==============================] - 1s 3ms/step - loss: 1484.3610 - mean_absolute_error: 1484.3610 - val_loss: 1545.7268 - val_mean_absolute_error: 1545.7268\n",
            "Epoch 81/500\n",
            "210/210 [==============================] - 1s 3ms/step - loss: 1469.2498 - mean_absolute_error: 1469.2498 - val_loss: 1600.9484 - val_mean_absolute_error: 1600.9484\n",
            "Epoch 82/500\n",
            "210/210 [==============================] - 1s 3ms/step - loss: 1466.1564 - mean_absolute_error: 1466.1564 - val_loss: 1594.6245 - val_mean_absolute_error: 1594.6245\n",
            "Epoch 83/500\n",
            "210/210 [==============================] - 1s 3ms/step - loss: 1464.9984 - mean_absolute_error: 1464.9984 - val_loss: 1553.1365 - val_mean_absolute_error: 1553.1365\n",
            "Epoch 84/500\n",
            "210/210 [==============================] - 1s 3ms/step - loss: 1462.8818 - mean_absolute_error: 1462.8818 - val_loss: 1528.7006 - val_mean_absolute_error: 1528.7006\n",
            "Epoch 85/500\n",
            "210/210 [==============================] - 1s 3ms/step - loss: 1464.0470 - mean_absolute_error: 1464.0470 - val_loss: 1531.2714 - val_mean_absolute_error: 1531.2714\n",
            "Epoch 86/500\n",
            "210/210 [==============================] - 1s 3ms/step - loss: 1457.7985 - mean_absolute_error: 1457.7985 - val_loss: 1552.2635 - val_mean_absolute_error: 1552.2635\n",
            "Epoch 87/500\n",
            "210/210 [==============================] - 1s 3ms/step - loss: 1470.9514 - mean_absolute_error: 1470.9514 - val_loss: 1533.3103 - val_mean_absolute_error: 1533.3103\n",
            "Epoch 88/500\n",
            "210/210 [==============================] - 1s 3ms/step - loss: 1459.3380 - mean_absolute_error: 1459.3380 - val_loss: 1554.1665 - val_mean_absolute_error: 1554.1665\n",
            "Epoch 89/500\n",
            "210/210 [==============================] - 1s 3ms/step - loss: 1464.5824 - mean_absolute_error: 1464.5824 - val_loss: 1551.6868 - val_mean_absolute_error: 1551.6868\n",
            "Epoch 90/500\n",
            "210/210 [==============================] - 1s 3ms/step - loss: 1451.0732 - mean_absolute_error: 1451.0732 - val_loss: 1514.0022 - val_mean_absolute_error: 1514.0022\n",
            "Epoch 91/500\n",
            "210/210 [==============================] - 1s 3ms/step - loss: 1457.1946 - mean_absolute_error: 1457.1946 - val_loss: 1603.1342 - val_mean_absolute_error: 1603.1342\n",
            "Epoch 92/500\n",
            "210/210 [==============================] - 1s 3ms/step - loss: 1450.4103 - mean_absolute_error: 1450.4103 - val_loss: 1520.9059 - val_mean_absolute_error: 1520.9059\n",
            "Epoch 93/500\n",
            "210/210 [==============================] - 1s 3ms/step - loss: 1453.9971 - mean_absolute_error: 1453.9971 - val_loss: 1546.4418 - val_mean_absolute_error: 1546.4418\n",
            "Epoch 94/500\n",
            "210/210 [==============================] - 1s 3ms/step - loss: 1442.0220 - mean_absolute_error: 1442.0220 - val_loss: 1567.1350 - val_mean_absolute_error: 1567.1350\n",
            "Epoch 95/500\n",
            "210/210 [==============================] - 1s 3ms/step - loss: 1452.7898 - mean_absolute_error: 1452.7898 - val_loss: 1515.7795 - val_mean_absolute_error: 1515.7795\n",
            "Epoch 96/500\n",
            "210/210 [==============================] - 1s 3ms/step - loss: 1454.0573 - mean_absolute_error: 1454.0573 - val_loss: 1526.0944 - val_mean_absolute_error: 1526.0944\n",
            "Epoch 97/500\n",
            "210/210 [==============================] - 1s 3ms/step - loss: 1444.0548 - mean_absolute_error: 1444.0548 - val_loss: 1506.7001 - val_mean_absolute_error: 1506.7001\n",
            "Epoch 98/500\n",
            "210/210 [==============================] - 1s 3ms/step - loss: 1459.4491 - mean_absolute_error: 1459.4491 - val_loss: 1762.1680 - val_mean_absolute_error: 1762.1680\n",
            "Epoch 99/500\n",
            "210/210 [==============================] - 1s 3ms/step - loss: 1443.7206 - mean_absolute_error: 1443.7206 - val_loss: 1510.5533 - val_mean_absolute_error: 1510.5533\n",
            "Epoch 100/500\n",
            "210/210 [==============================] - 1s 3ms/step - loss: 1459.1765 - mean_absolute_error: 1459.1765 - val_loss: 1498.2335 - val_mean_absolute_error: 1498.2335\n",
            "Epoch 101/500\n",
            "210/210 [==============================] - 1s 3ms/step - loss: 1431.1011 - mean_absolute_error: 1431.1011 - val_loss: 1494.9874 - val_mean_absolute_error: 1494.9874\n",
            "Epoch 102/500\n",
            "210/210 [==============================] - 1s 3ms/step - loss: 1426.3652 - mean_absolute_error: 1426.3652 - val_loss: 1509.6377 - val_mean_absolute_error: 1509.6377\n",
            "Epoch 103/500\n",
            "210/210 [==============================] - 1s 3ms/step - loss: 1422.8685 - mean_absolute_error: 1422.8685 - val_loss: 1540.2543 - val_mean_absolute_error: 1540.2543\n",
            "Epoch 104/500\n",
            "210/210 [==============================] - 1s 3ms/step - loss: 1423.0267 - mean_absolute_error: 1423.0267 - val_loss: 1577.3435 - val_mean_absolute_error: 1577.3435\n",
            "Epoch 105/500\n",
            "210/210 [==============================] - 1s 3ms/step - loss: 1448.6687 - mean_absolute_error: 1448.6687 - val_loss: 1505.0793 - val_mean_absolute_error: 1505.0793\n",
            "Epoch 106/500\n",
            "210/210 [==============================] - 1s 3ms/step - loss: 1425.6036 - mean_absolute_error: 1425.6036 - val_loss: 1503.5508 - val_mean_absolute_error: 1503.5508\n",
            "Epoch 107/500\n",
            "210/210 [==============================] - 1s 3ms/step - loss: 1414.0198 - mean_absolute_error: 1414.0198 - val_loss: 1532.5403 - val_mean_absolute_error: 1532.5403\n",
            "Epoch 108/500\n",
            "210/210 [==============================] - 1s 3ms/step - loss: 1416.7548 - mean_absolute_error: 1416.7548 - val_loss: 1572.7230 - val_mean_absolute_error: 1572.7230\n",
            "Epoch 109/500\n",
            "210/210 [==============================] - 1s 3ms/step - loss: 1421.4574 - mean_absolute_error: 1421.4574 - val_loss: 1608.5120 - val_mean_absolute_error: 1608.5120\n",
            "Epoch 110/500\n",
            "210/210 [==============================] - 1s 3ms/step - loss: 1428.8914 - mean_absolute_error: 1428.8914 - val_loss: 1565.0797 - val_mean_absolute_error: 1565.0797\n",
            "Epoch 111/500\n",
            "210/210 [==============================] - 1s 3ms/step - loss: 1425.9124 - mean_absolute_error: 1425.9124 - val_loss: 1532.4841 - val_mean_absolute_error: 1532.4841\n",
            "Epoch 112/500\n",
            "210/210 [==============================] - 1s 3ms/step - loss: 1414.3301 - mean_absolute_error: 1414.3301 - val_loss: 1514.2538 - val_mean_absolute_error: 1514.2538\n",
            "Epoch 113/500\n",
            "210/210 [==============================] - 1s 3ms/step - loss: 1409.8335 - mean_absolute_error: 1409.8335 - val_loss: 1533.0093 - val_mean_absolute_error: 1533.0093\n",
            "Epoch 114/500\n",
            "210/210 [==============================] - 1s 3ms/step - loss: 1423.2638 - mean_absolute_error: 1423.2638 - val_loss: 1498.1130 - val_mean_absolute_error: 1498.1130\n",
            "Epoch 115/500\n",
            "210/210 [==============================] - 1s 3ms/step - loss: 1397.9552 - mean_absolute_error: 1397.9552 - val_loss: 1485.9520 - val_mean_absolute_error: 1485.9520\n",
            "Epoch 116/500\n",
            "210/210 [==============================] - 1s 3ms/step - loss: 1397.2814 - mean_absolute_error: 1397.2814 - val_loss: 1494.2943 - val_mean_absolute_error: 1494.2943\n",
            "Epoch 117/500\n",
            "210/210 [==============================] - 1s 3ms/step - loss: 1438.6292 - mean_absolute_error: 1438.6292 - val_loss: 1533.3066 - val_mean_absolute_error: 1533.3066\n",
            "Epoch 118/500\n",
            "210/210 [==============================] - 1s 3ms/step - loss: 1392.6986 - mean_absolute_error: 1392.6986 - val_loss: 1500.9333 - val_mean_absolute_error: 1500.9333\n",
            "Epoch 119/500\n",
            "210/210 [==============================] - 1s 3ms/step - loss: 1394.0265 - mean_absolute_error: 1394.0265 - val_loss: 1493.7659 - val_mean_absolute_error: 1493.7659\n",
            "Epoch 120/500\n",
            "210/210 [==============================] - 1s 2ms/step - loss: 1399.8148 - mean_absolute_error: 1399.8148 - val_loss: 1505.5519 - val_mean_absolute_error: 1505.5519\n",
            "Epoch 121/500\n",
            "210/210 [==============================] - 1s 3ms/step - loss: 1413.5509 - mean_absolute_error: 1413.5509 - val_loss: 1485.9973 - val_mean_absolute_error: 1485.9973\n",
            "Epoch 122/500\n",
            "210/210 [==============================] - 1s 3ms/step - loss: 1390.4124 - mean_absolute_error: 1390.4124 - val_loss: 1504.9713 - val_mean_absolute_error: 1504.9713\n",
            "Epoch 123/500\n",
            "210/210 [==============================] - 1s 3ms/step - loss: 1395.2926 - mean_absolute_error: 1395.2926 - val_loss: 1493.2754 - val_mean_absolute_error: 1493.2754\n",
            "Epoch 124/500\n",
            "210/210 [==============================] - 1s 3ms/step - loss: 1384.7554 - mean_absolute_error: 1384.7554 - val_loss: 1523.4565 - val_mean_absolute_error: 1523.4565\n",
            "Epoch 125/500\n",
            "210/210 [==============================] - 1s 3ms/step - loss: 1388.5343 - mean_absolute_error: 1388.5343 - val_loss: 1504.3148 - val_mean_absolute_error: 1504.3148\n",
            "Epoch 126/500\n",
            "210/210 [==============================] - 1s 3ms/step - loss: 1386.8657 - mean_absolute_error: 1386.8657 - val_loss: 1495.9419 - val_mean_absolute_error: 1495.9419\n",
            "Epoch 127/500\n",
            "210/210 [==============================] - 1s 3ms/step - loss: 1395.7234 - mean_absolute_error: 1395.7234 - val_loss: 1529.5829 - val_mean_absolute_error: 1529.5829\n",
            "Epoch 128/500\n",
            "210/210 [==============================] - 1s 3ms/step - loss: 1396.4390 - mean_absolute_error: 1396.4390 - val_loss: 1589.0048 - val_mean_absolute_error: 1589.0048\n",
            "Epoch 129/500\n",
            "210/210 [==============================] - 1s 3ms/step - loss: 1413.7803 - mean_absolute_error: 1413.7803 - val_loss: 1506.2085 - val_mean_absolute_error: 1506.2085\n",
            "Epoch 130/500\n",
            "210/210 [==============================] - 1s 3ms/step - loss: 1380.6442 - mean_absolute_error: 1380.6442 - val_loss: 1506.8257 - val_mean_absolute_error: 1506.8257\n",
            "Epoch 131/500\n",
            "210/210 [==============================] - 1s 3ms/step - loss: 1370.1104 - mean_absolute_error: 1370.1104 - val_loss: 1514.6703 - val_mean_absolute_error: 1514.6703\n",
            "Epoch 132/500\n",
            "210/210 [==============================] - 1s 3ms/step - loss: 1379.5743 - mean_absolute_error: 1379.5743 - val_loss: 1473.9618 - val_mean_absolute_error: 1473.9618\n",
            "Epoch 133/500\n",
            "210/210 [==============================] - 1s 3ms/step - loss: 1369.4177 - mean_absolute_error: 1369.4177 - val_loss: 1485.8641 - val_mean_absolute_error: 1485.8641\n",
            "Epoch 134/500\n",
            "210/210 [==============================] - 1s 3ms/step - loss: 1369.2638 - mean_absolute_error: 1369.2638 - val_loss: 1479.5741 - val_mean_absolute_error: 1479.5741\n",
            "Epoch 135/500\n",
            "210/210 [==============================] - 1s 3ms/step - loss: 1388.1825 - mean_absolute_error: 1388.1825 - val_loss: 1485.0175 - val_mean_absolute_error: 1485.0175\n",
            "Epoch 136/500\n",
            "210/210 [==============================] - 1s 3ms/step - loss: 1362.1971 - mean_absolute_error: 1362.1971 - val_loss: 1532.3481 - val_mean_absolute_error: 1532.3481\n",
            "Epoch 137/500\n",
            "210/210 [==============================] - 1s 3ms/step - loss: 1367.8743 - mean_absolute_error: 1367.8743 - val_loss: 1464.5963 - val_mean_absolute_error: 1464.5963\n",
            "Epoch 138/500\n",
            "210/210 [==============================] - 1s 3ms/step - loss: 1363.1462 - mean_absolute_error: 1363.1462 - val_loss: 1465.7953 - val_mean_absolute_error: 1465.7953\n",
            "Epoch 139/500\n",
            "210/210 [==============================] - 1s 3ms/step - loss: 1371.2932 - mean_absolute_error: 1371.2932 - val_loss: 1464.0436 - val_mean_absolute_error: 1464.0436\n",
            "Epoch 140/500\n",
            "210/210 [==============================] - 1s 3ms/step - loss: 1360.3987 - mean_absolute_error: 1360.3987 - val_loss: 1536.4697 - val_mean_absolute_error: 1536.4697\n",
            "Epoch 141/500\n",
            "210/210 [==============================] - 1s 3ms/step - loss: 1365.7460 - mean_absolute_error: 1365.7460 - val_loss: 1452.4648 - val_mean_absolute_error: 1452.4648\n",
            "Epoch 142/500\n",
            "210/210 [==============================] - 1s 3ms/step - loss: 1363.7750 - mean_absolute_error: 1363.7750 - val_loss: 1467.5553 - val_mean_absolute_error: 1467.5553\n",
            "Epoch 143/500\n",
            "210/210 [==============================] - 1s 3ms/step - loss: 1378.9180 - mean_absolute_error: 1378.9180 - val_loss: 1475.6967 - val_mean_absolute_error: 1475.6967\n",
            "Epoch 144/500\n",
            "210/210 [==============================] - 1s 3ms/step - loss: 1362.3234 - mean_absolute_error: 1362.3234 - val_loss: 1525.5823 - val_mean_absolute_error: 1525.5823\n",
            "Epoch 145/500\n",
            "210/210 [==============================] - 1s 3ms/step - loss: 1346.3995 - mean_absolute_error: 1346.3995 - val_loss: 1495.3989 - val_mean_absolute_error: 1495.3989\n",
            "Epoch 146/500\n",
            "210/210 [==============================] - 1s 3ms/step - loss: 1370.9366 - mean_absolute_error: 1370.9366 - val_loss: 1524.9803 - val_mean_absolute_error: 1524.9803\n",
            "Epoch 147/500\n",
            "210/210 [==============================] - 1s 3ms/step - loss: 1349.0454 - mean_absolute_error: 1349.0454 - val_loss: 1484.3250 - val_mean_absolute_error: 1484.3250\n",
            "Epoch 148/500\n",
            "210/210 [==============================] - 1s 3ms/step - loss: 1347.9445 - mean_absolute_error: 1347.9445 - val_loss: 1477.0236 - val_mean_absolute_error: 1477.0236\n",
            "Epoch 149/500\n",
            "210/210 [==============================] - 1s 3ms/step - loss: 1362.8057 - mean_absolute_error: 1362.8057 - val_loss: 1471.3866 - val_mean_absolute_error: 1471.3866\n",
            "Epoch 150/500\n",
            "210/210 [==============================] - 1s 3ms/step - loss: 1360.3660 - mean_absolute_error: 1360.3660 - val_loss: 1550.1156 - val_mean_absolute_error: 1550.1156\n",
            "Epoch 151/500\n",
            "210/210 [==============================] - 1s 3ms/step - loss: 1367.8274 - mean_absolute_error: 1367.8274 - val_loss: 1450.4486 - val_mean_absolute_error: 1450.4486\n",
            "Epoch 152/500\n",
            "210/210 [==============================] - 1s 3ms/step - loss: 1354.8690 - mean_absolute_error: 1354.8690 - val_loss: 1525.3268 - val_mean_absolute_error: 1525.3268\n",
            "Epoch 153/500\n",
            "210/210 [==============================] - 1s 3ms/step - loss: 1366.5964 - mean_absolute_error: 1366.5964 - val_loss: 1481.5767 - val_mean_absolute_error: 1481.5767\n",
            "Epoch 154/500\n",
            "210/210 [==============================] - 1s 3ms/step - loss: 1331.3948 - mean_absolute_error: 1331.3948 - val_loss: 1463.8923 - val_mean_absolute_error: 1463.8923\n",
            "Epoch 155/500\n",
            "210/210 [==============================] - 1s 3ms/step - loss: 1345.4795 - mean_absolute_error: 1345.4795 - val_loss: 1454.5376 - val_mean_absolute_error: 1454.5376\n",
            "Epoch 156/500\n",
            "210/210 [==============================] - 1s 3ms/step - loss: 1332.0270 - mean_absolute_error: 1332.0270 - val_loss: 1460.3140 - val_mean_absolute_error: 1460.3140\n",
            "Epoch 157/500\n",
            "210/210 [==============================] - 1s 3ms/step - loss: 1338.7601 - mean_absolute_error: 1338.7601 - val_loss: 1460.2284 - val_mean_absolute_error: 1460.2284\n",
            "Epoch 158/500\n",
            "210/210 [==============================] - 1s 3ms/step - loss: 1340.3882 - mean_absolute_error: 1340.3882 - val_loss: 1452.1832 - val_mean_absolute_error: 1452.1832\n",
            "Epoch 159/500\n",
            "210/210 [==============================] - 1s 3ms/step - loss: 1338.3572 - mean_absolute_error: 1338.3572 - val_loss: 1450.2797 - val_mean_absolute_error: 1450.2797\n",
            "Epoch 160/500\n",
            "210/210 [==============================] - 1s 3ms/step - loss: 1340.9493 - mean_absolute_error: 1340.9493 - val_loss: 1440.5837 - val_mean_absolute_error: 1440.5837\n",
            "Epoch 161/500\n",
            "210/210 [==============================] - 1s 3ms/step - loss: 1334.8949 - mean_absolute_error: 1334.8949 - val_loss: 1502.5964 - val_mean_absolute_error: 1502.5964\n",
            "Epoch 162/500\n",
            "210/210 [==============================] - 1s 3ms/step - loss: 1361.0996 - mean_absolute_error: 1361.0996 - val_loss: 1444.2689 - val_mean_absolute_error: 1444.2689\n",
            "Epoch 163/500\n",
            "210/210 [==============================] - 1s 3ms/step - loss: 1357.8418 - mean_absolute_error: 1357.8418 - val_loss: 1417.1807 - val_mean_absolute_error: 1417.1807\n",
            "Epoch 164/500\n",
            "210/210 [==============================] - 1s 3ms/step - loss: 1338.8212 - mean_absolute_error: 1338.8212 - val_loss: 1449.6628 - val_mean_absolute_error: 1449.6628\n",
            "Epoch 165/500\n",
            "210/210 [==============================] - 1s 3ms/step - loss: 1332.8459 - mean_absolute_error: 1332.8459 - val_loss: 1478.5229 - val_mean_absolute_error: 1478.5229\n",
            "Epoch 166/500\n",
            "210/210 [==============================] - 1s 3ms/step - loss: 1329.1571 - mean_absolute_error: 1329.1571 - val_loss: 1473.8311 - val_mean_absolute_error: 1473.8311\n",
            "Epoch 167/500\n",
            "210/210 [==============================] - 1s 3ms/step - loss: 1339.4807 - mean_absolute_error: 1339.4807 - val_loss: 1450.5309 - val_mean_absolute_error: 1450.5309\n",
            "Epoch 168/500\n",
            "210/210 [==============================] - 1s 2ms/step - loss: 1326.7795 - mean_absolute_error: 1326.7795 - val_loss: 1495.7157 - val_mean_absolute_error: 1495.7157\n",
            "Epoch 169/500\n",
            "210/210 [==============================] - 1s 3ms/step - loss: 1346.6584 - mean_absolute_error: 1346.6584 - val_loss: 1570.1757 - val_mean_absolute_error: 1570.1757\n",
            "Epoch 170/500\n",
            "210/210 [==============================] - 1s 3ms/step - loss: 1325.1654 - mean_absolute_error: 1325.1654 - val_loss: 1436.4701 - val_mean_absolute_error: 1436.4701\n",
            "Epoch 171/500\n",
            "210/210 [==============================] - 1s 3ms/step - loss: 1326.6504 - mean_absolute_error: 1326.6504 - val_loss: 1433.4962 - val_mean_absolute_error: 1433.4962\n",
            "Epoch 172/500\n",
            "210/210 [==============================] - 1s 3ms/step - loss: 1340.6068 - mean_absolute_error: 1340.6068 - val_loss: 1489.3842 - val_mean_absolute_error: 1489.3842\n",
            "Epoch 173/500\n",
            "210/210 [==============================] - 1s 3ms/step - loss: 1336.4540 - mean_absolute_error: 1336.4540 - val_loss: 1445.0186 - val_mean_absolute_error: 1445.0186\n",
            "Epoch 174/500\n",
            "210/210 [==============================] - 1s 3ms/step - loss: 1343.1345 - mean_absolute_error: 1343.1345 - val_loss: 1464.3010 - val_mean_absolute_error: 1464.3010\n",
            "Epoch 175/500\n",
            "210/210 [==============================] - 1s 3ms/step - loss: 1339.9178 - mean_absolute_error: 1339.9178 - val_loss: 1455.8724 - val_mean_absolute_error: 1455.8724\n",
            "Epoch 176/500\n",
            "210/210 [==============================] - 1s 3ms/step - loss: 1330.9934 - mean_absolute_error: 1330.9934 - val_loss: 1435.4225 - val_mean_absolute_error: 1435.4225\n",
            "Epoch 177/500\n",
            "210/210 [==============================] - 1s 3ms/step - loss: 1318.0073 - mean_absolute_error: 1318.0073 - val_loss: 1439.3699 - val_mean_absolute_error: 1439.3699\n",
            "Epoch 178/500\n",
            "210/210 [==============================] - 1s 3ms/step - loss: 1321.8569 - mean_absolute_error: 1321.8569 - val_loss: 1427.6655 - val_mean_absolute_error: 1427.6655\n",
            "Epoch 179/500\n",
            "210/210 [==============================] - 1s 3ms/step - loss: 1316.9285 - mean_absolute_error: 1316.9285 - val_loss: 1471.3224 - val_mean_absolute_error: 1471.3224\n",
            "Epoch 180/500\n",
            "210/210 [==============================] - 1s 3ms/step - loss: 1319.5283 - mean_absolute_error: 1319.5283 - val_loss: 1475.2140 - val_mean_absolute_error: 1475.2140\n",
            "Epoch 181/500\n",
            "210/210 [==============================] - 1s 3ms/step - loss: 1328.7855 - mean_absolute_error: 1328.7855 - val_loss: 1431.4282 - val_mean_absolute_error: 1431.4282\n",
            "Epoch 182/500\n",
            "210/210 [==============================] - 1s 3ms/step - loss: 1329.0513 - mean_absolute_error: 1329.0513 - val_loss: 1452.6968 - val_mean_absolute_error: 1452.6968\n",
            "Epoch 183/500\n",
            "210/210 [==============================] - 1s 3ms/step - loss: 1312.5378 - mean_absolute_error: 1312.5378 - val_loss: 1468.0466 - val_mean_absolute_error: 1468.0466\n",
            "Epoch 184/500\n",
            "210/210 [==============================] - 1s 3ms/step - loss: 1317.7909 - mean_absolute_error: 1317.7909 - val_loss: 1514.2953 - val_mean_absolute_error: 1514.2953\n",
            "Epoch 185/500\n",
            "210/210 [==============================] - 1s 3ms/step - loss: 1317.9760 - mean_absolute_error: 1317.9760 - val_loss: 1431.3243 - val_mean_absolute_error: 1431.3243\n",
            "Epoch 186/500\n",
            "210/210 [==============================] - 1s 3ms/step - loss: 1319.7987 - mean_absolute_error: 1319.7987 - val_loss: 1463.3278 - val_mean_absolute_error: 1463.3278\n",
            "Epoch 187/500\n",
            "210/210 [==============================] - 1s 3ms/step - loss: 1334.8646 - mean_absolute_error: 1334.8646 - val_loss: 1416.7181 - val_mean_absolute_error: 1416.7181\n",
            "Epoch 188/500\n",
            "210/210 [==============================] - 1s 3ms/step - loss: 1322.0476 - mean_absolute_error: 1322.0476 - val_loss: 1427.0347 - val_mean_absolute_error: 1427.0347\n",
            "Epoch 189/500\n",
            "210/210 [==============================] - 1s 3ms/step - loss: 1318.4899 - mean_absolute_error: 1318.4899 - val_loss: 1438.8632 - val_mean_absolute_error: 1438.8632\n",
            "Epoch 190/500\n",
            "210/210 [==============================] - 1s 3ms/step - loss: 1318.0269 - mean_absolute_error: 1318.0269 - val_loss: 1447.8127 - val_mean_absolute_error: 1447.8127\n",
            "Epoch 191/500\n",
            "210/210 [==============================] - 1s 3ms/step - loss: 1329.8108 - mean_absolute_error: 1329.8108 - val_loss: 1526.8915 - val_mean_absolute_error: 1526.8915\n",
            "Epoch 192/500\n",
            "210/210 [==============================] - 1s 3ms/step - loss: 1316.6963 - mean_absolute_error: 1316.6963 - val_loss: 1544.6353 - val_mean_absolute_error: 1544.6353\n",
            "Epoch 193/500\n",
            "210/210 [==============================] - 1s 3ms/step - loss: 1319.3120 - mean_absolute_error: 1319.3120 - val_loss: 1421.4991 - val_mean_absolute_error: 1421.4991\n",
            "Epoch 194/500\n",
            "210/210 [==============================] - 1s 3ms/step - loss: 1318.6261 - mean_absolute_error: 1318.6261 - val_loss: 1441.3998 - val_mean_absolute_error: 1441.3998\n",
            "Epoch 195/500\n",
            "210/210 [==============================] - 1s 3ms/step - loss: 1318.0968 - mean_absolute_error: 1318.0968 - val_loss: 1408.9412 - val_mean_absolute_error: 1408.9412\n",
            "Epoch 196/500\n",
            "210/210 [==============================] - 1s 3ms/step - loss: 1317.9077 - mean_absolute_error: 1317.9077 - val_loss: 1415.5958 - val_mean_absolute_error: 1415.5958\n",
            "Epoch 197/500\n",
            "210/210 [==============================] - 1s 3ms/step - loss: 1318.1519 - mean_absolute_error: 1318.1519 - val_loss: 1395.9210 - val_mean_absolute_error: 1395.9210\n",
            "Epoch 198/500\n",
            "210/210 [==============================] - 1s 3ms/step - loss: 1306.6409 - mean_absolute_error: 1306.6409 - val_loss: 1421.1234 - val_mean_absolute_error: 1421.1234\n",
            "Epoch 199/500\n",
            "210/210 [==============================] - 1s 3ms/step - loss: 1309.8995 - mean_absolute_error: 1309.8995 - val_loss: 1487.4547 - val_mean_absolute_error: 1487.4547\n",
            "Epoch 200/500\n",
            "210/210 [==============================] - 1s 3ms/step - loss: 1296.2407 - mean_absolute_error: 1296.2407 - val_loss: 1443.9894 - val_mean_absolute_error: 1443.9894\n",
            "Epoch 201/500\n",
            "210/210 [==============================] - 1s 3ms/step - loss: 1292.0521 - mean_absolute_error: 1292.0521 - val_loss: 1474.3812 - val_mean_absolute_error: 1474.3812\n",
            "Epoch 202/500\n",
            "210/210 [==============================] - 1s 3ms/step - loss: 1303.3766 - mean_absolute_error: 1303.3766 - val_loss: 1418.3702 - val_mean_absolute_error: 1418.3702\n",
            "Epoch 203/500\n",
            "210/210 [==============================] - 1s 3ms/step - loss: 1290.4966 - mean_absolute_error: 1290.4966 - val_loss: 1465.8472 - val_mean_absolute_error: 1465.8472\n",
            "Epoch 204/500\n",
            "210/210 [==============================] - 1s 3ms/step - loss: 1303.3108 - mean_absolute_error: 1303.3108 - val_loss: 1477.5278 - val_mean_absolute_error: 1477.5278\n",
            "Epoch 205/500\n",
            "210/210 [==============================] - 1s 3ms/step - loss: 1295.5339 - mean_absolute_error: 1295.5339 - val_loss: 1426.9993 - val_mean_absolute_error: 1426.9993\n",
            "Epoch 206/500\n",
            "210/210 [==============================] - 1s 3ms/step - loss: 1308.1534 - mean_absolute_error: 1308.1534 - val_loss: 1442.9009 - val_mean_absolute_error: 1442.9009\n",
            "Epoch 207/500\n",
            "210/210 [==============================] - 1s 3ms/step - loss: 1301.4567 - mean_absolute_error: 1301.4567 - val_loss: 1445.3821 - val_mean_absolute_error: 1445.3821\n",
            "Epoch 208/500\n",
            "210/210 [==============================] - 1s 3ms/step - loss: 1301.7200 - mean_absolute_error: 1301.7200 - val_loss: 1483.3314 - val_mean_absolute_error: 1483.3314\n",
            "Epoch 209/500\n",
            "210/210 [==============================] - 1s 3ms/step - loss: 1290.0024 - mean_absolute_error: 1290.0024 - val_loss: 1432.7729 - val_mean_absolute_error: 1432.7729\n",
            "Epoch 210/500\n",
            "210/210 [==============================] - 1s 3ms/step - loss: 1297.9965 - mean_absolute_error: 1297.9965 - val_loss: 1420.3268 - val_mean_absolute_error: 1420.3268\n",
            "Epoch 211/500\n",
            "210/210 [==============================] - 1s 3ms/step - loss: 1300.1555 - mean_absolute_error: 1300.1555 - val_loss: 1460.7388 - val_mean_absolute_error: 1460.7388\n",
            "Epoch 212/500\n",
            "210/210 [==============================] - 1s 3ms/step - loss: 1294.9639 - mean_absolute_error: 1294.9639 - val_loss: 1422.5688 - val_mean_absolute_error: 1422.5688\n",
            "Epoch 213/500\n",
            "210/210 [==============================] - 1s 3ms/step - loss: 1294.4218 - mean_absolute_error: 1294.4218 - val_loss: 1451.8357 - val_mean_absolute_error: 1451.8357\n",
            "Epoch 214/500\n",
            "210/210 [==============================] - 1s 3ms/step - loss: 1296.2653 - mean_absolute_error: 1296.2653 - val_loss: 1412.6926 - val_mean_absolute_error: 1412.6926\n",
            "Epoch 215/500\n",
            "210/210 [==============================] - 1s 3ms/step - loss: 1295.8578 - mean_absolute_error: 1295.8578 - val_loss: 1414.4982 - val_mean_absolute_error: 1414.4982\n",
            "Epoch 216/500\n",
            "210/210 [==============================] - 1s 3ms/step - loss: 1282.6917 - mean_absolute_error: 1282.6917 - val_loss: 1417.6234 - val_mean_absolute_error: 1417.6234\n",
            "Epoch 217/500\n",
            "210/210 [==============================] - 1s 3ms/step - loss: 1316.1250 - mean_absolute_error: 1316.1250 - val_loss: 1482.6262 - val_mean_absolute_error: 1482.6262\n",
            "Epoch 218/500\n",
            "210/210 [==============================] - 1s 3ms/step - loss: 1296.2806 - mean_absolute_error: 1296.2806 - val_loss: 1419.9885 - val_mean_absolute_error: 1419.9885\n",
            "Epoch 219/500\n",
            "210/210 [==============================] - 1s 3ms/step - loss: 1282.5787 - mean_absolute_error: 1282.5787 - val_loss: 1413.9332 - val_mean_absolute_error: 1413.9332\n",
            "Epoch 220/500\n",
            "210/210 [==============================] - 1s 3ms/step - loss: 1295.1316 - mean_absolute_error: 1295.1316 - val_loss: 1419.6909 - val_mean_absolute_error: 1419.6909\n",
            "Epoch 221/500\n",
            "210/210 [==============================] - 1s 3ms/step - loss: 1290.4249 - mean_absolute_error: 1290.4249 - val_loss: 1435.3771 - val_mean_absolute_error: 1435.3771\n",
            "Epoch 222/500\n",
            "210/210 [==============================] - 1s 3ms/step - loss: 1282.5276 - mean_absolute_error: 1282.5276 - val_loss: 1396.9501 - val_mean_absolute_error: 1396.9501\n",
            "Epoch 223/500\n",
            "210/210 [==============================] - 1s 3ms/step - loss: 1304.4515 - mean_absolute_error: 1304.4515 - val_loss: 1402.1141 - val_mean_absolute_error: 1402.1141\n",
            "Epoch 224/500\n",
            "210/210 [==============================] - 1s 3ms/step - loss: 1290.0145 - mean_absolute_error: 1290.0145 - val_loss: 1404.1851 - val_mean_absolute_error: 1404.1851\n",
            "Epoch 225/500\n",
            "210/210 [==============================] - 1s 3ms/step - loss: 1283.4060 - mean_absolute_error: 1283.4060 - val_loss: 1399.7389 - val_mean_absolute_error: 1399.7389\n",
            "Epoch 226/500\n",
            "210/210 [==============================] - 1s 3ms/step - loss: 1299.0906 - mean_absolute_error: 1299.0906 - val_loss: 1433.5333 - val_mean_absolute_error: 1433.5333\n",
            "Epoch 227/500\n",
            "210/210 [==============================] - 1s 3ms/step - loss: 1279.7777 - mean_absolute_error: 1279.7777 - val_loss: 1400.5034 - val_mean_absolute_error: 1400.5034\n",
            "Epoch 228/500\n",
            "210/210 [==============================] - 1s 3ms/step - loss: 1309.9998 - mean_absolute_error: 1309.9998 - val_loss: 1412.1097 - val_mean_absolute_error: 1412.1097\n",
            "Epoch 229/500\n",
            "210/210 [==============================] - 1s 3ms/step - loss: 1314.0706 - mean_absolute_error: 1314.0706 - val_loss: 1470.6919 - val_mean_absolute_error: 1470.6919\n",
            "Epoch 230/500\n",
            "210/210 [==============================] - 1s 3ms/step - loss: 1283.8770 - mean_absolute_error: 1283.8770 - val_loss: 1399.0071 - val_mean_absolute_error: 1399.0071\n",
            "Epoch 231/500\n",
            "210/210 [==============================] - 1s 3ms/step - loss: 1276.5159 - mean_absolute_error: 1276.5159 - val_loss: 1409.0681 - val_mean_absolute_error: 1409.0681\n",
            "Epoch 232/500\n",
            "210/210 [==============================] - 1s 3ms/step - loss: 1272.1852 - mean_absolute_error: 1272.1852 - val_loss: 1460.9390 - val_mean_absolute_error: 1460.9390\n",
            "Epoch 233/500\n",
            "210/210 [==============================] - 1s 3ms/step - loss: 1281.5544 - mean_absolute_error: 1281.5544 - val_loss: 1410.1967 - val_mean_absolute_error: 1410.1967\n",
            "Epoch 234/500\n",
            "210/210 [==============================] - 1s 3ms/step - loss: 1299.1292 - mean_absolute_error: 1299.1292 - val_loss: 1404.3253 - val_mean_absolute_error: 1404.3253\n",
            "Epoch 235/500\n",
            "210/210 [==============================] - 1s 3ms/step - loss: 1285.8051 - mean_absolute_error: 1285.8051 - val_loss: 1379.3842 - val_mean_absolute_error: 1379.3842\n",
            "Epoch 236/500\n",
            "210/210 [==============================] - 1s 3ms/step - loss: 1276.4230 - mean_absolute_error: 1276.4230 - val_loss: 1383.9916 - val_mean_absolute_error: 1383.9916\n",
            "Epoch 237/500\n",
            "210/210 [==============================] - 1s 3ms/step - loss: 1281.3802 - mean_absolute_error: 1281.3802 - val_loss: 1414.8091 - val_mean_absolute_error: 1414.8091\n",
            "Epoch 238/500\n",
            "210/210 [==============================] - 1s 3ms/step - loss: 1274.5360 - mean_absolute_error: 1274.5360 - val_loss: 1425.3330 - val_mean_absolute_error: 1425.3330\n",
            "Epoch 239/500\n",
            "210/210 [==============================] - 1s 3ms/step - loss: 1272.7852 - mean_absolute_error: 1272.7852 - val_loss: 1398.3512 - val_mean_absolute_error: 1398.3512\n",
            "Epoch 240/500\n",
            "210/210 [==============================] - 1s 3ms/step - loss: 1278.8816 - mean_absolute_error: 1278.8816 - val_loss: 1439.3556 - val_mean_absolute_error: 1439.3556\n",
            "Epoch 241/500\n",
            "210/210 [==============================] - 1s 3ms/step - loss: 1268.4354 - mean_absolute_error: 1268.4354 - val_loss: 1402.3929 - val_mean_absolute_error: 1402.3929\n",
            "Epoch 242/500\n",
            "210/210 [==============================] - 1s 3ms/step - loss: 1278.4949 - mean_absolute_error: 1278.4949 - val_loss: 1407.9401 - val_mean_absolute_error: 1407.9401\n",
            "Epoch 243/500\n",
            "210/210 [==============================] - 1s 3ms/step - loss: 1268.9884 - mean_absolute_error: 1268.9884 - val_loss: 1399.1958 - val_mean_absolute_error: 1399.1958\n",
            "Epoch 244/500\n",
            "210/210 [==============================] - 1s 3ms/step - loss: 1276.8484 - mean_absolute_error: 1276.8484 - val_loss: 1415.0195 - val_mean_absolute_error: 1415.0195\n",
            "Epoch 245/500\n",
            "210/210 [==============================] - 1s 3ms/step - loss: 1282.7537 - mean_absolute_error: 1282.7537 - val_loss: 1472.5984 - val_mean_absolute_error: 1472.5984\n",
            "Epoch 246/500\n",
            "210/210 [==============================] - 1s 3ms/step - loss: 1268.6039 - mean_absolute_error: 1268.6039 - val_loss: 1389.9982 - val_mean_absolute_error: 1389.9982\n",
            "Epoch 247/500\n",
            "210/210 [==============================] - 1s 3ms/step - loss: 1280.9720 - mean_absolute_error: 1280.9720 - val_loss: 1423.5281 - val_mean_absolute_error: 1423.5281\n",
            "Epoch 248/500\n",
            "210/210 [==============================] - 1s 3ms/step - loss: 1274.8218 - mean_absolute_error: 1274.8218 - val_loss: 1438.9670 - val_mean_absolute_error: 1438.9670\n",
            "Epoch 249/500\n",
            "210/210 [==============================] - 1s 3ms/step - loss: 1265.3755 - mean_absolute_error: 1265.3755 - val_loss: 1413.2013 - val_mean_absolute_error: 1413.2013\n",
            "Epoch 250/500\n",
            "210/210 [==============================] - 1s 3ms/step - loss: 1273.0442 - mean_absolute_error: 1273.0442 - val_loss: 1379.8287 - val_mean_absolute_error: 1379.8287\n",
            "Epoch 251/500\n",
            "210/210 [==============================] - 1s 3ms/step - loss: 1260.4089 - mean_absolute_error: 1260.4089 - val_loss: 1442.9120 - val_mean_absolute_error: 1442.9120\n",
            "Epoch 252/500\n",
            "210/210 [==============================] - 1s 3ms/step - loss: 1270.1831 - mean_absolute_error: 1270.1831 - val_loss: 1396.3342 - val_mean_absolute_error: 1396.3342\n",
            "Epoch 253/500\n",
            "210/210 [==============================] - 1s 3ms/step - loss: 1304.1261 - mean_absolute_error: 1304.1261 - val_loss: 1377.4771 - val_mean_absolute_error: 1377.4771\n",
            "Epoch 254/500\n",
            "210/210 [==============================] - 1s 3ms/step - loss: 1251.6825 - mean_absolute_error: 1251.6825 - val_loss: 1427.9587 - val_mean_absolute_error: 1427.9587\n",
            "Epoch 255/500\n",
            "210/210 [==============================] - 1s 3ms/step - loss: 1280.3313 - mean_absolute_error: 1280.3313 - val_loss: 1424.6208 - val_mean_absolute_error: 1424.6208\n",
            "Epoch 256/500\n",
            "210/210 [==============================] - 1s 3ms/step - loss: 1269.5012 - mean_absolute_error: 1269.5012 - val_loss: 1383.1118 - val_mean_absolute_error: 1383.1118\n",
            "Epoch 257/500\n",
            "210/210 [==============================] - 1s 3ms/step - loss: 1287.5370 - mean_absolute_error: 1287.5370 - val_loss: 1478.9849 - val_mean_absolute_error: 1478.9849\n",
            "Epoch 258/500\n",
            "210/210 [==============================] - 1s 3ms/step - loss: 1277.3693 - mean_absolute_error: 1277.3693 - val_loss: 1478.6132 - val_mean_absolute_error: 1478.6132\n",
            "Epoch 259/500\n",
            "210/210 [==============================] - 1s 3ms/step - loss: 1265.0189 - mean_absolute_error: 1265.0189 - val_loss: 1378.3137 - val_mean_absolute_error: 1378.3137\n",
            "Epoch 260/500\n",
            "210/210 [==============================] - 1s 3ms/step - loss: 1260.4174 - mean_absolute_error: 1260.4174 - val_loss: 1398.0299 - val_mean_absolute_error: 1398.0299\n",
            "Epoch 261/500\n",
            "210/210 [==============================] - 1s 3ms/step - loss: 1250.3116 - mean_absolute_error: 1250.3116 - val_loss: 1388.6241 - val_mean_absolute_error: 1388.6241\n",
            "Epoch 262/500\n",
            "210/210 [==============================] - 1s 3ms/step - loss: 1256.5938 - mean_absolute_error: 1256.5938 - val_loss: 1531.2119 - val_mean_absolute_error: 1531.2119\n",
            "Epoch 263/500\n",
            "210/210 [==============================] - 1s 3ms/step - loss: 1257.5371 - mean_absolute_error: 1257.5371 - val_loss: 1377.8641 - val_mean_absolute_error: 1377.8641\n",
            "Epoch 264/500\n",
            "210/210 [==============================] - 1s 3ms/step - loss: 1257.5717 - mean_absolute_error: 1257.5717 - val_loss: 1371.3999 - val_mean_absolute_error: 1371.3999\n",
            "Epoch 265/500\n",
            "210/210 [==============================] - 1s 3ms/step - loss: 1260.2826 - mean_absolute_error: 1260.2826 - val_loss: 1399.7124 - val_mean_absolute_error: 1399.7124\n",
            "Epoch 266/500\n",
            "210/210 [==============================] - 1s 3ms/step - loss: 1260.4895 - mean_absolute_error: 1260.4895 - val_loss: 1376.2927 - val_mean_absolute_error: 1376.2927\n",
            "Epoch 267/500\n",
            "210/210 [==============================] - 1s 3ms/step - loss: 1259.4570 - mean_absolute_error: 1259.4570 - val_loss: 1411.3635 - val_mean_absolute_error: 1411.3635\n",
            "Epoch 268/500\n",
            "210/210 [==============================] - 1s 3ms/step - loss: 1271.0869 - mean_absolute_error: 1271.0869 - val_loss: 1384.7220 - val_mean_absolute_error: 1384.7220\n",
            "Epoch 269/500\n",
            "210/210 [==============================] - 1s 3ms/step - loss: 1258.5665 - mean_absolute_error: 1258.5665 - val_loss: 1385.4944 - val_mean_absolute_error: 1385.4944\n",
            "Epoch 270/500\n",
            "210/210 [==============================] - 1s 3ms/step - loss: 1248.4302 - mean_absolute_error: 1248.4302 - val_loss: 1365.6008 - val_mean_absolute_error: 1365.6008\n",
            "Epoch 271/500\n",
            "210/210 [==============================] - 1s 3ms/step - loss: 1270.8208 - mean_absolute_error: 1270.8208 - val_loss: 1374.4359 - val_mean_absolute_error: 1374.4359\n",
            "Epoch 272/500\n",
            "210/210 [==============================] - 1s 3ms/step - loss: 1252.9012 - mean_absolute_error: 1252.9012 - val_loss: 1406.0844 - val_mean_absolute_error: 1406.0844\n",
            "Epoch 273/500\n",
            "210/210 [==============================] - 1s 3ms/step - loss: 1261.6796 - mean_absolute_error: 1261.6796 - val_loss: 1382.3354 - val_mean_absolute_error: 1382.3354\n",
            "Epoch 274/500\n",
            "210/210 [==============================] - 1s 3ms/step - loss: 1259.8837 - mean_absolute_error: 1259.8837 - val_loss: 1370.8376 - val_mean_absolute_error: 1370.8376\n",
            "Epoch 275/500\n",
            "210/210 [==============================] - 1s 3ms/step - loss: 1258.6633 - mean_absolute_error: 1258.6633 - val_loss: 1392.1305 - val_mean_absolute_error: 1392.1305\n",
            "Epoch 276/500\n",
            "210/210 [==============================] - 1s 3ms/step - loss: 1254.4528 - mean_absolute_error: 1254.4528 - val_loss: 1409.2659 - val_mean_absolute_error: 1409.2659\n",
            "Epoch 277/500\n",
            "210/210 [==============================] - 1s 3ms/step - loss: 1256.6140 - mean_absolute_error: 1256.6140 - val_loss: 1469.5176 - val_mean_absolute_error: 1469.5176\n",
            "Epoch 278/500\n",
            "210/210 [==============================] - 1s 3ms/step - loss: 1244.6709 - mean_absolute_error: 1244.6709 - val_loss: 1431.5814 - val_mean_absolute_error: 1431.5814\n",
            "Epoch 279/500\n",
            "210/210 [==============================] - 1s 3ms/step - loss: 1238.2275 - mean_absolute_error: 1238.2275 - val_loss: 1373.7860 - val_mean_absolute_error: 1373.7860\n",
            "Epoch 280/500\n",
            "210/210 [==============================] - 1s 3ms/step - loss: 1242.9117 - mean_absolute_error: 1242.9117 - val_loss: 1381.1519 - val_mean_absolute_error: 1381.1519\n",
            "Epoch 281/500\n",
            "210/210 [==============================] - 1s 3ms/step - loss: 1257.2296 - mean_absolute_error: 1257.2296 - val_loss: 1401.3396 - val_mean_absolute_error: 1401.3396\n",
            "Epoch 282/500\n",
            "210/210 [==============================] - 1s 3ms/step - loss: 1241.9197 - mean_absolute_error: 1241.9197 - val_loss: 1369.1366 - val_mean_absolute_error: 1369.1366\n",
            "Epoch 283/500\n",
            "210/210 [==============================] - 1s 3ms/step - loss: 1252.0209 - mean_absolute_error: 1252.0209 - val_loss: 1369.5437 - val_mean_absolute_error: 1369.5437\n",
            "Epoch 284/500\n",
            "210/210 [==============================] - 1s 3ms/step - loss: 1251.9744 - mean_absolute_error: 1251.9744 - val_loss: 1392.1451 - val_mean_absolute_error: 1392.1451\n",
            "Epoch 285/500\n",
            "210/210 [==============================] - 1s 3ms/step - loss: 1256.1921 - mean_absolute_error: 1256.1921 - val_loss: 1384.9839 - val_mean_absolute_error: 1384.9839\n",
            "Epoch 286/500\n",
            "210/210 [==============================] - 1s 3ms/step - loss: 1240.1462 - mean_absolute_error: 1240.1462 - val_loss: 1395.5968 - val_mean_absolute_error: 1395.5968\n",
            "Epoch 287/500\n",
            "210/210 [==============================] - 1s 3ms/step - loss: 1266.5817 - mean_absolute_error: 1266.5817 - val_loss: 1379.3832 - val_mean_absolute_error: 1379.3832\n",
            "Epoch 288/500\n",
            "210/210 [==============================] - 1s 3ms/step - loss: 1239.2780 - mean_absolute_error: 1239.2780 - val_loss: 1378.3397 - val_mean_absolute_error: 1378.3397\n",
            "Epoch 289/500\n",
            "210/210 [==============================] - 1s 3ms/step - loss: 1254.1281 - mean_absolute_error: 1254.1281 - val_loss: 1391.7939 - val_mean_absolute_error: 1391.7939\n",
            "Epoch 290/500\n",
            "210/210 [==============================] - 1s 3ms/step - loss: 1231.8549 - mean_absolute_error: 1231.8549 - val_loss: 1372.1880 - val_mean_absolute_error: 1372.1880\n",
            "Epoch 291/500\n",
            "210/210 [==============================] - 1s 3ms/step - loss: 1233.3473 - mean_absolute_error: 1233.3473 - val_loss: 1376.8390 - val_mean_absolute_error: 1376.8390\n",
            "Epoch 292/500\n",
            "210/210 [==============================] - 1s 3ms/step - loss: 1250.1827 - mean_absolute_error: 1250.1827 - val_loss: 1384.7662 - val_mean_absolute_error: 1384.7662\n",
            "Epoch 293/500\n",
            "210/210 [==============================] - 1s 3ms/step - loss: 1252.4803 - mean_absolute_error: 1252.4803 - val_loss: 1393.5087 - val_mean_absolute_error: 1393.5087\n",
            "Epoch 294/500\n",
            "210/210 [==============================] - 1s 3ms/step - loss: 1260.1091 - mean_absolute_error: 1260.1091 - val_loss: 1399.7300 - val_mean_absolute_error: 1399.7300\n",
            "Epoch 295/500\n",
            "210/210 [==============================] - 1s 3ms/step - loss: 1230.8694 - mean_absolute_error: 1230.8694 - val_loss: 1429.6232 - val_mean_absolute_error: 1429.6232\n",
            "Epoch 296/500\n",
            "210/210 [==============================] - 1s 3ms/step - loss: 1249.4391 - mean_absolute_error: 1249.4391 - val_loss: 1393.5275 - val_mean_absolute_error: 1393.5275\n",
            "Epoch 297/500\n",
            "210/210 [==============================] - 1s 3ms/step - loss: 1253.4562 - mean_absolute_error: 1253.4562 - val_loss: 1386.6001 - val_mean_absolute_error: 1386.6001\n",
            "Epoch 298/500\n",
            "210/210 [==============================] - 1s 3ms/step - loss: 1228.1786 - mean_absolute_error: 1228.1786 - val_loss: 1383.6677 - val_mean_absolute_error: 1383.6677\n",
            "Epoch 299/500\n",
            "210/210 [==============================] - 1s 3ms/step - loss: 1237.3962 - mean_absolute_error: 1237.3962 - val_loss: 1398.7137 - val_mean_absolute_error: 1398.7137\n",
            "Epoch 300/500\n",
            "210/210 [==============================] - 1s 3ms/step - loss: 1253.7461 - mean_absolute_error: 1253.7461 - val_loss: 1404.9010 - val_mean_absolute_error: 1404.9010\n",
            "Epoch 301/500\n",
            "210/210 [==============================] - 1s 3ms/step - loss: 1255.4717 - mean_absolute_error: 1255.4717 - val_loss: 1500.2233 - val_mean_absolute_error: 1500.2233\n",
            "Epoch 302/500\n",
            "210/210 [==============================] - 1s 3ms/step - loss: 1252.4495 - mean_absolute_error: 1252.4495 - val_loss: 1387.0466 - val_mean_absolute_error: 1387.0466\n",
            "Epoch 303/500\n",
            "210/210 [==============================] - 1s 3ms/step - loss: 1240.5012 - mean_absolute_error: 1240.5012 - val_loss: 1379.8644 - val_mean_absolute_error: 1379.8644\n",
            "Epoch 304/500\n",
            "210/210 [==============================] - 1s 3ms/step - loss: 1249.2838 - mean_absolute_error: 1249.2838 - val_loss: 1354.5392 - val_mean_absolute_error: 1354.5392\n",
            "Epoch 305/500\n",
            "210/210 [==============================] - 1s 3ms/step - loss: 1235.3472 - mean_absolute_error: 1235.3472 - val_loss: 1353.6987 - val_mean_absolute_error: 1353.6987\n",
            "Epoch 306/500\n",
            "210/210 [==============================] - 1s 3ms/step - loss: 1240.3148 - mean_absolute_error: 1240.3148 - val_loss: 1355.9192 - val_mean_absolute_error: 1355.9192\n",
            "Epoch 307/500\n",
            "210/210 [==============================] - 1s 3ms/step - loss: 1230.1512 - mean_absolute_error: 1230.1512 - val_loss: 1364.4685 - val_mean_absolute_error: 1364.4685\n",
            "Epoch 308/500\n",
            "210/210 [==============================] - 1s 3ms/step - loss: 1239.7552 - mean_absolute_error: 1239.7552 - val_loss: 1377.8000 - val_mean_absolute_error: 1377.8000\n",
            "Epoch 309/500\n",
            "210/210 [==============================] - 1s 3ms/step - loss: 1230.9783 - mean_absolute_error: 1230.9783 - val_loss: 1426.2225 - val_mean_absolute_error: 1426.2225\n",
            "Epoch 310/500\n",
            "210/210 [==============================] - 1s 3ms/step - loss: 1243.7987 - mean_absolute_error: 1243.7987 - val_loss: 1550.3300 - val_mean_absolute_error: 1550.3300\n",
            "Epoch 311/500\n",
            "210/210 [==============================] - 1s 3ms/step - loss: 1228.3174 - mean_absolute_error: 1228.3174 - val_loss: 1392.4386 - val_mean_absolute_error: 1392.4386\n",
            "Epoch 312/500\n",
            "210/210 [==============================] - 1s 3ms/step - loss: 1232.0933 - mean_absolute_error: 1232.0933 - val_loss: 1416.0349 - val_mean_absolute_error: 1416.0349\n",
            "Epoch 313/500\n",
            "210/210 [==============================] - 1s 3ms/step - loss: 1231.0927 - mean_absolute_error: 1231.0927 - val_loss: 1389.0848 - val_mean_absolute_error: 1389.0848\n",
            "Epoch 314/500\n",
            "210/210 [==============================] - 1s 3ms/step - loss: 1232.3307 - mean_absolute_error: 1232.3307 - val_loss: 1396.8951 - val_mean_absolute_error: 1396.8951\n",
            "Epoch 315/500\n",
            "210/210 [==============================] - 1s 3ms/step - loss: 1241.5286 - mean_absolute_error: 1241.5286 - val_loss: 1358.3077 - val_mean_absolute_error: 1358.3077\n",
            "Epoch 316/500\n",
            "210/210 [==============================] - 1s 3ms/step - loss: 1220.3545 - mean_absolute_error: 1220.3545 - val_loss: 1383.0042 - val_mean_absolute_error: 1383.0042\n",
            "Epoch 317/500\n",
            "210/210 [==============================] - 1s 3ms/step - loss: 1227.7994 - mean_absolute_error: 1227.7994 - val_loss: 1433.0811 - val_mean_absolute_error: 1433.0811\n",
            "Epoch 318/500\n",
            "210/210 [==============================] - 1s 3ms/step - loss: 1227.2942 - mean_absolute_error: 1227.2942 - val_loss: 1356.4771 - val_mean_absolute_error: 1356.4771\n",
            "Epoch 319/500\n",
            "210/210 [==============================] - 1s 3ms/step - loss: 1235.8719 - mean_absolute_error: 1235.8719 - val_loss: 1401.4806 - val_mean_absolute_error: 1401.4806\n",
            "Epoch 320/500\n",
            "210/210 [==============================] - 1s 3ms/step - loss: 1226.9257 - mean_absolute_error: 1226.9257 - val_loss: 1396.0942 - val_mean_absolute_error: 1396.0942\n",
            "Epoch 321/500\n",
            "210/210 [==============================] - 1s 3ms/step - loss: 1236.4124 - mean_absolute_error: 1236.4124 - val_loss: 1463.7629 - val_mean_absolute_error: 1463.7629\n",
            "Epoch 322/500\n",
            "210/210 [==============================] - 1s 3ms/step - loss: 1238.7062 - mean_absolute_error: 1238.7062 - val_loss: 1439.5273 - val_mean_absolute_error: 1439.5273\n",
            "Epoch 323/500\n",
            "210/210 [==============================] - 1s 3ms/step - loss: 1237.4470 - mean_absolute_error: 1237.4470 - val_loss: 1374.3856 - val_mean_absolute_error: 1374.3856\n",
            "Epoch 324/500\n",
            "210/210 [==============================] - 1s 3ms/step - loss: 1221.6819 - mean_absolute_error: 1221.6819 - val_loss: 1371.5695 - val_mean_absolute_error: 1371.5695\n",
            "Epoch 325/500\n",
            "210/210 [==============================] - 1s 3ms/step - loss: 1232.2024 - mean_absolute_error: 1232.2024 - val_loss: 1362.7830 - val_mean_absolute_error: 1362.7830\n",
            "Epoch 326/500\n",
            "210/210 [==============================] - 1s 4ms/step - loss: 1235.3107 - mean_absolute_error: 1235.3107 - val_loss: 1429.7019 - val_mean_absolute_error: 1429.7019\n",
            "Epoch 327/500\n",
            "210/210 [==============================] - 1s 3ms/step - loss: 1223.2955 - mean_absolute_error: 1223.2955 - val_loss: 1443.4182 - val_mean_absolute_error: 1443.4182\n",
            "Epoch 328/500\n",
            "210/210 [==============================] - 1s 3ms/step - loss: 1247.0186 - mean_absolute_error: 1247.0186 - val_loss: 1375.2001 - val_mean_absolute_error: 1375.2001\n",
            "Epoch 329/500\n",
            "210/210 [==============================] - 1s 3ms/step - loss: 1228.6847 - mean_absolute_error: 1228.6847 - val_loss: 1415.4768 - val_mean_absolute_error: 1415.4768\n",
            "Epoch 330/500\n",
            "210/210 [==============================] - 1s 3ms/step - loss: 1221.0132 - mean_absolute_error: 1221.0132 - val_loss: 1376.3436 - val_mean_absolute_error: 1376.3436\n",
            "Epoch 331/500\n",
            "210/210 [==============================] - 1s 3ms/step - loss: 1219.3242 - mean_absolute_error: 1219.3242 - val_loss: 1378.5830 - val_mean_absolute_error: 1378.5830\n",
            "Epoch 332/500\n",
            "210/210 [==============================] - 1s 3ms/step - loss: 1227.3870 - mean_absolute_error: 1227.3870 - val_loss: 1404.3268 - val_mean_absolute_error: 1404.3268\n",
            "Epoch 333/500\n",
            "210/210 [==============================] - 1s 3ms/step - loss: 1223.6178 - mean_absolute_error: 1223.6178 - val_loss: 1400.3110 - val_mean_absolute_error: 1400.3110\n",
            "Epoch 334/500\n",
            "210/210 [==============================] - 1s 3ms/step - loss: 1216.2079 - mean_absolute_error: 1216.2079 - val_loss: 1391.9193 - val_mean_absolute_error: 1391.9193\n",
            "Epoch 335/500\n",
            "210/210 [==============================] - 1s 3ms/step - loss: 1221.5129 - mean_absolute_error: 1221.5129 - val_loss: 1404.6759 - val_mean_absolute_error: 1404.6759\n",
            "Epoch 336/500\n",
            "210/210 [==============================] - 1s 3ms/step - loss: 1233.7716 - mean_absolute_error: 1233.7716 - val_loss: 1421.7897 - val_mean_absolute_error: 1421.7897\n",
            "Epoch 337/500\n",
            "210/210 [==============================] - 1s 3ms/step - loss: 1223.3195 - mean_absolute_error: 1223.3195 - val_loss: 1371.1156 - val_mean_absolute_error: 1371.1156\n",
            "Epoch 338/500\n",
            "210/210 [==============================] - 1s 3ms/step - loss: 1218.1050 - mean_absolute_error: 1218.1050 - val_loss: 1374.2375 - val_mean_absolute_error: 1374.2375\n",
            "Epoch 339/500\n",
            "210/210 [==============================] - 1s 3ms/step - loss: 1218.8854 - mean_absolute_error: 1218.8854 - val_loss: 1415.3623 - val_mean_absolute_error: 1415.3623\n",
            "Epoch 340/500\n",
            "210/210 [==============================] - 1s 3ms/step - loss: 1210.1456 - mean_absolute_error: 1210.1456 - val_loss: 1397.4270 - val_mean_absolute_error: 1397.4270\n",
            "Epoch 341/500\n",
            "210/210 [==============================] - 1s 3ms/step - loss: 1236.7751 - mean_absolute_error: 1236.7751 - val_loss: 1358.9385 - val_mean_absolute_error: 1358.9385\n",
            "Epoch 342/500\n",
            "210/210 [==============================] - 1s 3ms/step - loss: 1226.4668 - mean_absolute_error: 1226.4668 - val_loss: 1375.5853 - val_mean_absolute_error: 1375.5853\n",
            "Epoch 343/500\n",
            "210/210 [==============================] - 1s 3ms/step - loss: 1213.6256 - mean_absolute_error: 1213.6256 - val_loss: 1392.1528 - val_mean_absolute_error: 1392.1528\n",
            "Epoch 344/500\n",
            "210/210 [==============================] - 1s 3ms/step - loss: 1221.0170 - mean_absolute_error: 1221.0170 - val_loss: 1375.7709 - val_mean_absolute_error: 1375.7709\n",
            "Epoch 345/500\n",
            "210/210 [==============================] - 1s 3ms/step - loss: 1217.6387 - mean_absolute_error: 1217.6387 - val_loss: 1402.1117 - val_mean_absolute_error: 1402.1117\n",
            "Epoch 346/500\n",
            "210/210 [==============================] - 1s 3ms/step - loss: 1204.9333 - mean_absolute_error: 1204.9333 - val_loss: 1372.1108 - val_mean_absolute_error: 1372.1108\n",
            "Epoch 347/500\n",
            "210/210 [==============================] - 1s 3ms/step - loss: 1212.4978 - mean_absolute_error: 1212.4978 - val_loss: 1372.0009 - val_mean_absolute_error: 1372.0009\n",
            "Epoch 348/500\n",
            "210/210 [==============================] - 1s 3ms/step - loss: 1224.8947 - mean_absolute_error: 1224.8947 - val_loss: 1357.2697 - val_mean_absolute_error: 1357.2697\n",
            "Epoch 349/500\n",
            "210/210 [==============================] - 1s 3ms/step - loss: 1211.7952 - mean_absolute_error: 1211.7952 - val_loss: 1428.0400 - val_mean_absolute_error: 1428.0400\n",
            "Epoch 350/500\n",
            "210/210 [==============================] - 1s 3ms/step - loss: 1214.8510 - mean_absolute_error: 1214.8510 - val_loss: 1361.0636 - val_mean_absolute_error: 1361.0636\n",
            "Epoch 351/500\n",
            "210/210 [==============================] - 1s 3ms/step - loss: 1223.0388 - mean_absolute_error: 1223.0388 - val_loss: 1362.3020 - val_mean_absolute_error: 1362.3020\n",
            "Epoch 352/500\n",
            "210/210 [==============================] - 1s 3ms/step - loss: 1208.5093 - mean_absolute_error: 1208.5093 - val_loss: 1391.9111 - val_mean_absolute_error: 1391.9111\n",
            "Epoch 353/500\n",
            "210/210 [==============================] - 1s 3ms/step - loss: 1228.6492 - mean_absolute_error: 1228.6492 - val_loss: 1357.2753 - val_mean_absolute_error: 1357.2753\n",
            "Epoch 354/500\n",
            "210/210 [==============================] - 1s 3ms/step - loss: 1211.4524 - mean_absolute_error: 1211.4524 - val_loss: 1378.8083 - val_mean_absolute_error: 1378.8083\n",
            "Epoch 355/500\n",
            "210/210 [==============================] - 1s 3ms/step - loss: 1221.3129 - mean_absolute_error: 1221.3129 - val_loss: 1392.6428 - val_mean_absolute_error: 1392.6428\n",
            "Epoch 356/500\n",
            "210/210 [==============================] - 1s 3ms/step - loss: 1207.9281 - mean_absolute_error: 1207.9281 - val_loss: 1363.3475 - val_mean_absolute_error: 1363.3475\n",
            "Epoch 357/500\n",
            "210/210 [==============================] - 1s 3ms/step - loss: 1213.5411 - mean_absolute_error: 1213.5411 - val_loss: 1397.2028 - val_mean_absolute_error: 1397.2028\n",
            "Epoch 358/500\n",
            "210/210 [==============================] - 1s 3ms/step - loss: 1223.3032 - mean_absolute_error: 1223.3032 - val_loss: 1375.9507 - val_mean_absolute_error: 1375.9507\n",
            "Epoch 359/500\n",
            "210/210 [==============================] - 1s 3ms/step - loss: 1215.1245 - mean_absolute_error: 1215.1245 - val_loss: 1397.8442 - val_mean_absolute_error: 1397.8442\n",
            "Epoch 360/500\n",
            "210/210 [==============================] - 1s 3ms/step - loss: 1211.5435 - mean_absolute_error: 1211.5435 - val_loss: 1385.1589 - val_mean_absolute_error: 1385.1589\n",
            "Epoch 361/500\n",
            "210/210 [==============================] - 1s 3ms/step - loss: 1208.4932 - mean_absolute_error: 1208.4932 - val_loss: 1357.8260 - val_mean_absolute_error: 1357.8260\n",
            "Epoch 362/500\n",
            "210/210 [==============================] - 1s 3ms/step - loss: 1219.4647 - mean_absolute_error: 1219.4647 - val_loss: 1368.1931 - val_mean_absolute_error: 1368.1931\n",
            "Epoch 363/500\n",
            "210/210 [==============================] - 1s 3ms/step - loss: 1201.9008 - mean_absolute_error: 1201.9008 - val_loss: 1367.8562 - val_mean_absolute_error: 1367.8562\n",
            "Epoch 364/500\n",
            "210/210 [==============================] - 1s 3ms/step - loss: 1215.5011 - mean_absolute_error: 1215.5011 - val_loss: 1352.3494 - val_mean_absolute_error: 1352.3494\n",
            "Epoch 365/500\n",
            "210/210 [==============================] - 1s 3ms/step - loss: 1203.7076 - mean_absolute_error: 1203.7076 - val_loss: 1372.3035 - val_mean_absolute_error: 1372.3035\n",
            "Epoch 366/500\n",
            "210/210 [==============================] - 1s 3ms/step - loss: 1209.4404 - mean_absolute_error: 1209.4404 - val_loss: 1379.0437 - val_mean_absolute_error: 1379.0437\n",
            "Epoch 367/500\n",
            "210/210 [==============================] - 1s 3ms/step - loss: 1210.2444 - mean_absolute_error: 1210.2444 - val_loss: 1359.0482 - val_mean_absolute_error: 1359.0482\n",
            "Epoch 368/500\n",
            "210/210 [==============================] - 1s 3ms/step - loss: 1217.8683 - mean_absolute_error: 1217.8683 - val_loss: 1358.2856 - val_mean_absolute_error: 1358.2856\n",
            "Epoch 369/500\n",
            "210/210 [==============================] - 1s 3ms/step - loss: 1212.1912 - mean_absolute_error: 1212.1912 - val_loss: 1374.3455 - val_mean_absolute_error: 1374.3455\n",
            "Epoch 370/500\n",
            "210/210 [==============================] - 1s 3ms/step - loss: 1206.3762 - mean_absolute_error: 1206.3762 - val_loss: 1367.2875 - val_mean_absolute_error: 1367.2875\n",
            "Epoch 371/500\n",
            "210/210 [==============================] - 1s 3ms/step - loss: 1218.8696 - mean_absolute_error: 1218.8696 - val_loss: 1353.8007 - val_mean_absolute_error: 1353.8007\n",
            "Epoch 372/500\n",
            "210/210 [==============================] - 1s 3ms/step - loss: 1200.6232 - mean_absolute_error: 1200.6232 - val_loss: 1502.7593 - val_mean_absolute_error: 1502.7593\n",
            "Epoch 373/500\n",
            "210/210 [==============================] - 1s 3ms/step - loss: 1218.3445 - mean_absolute_error: 1218.3445 - val_loss: 1417.7103 - val_mean_absolute_error: 1417.7103\n",
            "Epoch 374/500\n",
            "210/210 [==============================] - 1s 3ms/step - loss: 1205.0205 - mean_absolute_error: 1205.0205 - val_loss: 1406.7799 - val_mean_absolute_error: 1406.7799\n",
            "Epoch 375/500\n",
            "210/210 [==============================] - 1s 3ms/step - loss: 1200.8837 - mean_absolute_error: 1200.8837 - val_loss: 1365.2841 - val_mean_absolute_error: 1365.2841\n",
            "Epoch 376/500\n",
            "210/210 [==============================] - 1s 3ms/step - loss: 1205.2977 - mean_absolute_error: 1205.2977 - val_loss: 1373.9586 - val_mean_absolute_error: 1373.9586\n",
            "Epoch 377/500\n",
            "210/210 [==============================] - 1s 3ms/step - loss: 1227.9978 - mean_absolute_error: 1227.9978 - val_loss: 1365.2676 - val_mean_absolute_error: 1365.2676\n",
            "Epoch 378/500\n",
            "210/210 [==============================] - 1s 3ms/step - loss: 1204.0831 - mean_absolute_error: 1204.0831 - val_loss: 1376.1316 - val_mean_absolute_error: 1376.1316\n",
            "Epoch 379/500\n",
            "210/210 [==============================] - 1s 3ms/step - loss: 1202.2965 - mean_absolute_error: 1202.2965 - val_loss: 1393.6512 - val_mean_absolute_error: 1393.6512\n",
            "Epoch 380/500\n",
            "210/210 [==============================] - 1s 3ms/step - loss: 1198.8206 - mean_absolute_error: 1198.8206 - val_loss: 1388.2672 - val_mean_absolute_error: 1388.2672\n",
            "Epoch 381/500\n",
            "210/210 [==============================] - 1s 3ms/step - loss: 1198.3129 - mean_absolute_error: 1198.3129 - val_loss: 1398.9946 - val_mean_absolute_error: 1398.9946\n",
            "Epoch 382/500\n",
            "210/210 [==============================] - 1s 3ms/step - loss: 1186.8969 - mean_absolute_error: 1186.8969 - val_loss: 1354.6188 - val_mean_absolute_error: 1354.6188\n",
            "Epoch 383/500\n",
            "210/210 [==============================] - 1s 3ms/step - loss: 1206.5864 - mean_absolute_error: 1206.5864 - val_loss: 1369.7880 - val_mean_absolute_error: 1369.7880\n",
            "Epoch 384/500\n",
            "210/210 [==============================] - 1s 3ms/step - loss: 1197.7156 - mean_absolute_error: 1197.7156 - val_loss: 1369.0450 - val_mean_absolute_error: 1369.0450\n",
            "Epoch 385/500\n",
            "210/210 [==============================] - 1s 3ms/step - loss: 1199.6787 - mean_absolute_error: 1199.6787 - val_loss: 1383.1433 - val_mean_absolute_error: 1383.1433\n",
            "Epoch 386/500\n",
            "210/210 [==============================] - 1s 3ms/step - loss: 1194.9829 - mean_absolute_error: 1194.9829 - val_loss: 1357.1730 - val_mean_absolute_error: 1357.1730\n",
            "Epoch 387/500\n",
            "210/210 [==============================] - 1s 3ms/step - loss: 1203.3440 - mean_absolute_error: 1203.3440 - val_loss: 1397.3188 - val_mean_absolute_error: 1397.3188\n",
            "Epoch 388/500\n",
            "210/210 [==============================] - 1s 3ms/step - loss: 1213.0398 - mean_absolute_error: 1213.0398 - val_loss: 1379.7358 - val_mean_absolute_error: 1379.7358\n",
            "Epoch 389/500\n",
            "210/210 [==============================] - 1s 4ms/step - loss: 1222.1956 - mean_absolute_error: 1222.1956 - val_loss: 1362.8792 - val_mean_absolute_error: 1362.8792\n",
            "Epoch 390/500\n",
            "210/210 [==============================] - 1s 3ms/step - loss: 1189.0487 - mean_absolute_error: 1189.0487 - val_loss: 1379.9854 - val_mean_absolute_error: 1379.9854\n",
            "Epoch 391/500\n",
            "210/210 [==============================] - 1s 3ms/step - loss: 1206.7084 - mean_absolute_error: 1206.7084 - val_loss: 1390.5928 - val_mean_absolute_error: 1390.5928\n",
            "Epoch 392/500\n",
            "210/210 [==============================] - 1s 3ms/step - loss: 1196.7456 - mean_absolute_error: 1196.7456 - val_loss: 1380.4301 - val_mean_absolute_error: 1380.4301\n",
            "Epoch 393/500\n",
            "210/210 [==============================] - 1s 3ms/step - loss: 1213.4963 - mean_absolute_error: 1213.4963 - val_loss: 1375.6647 - val_mean_absolute_error: 1375.6647\n",
            "Epoch 394/500\n",
            "210/210 [==============================] - 1s 3ms/step - loss: 1187.6333 - mean_absolute_error: 1187.6333 - val_loss: 1350.6652 - val_mean_absolute_error: 1350.6652\n",
            "Epoch 395/500\n",
            "210/210 [==============================] - 1s 3ms/step - loss: 1188.8895 - mean_absolute_error: 1188.8895 - val_loss: 1371.7452 - val_mean_absolute_error: 1371.7452\n",
            "Epoch 396/500\n",
            "210/210 [==============================] - 1s 3ms/step - loss: 1198.8135 - mean_absolute_error: 1198.8135 - val_loss: 1367.1342 - val_mean_absolute_error: 1367.1342\n",
            "Epoch 397/500\n",
            "210/210 [==============================] - 1s 3ms/step - loss: 1196.2783 - mean_absolute_error: 1196.2783 - val_loss: 1354.3436 - val_mean_absolute_error: 1354.3436\n",
            "Epoch 398/500\n",
            "210/210 [==============================] - 1s 3ms/step - loss: 1215.5469 - mean_absolute_error: 1215.5469 - val_loss: 1382.2660 - val_mean_absolute_error: 1382.2660\n",
            "Epoch 399/500\n",
            "210/210 [==============================] - 1s 3ms/step - loss: 1193.2157 - mean_absolute_error: 1193.2157 - val_loss: 1425.9197 - val_mean_absolute_error: 1425.9197\n",
            "Epoch 400/500\n",
            "210/210 [==============================] - 1s 3ms/step - loss: 1189.8593 - mean_absolute_error: 1189.8593 - val_loss: 1357.8320 - val_mean_absolute_error: 1357.8320\n",
            "Epoch 401/500\n",
            "210/210 [==============================] - 1s 3ms/step - loss: 1180.6438 - mean_absolute_error: 1180.6438 - val_loss: 1414.1566 - val_mean_absolute_error: 1414.1566\n",
            "Epoch 402/500\n",
            "210/210 [==============================] - 1s 3ms/step - loss: 1192.8953 - mean_absolute_error: 1192.8953 - val_loss: 1359.2291 - val_mean_absolute_error: 1359.2291\n",
            "Epoch 403/500\n",
            "210/210 [==============================] - 1s 3ms/step - loss: 1217.7502 - mean_absolute_error: 1217.7502 - val_loss: 1378.6718 - val_mean_absolute_error: 1378.6718\n",
            "Epoch 404/500\n",
            "210/210 [==============================] - 1s 3ms/step - loss: 1205.6558 - mean_absolute_error: 1205.6558 - val_loss: 1391.1498 - val_mean_absolute_error: 1391.1498\n",
            "Epoch 405/500\n",
            "210/210 [==============================] - 1s 3ms/step - loss: 1187.8845 - mean_absolute_error: 1187.8845 - val_loss: 1358.2594 - val_mean_absolute_error: 1358.2594\n",
            "Epoch 406/500\n",
            "210/210 [==============================] - 1s 3ms/step - loss: 1190.4520 - mean_absolute_error: 1190.4520 - val_loss: 1380.7518 - val_mean_absolute_error: 1380.7518\n",
            "Epoch 407/500\n",
            "210/210 [==============================] - 1s 3ms/step - loss: 1199.0581 - mean_absolute_error: 1199.0581 - val_loss: 1372.5562 - val_mean_absolute_error: 1372.5562\n",
            "Epoch 408/500\n",
            "210/210 [==============================] - 1s 3ms/step - loss: 1182.1464 - mean_absolute_error: 1182.1464 - val_loss: 1357.5508 - val_mean_absolute_error: 1357.5508\n",
            "Epoch 409/500\n",
            "210/210 [==============================] - 1s 3ms/step - loss: 1194.3861 - mean_absolute_error: 1194.3861 - val_loss: 1384.1263 - val_mean_absolute_error: 1384.1263\n",
            "Epoch 410/500\n",
            "210/210 [==============================] - 1s 3ms/step - loss: 1177.1184 - mean_absolute_error: 1177.1184 - val_loss: 1389.4677 - val_mean_absolute_error: 1389.4677\n",
            "Epoch 411/500\n",
            "210/210 [==============================] - 1s 3ms/step - loss: 1184.7561 - mean_absolute_error: 1184.7561 - val_loss: 1364.3816 - val_mean_absolute_error: 1364.3816\n",
            "Epoch 412/500\n",
            "210/210 [==============================] - 1s 3ms/step - loss: 1176.3335 - mean_absolute_error: 1176.3335 - val_loss: 1410.0914 - val_mean_absolute_error: 1410.0914\n",
            "Epoch 413/500\n",
            "210/210 [==============================] - 1s 3ms/step - loss: 1178.2157 - mean_absolute_error: 1178.2157 - val_loss: 1385.4919 - val_mean_absolute_error: 1385.4919\n",
            "Epoch 414/500\n",
            "210/210 [==============================] - 1s 3ms/step - loss: 1194.1819 - mean_absolute_error: 1194.1819 - val_loss: 1355.4413 - val_mean_absolute_error: 1355.4413\n",
            "Epoch 415/500\n",
            "210/210 [==============================] - 1s 3ms/step - loss: 1174.1709 - mean_absolute_error: 1174.1709 - val_loss: 1362.9144 - val_mean_absolute_error: 1362.9144\n",
            "Epoch 416/500\n",
            "210/210 [==============================] - 1s 3ms/step - loss: 1179.6156 - mean_absolute_error: 1179.6156 - val_loss: 1380.2313 - val_mean_absolute_error: 1380.2313\n",
            "Epoch 417/500\n",
            "210/210 [==============================] - 1s 3ms/step - loss: 1177.8333 - mean_absolute_error: 1177.8333 - val_loss: 1342.9043 - val_mean_absolute_error: 1342.9043\n",
            "Epoch 418/500\n",
            "210/210 [==============================] - 1s 3ms/step - loss: 1187.8081 - mean_absolute_error: 1187.8081 - val_loss: 1367.4340 - val_mean_absolute_error: 1367.4340\n",
            "Epoch 419/500\n",
            "210/210 [==============================] - 1s 3ms/step - loss: 1202.2875 - mean_absolute_error: 1202.2875 - val_loss: 1352.7261 - val_mean_absolute_error: 1352.7261\n",
            "Epoch 420/500\n",
            "210/210 [==============================] - 1s 3ms/step - loss: 1180.0610 - mean_absolute_error: 1180.0610 - val_loss: 1353.4774 - val_mean_absolute_error: 1353.4774\n",
            "Epoch 421/500\n",
            "210/210 [==============================] - 1s 3ms/step - loss: 1185.2939 - mean_absolute_error: 1185.2939 - val_loss: 1368.1055 - val_mean_absolute_error: 1368.1055\n",
            "Epoch 422/500\n",
            "210/210 [==============================] - 1s 3ms/step - loss: 1188.3870 - mean_absolute_error: 1188.3870 - val_loss: 1351.4440 - val_mean_absolute_error: 1351.4440\n",
            "Epoch 423/500\n",
            "210/210 [==============================] - 1s 3ms/step - loss: 1191.9503 - mean_absolute_error: 1191.9503 - val_loss: 1361.8765 - val_mean_absolute_error: 1361.8765\n",
            "Epoch 424/500\n",
            "210/210 [==============================] - 1s 3ms/step - loss: 1185.2634 - mean_absolute_error: 1185.2634 - val_loss: 1381.2759 - val_mean_absolute_error: 1381.2759\n",
            "Epoch 425/500\n",
            "210/210 [==============================] - 1s 3ms/step - loss: 1182.2534 - mean_absolute_error: 1182.2534 - val_loss: 1367.6365 - val_mean_absolute_error: 1367.6365\n",
            "Epoch 426/500\n",
            "210/210 [==============================] - 1s 3ms/step - loss: 1191.1429 - mean_absolute_error: 1191.1429 - val_loss: 1381.7588 - val_mean_absolute_error: 1381.7588\n",
            "Epoch 427/500\n",
            "210/210 [==============================] - 1s 3ms/step - loss: 1173.4889 - mean_absolute_error: 1173.4889 - val_loss: 1374.2141 - val_mean_absolute_error: 1374.2141\n",
            "Epoch 428/500\n",
            "210/210 [==============================] - 1s 4ms/step - loss: 1191.0394 - mean_absolute_error: 1191.0394 - val_loss: 1372.8226 - val_mean_absolute_error: 1372.8226\n",
            "Epoch 429/500\n",
            "210/210 [==============================] - 1s 3ms/step - loss: 1182.7544 - mean_absolute_error: 1182.7544 - val_loss: 1416.5214 - val_mean_absolute_error: 1416.5214\n",
            "Epoch 430/500\n",
            "210/210 [==============================] - 1s 3ms/step - loss: 1189.8854 - mean_absolute_error: 1189.8854 - val_loss: 1357.1558 - val_mean_absolute_error: 1357.1558\n",
            "Epoch 431/500\n",
            "210/210 [==============================] - 1s 3ms/step - loss: 1173.4905 - mean_absolute_error: 1173.4905 - val_loss: 1397.8904 - val_mean_absolute_error: 1397.8904\n",
            "Epoch 432/500\n",
            "210/210 [==============================] - 1s 3ms/step - loss: 1190.8323 - mean_absolute_error: 1190.8323 - val_loss: 1357.6697 - val_mean_absolute_error: 1357.6697\n",
            "Epoch 433/500\n",
            "210/210 [==============================] - 1s 3ms/step - loss: 1165.4624 - mean_absolute_error: 1165.4624 - val_loss: 1372.3223 - val_mean_absolute_error: 1372.3223\n",
            "Epoch 434/500\n",
            "210/210 [==============================] - 1s 3ms/step - loss: 1171.7151 - mean_absolute_error: 1171.7151 - val_loss: 1346.8621 - val_mean_absolute_error: 1346.8621\n",
            "Epoch 435/500\n",
            "210/210 [==============================] - 1s 3ms/step - loss: 1175.1581 - mean_absolute_error: 1175.1581 - val_loss: 1373.2676 - val_mean_absolute_error: 1373.2676\n",
            "Epoch 436/500\n",
            "210/210 [==============================] - 1s 3ms/step - loss: 1178.1371 - mean_absolute_error: 1178.1371 - val_loss: 1357.0032 - val_mean_absolute_error: 1357.0032\n",
            "Epoch 437/500\n",
            "210/210 [==============================] - 1s 3ms/step - loss: 1189.8927 - mean_absolute_error: 1189.8927 - val_loss: 1367.4784 - val_mean_absolute_error: 1367.4784\n",
            "Epoch 438/500\n",
            "210/210 [==============================] - 1s 3ms/step - loss: 1174.2555 - mean_absolute_error: 1174.2555 - val_loss: 1354.2977 - val_mean_absolute_error: 1354.2977\n",
            "Epoch 439/500\n",
            "210/210 [==============================] - 1s 3ms/step - loss: 1182.7390 - mean_absolute_error: 1182.7390 - val_loss: 1342.5687 - val_mean_absolute_error: 1342.5687\n",
            "Epoch 440/500\n",
            "210/210 [==============================] - 1s 3ms/step - loss: 1174.3849 - mean_absolute_error: 1174.3849 - val_loss: 1389.2491 - val_mean_absolute_error: 1389.2491\n",
            "Epoch 441/500\n",
            "210/210 [==============================] - 1s 3ms/step - loss: 1165.7823 - mean_absolute_error: 1165.7823 - val_loss: 1341.4894 - val_mean_absolute_error: 1341.4894\n",
            "Epoch 442/500\n",
            "210/210 [==============================] - 1s 3ms/step - loss: 1163.4207 - mean_absolute_error: 1163.4207 - val_loss: 1360.1700 - val_mean_absolute_error: 1360.1700\n",
            "Epoch 443/500\n",
            "210/210 [==============================] - 1s 3ms/step - loss: 1173.1177 - mean_absolute_error: 1173.1177 - val_loss: 1430.5415 - val_mean_absolute_error: 1430.5415\n",
            "Epoch 444/500\n",
            "210/210 [==============================] - 1s 3ms/step - loss: 1170.4889 - mean_absolute_error: 1170.4889 - val_loss: 1350.4507 - val_mean_absolute_error: 1350.4507\n",
            "Epoch 445/500\n",
            "210/210 [==============================] - 1s 3ms/step - loss: 1164.6398 - mean_absolute_error: 1164.6398 - val_loss: 1348.8441 - val_mean_absolute_error: 1348.8441\n",
            "Epoch 446/500\n",
            "210/210 [==============================] - 1s 3ms/step - loss: 1165.3882 - mean_absolute_error: 1165.3882 - val_loss: 1390.7384 - val_mean_absolute_error: 1390.7384\n",
            "Epoch 447/500\n",
            "210/210 [==============================] - 1s 3ms/step - loss: 1185.2698 - mean_absolute_error: 1185.2698 - val_loss: 1361.4755 - val_mean_absolute_error: 1361.4755\n",
            "Epoch 448/500\n",
            "210/210 [==============================] - 1s 3ms/step - loss: 1164.5370 - mean_absolute_error: 1164.5370 - val_loss: 1392.7388 - val_mean_absolute_error: 1392.7388\n",
            "Epoch 449/500\n",
            "210/210 [==============================] - 1s 3ms/step - loss: 1181.3485 - mean_absolute_error: 1181.3485 - val_loss: 1346.2476 - val_mean_absolute_error: 1346.2476\n",
            "Epoch 450/500\n",
            "210/210 [==============================] - 1s 3ms/step - loss: 1176.5986 - mean_absolute_error: 1176.5986 - val_loss: 1335.3282 - val_mean_absolute_error: 1335.3282\n",
            "Epoch 451/500\n",
            "210/210 [==============================] - 1s 3ms/step - loss: 1160.9841 - mean_absolute_error: 1160.9841 - val_loss: 1368.0562 - val_mean_absolute_error: 1368.0562\n",
            "Epoch 452/500\n",
            "210/210 [==============================] - 1s 3ms/step - loss: 1180.9072 - mean_absolute_error: 1180.9072 - val_loss: 1422.2313 - val_mean_absolute_error: 1422.2313\n",
            "Epoch 453/500\n",
            "210/210 [==============================] - 1s 3ms/step - loss: 1166.2533 - mean_absolute_error: 1166.2533 - val_loss: 1368.4083 - val_mean_absolute_error: 1368.4083\n",
            "Epoch 454/500\n",
            "210/210 [==============================] - 1s 3ms/step - loss: 1160.5092 - mean_absolute_error: 1160.5092 - val_loss: 1362.3932 - val_mean_absolute_error: 1362.3932\n",
            "Epoch 455/500\n",
            "210/210 [==============================] - 1s 3ms/step - loss: 1174.8774 - mean_absolute_error: 1174.8774 - val_loss: 1361.1034 - val_mean_absolute_error: 1361.1034\n",
            "Epoch 456/500\n",
            "210/210 [==============================] - 1s 3ms/step - loss: 1162.5859 - mean_absolute_error: 1162.5859 - val_loss: 1386.2228 - val_mean_absolute_error: 1386.2228\n",
            "Epoch 457/500\n",
            "210/210 [==============================] - 1s 3ms/step - loss: 1199.5308 - mean_absolute_error: 1199.5308 - val_loss: 1345.5234 - val_mean_absolute_error: 1345.5234\n",
            "Epoch 458/500\n",
            "210/210 [==============================] - 1s 3ms/step - loss: 1167.5624 - mean_absolute_error: 1167.5624 - val_loss: 1349.5507 - val_mean_absolute_error: 1349.5507\n",
            "Epoch 459/500\n",
            "210/210 [==============================] - 1s 3ms/step - loss: 1174.6536 - mean_absolute_error: 1174.6536 - val_loss: 1400.6901 - val_mean_absolute_error: 1400.6901\n",
            "Epoch 460/500\n",
            "210/210 [==============================] - 1s 3ms/step - loss: 1173.6954 - mean_absolute_error: 1173.6954 - val_loss: 1356.6562 - val_mean_absolute_error: 1356.6562\n",
            "Epoch 461/500\n",
            "210/210 [==============================] - 1s 3ms/step - loss: 1166.8578 - mean_absolute_error: 1166.8578 - val_loss: 1376.1095 - val_mean_absolute_error: 1376.1095\n",
            "Epoch 462/500\n",
            "210/210 [==============================] - 1s 3ms/step - loss: 1160.0217 - mean_absolute_error: 1160.0217 - val_loss: 1388.6383 - val_mean_absolute_error: 1388.6383\n",
            "Epoch 463/500\n",
            "210/210 [==============================] - 1s 3ms/step - loss: 1178.5521 - mean_absolute_error: 1178.5521 - val_loss: 1354.5515 - val_mean_absolute_error: 1354.5515\n",
            "Epoch 464/500\n",
            "210/210 [==============================] - 1s 3ms/step - loss: 1164.8518 - mean_absolute_error: 1164.8518 - val_loss: 1374.9537 - val_mean_absolute_error: 1374.9537\n",
            "Epoch 465/500\n",
            "210/210 [==============================] - 1s 3ms/step - loss: 1168.1899 - mean_absolute_error: 1168.1899 - val_loss: 1339.2968 - val_mean_absolute_error: 1339.2968\n",
            "Epoch 466/500\n",
            "210/210 [==============================] - 1s 3ms/step - loss: 1167.2958 - mean_absolute_error: 1167.2958 - val_loss: 1365.5361 - val_mean_absolute_error: 1365.5361\n",
            "Epoch 467/500\n",
            "210/210 [==============================] - 1s 3ms/step - loss: 1152.0426 - mean_absolute_error: 1152.0426 - val_loss: 1358.3901 - val_mean_absolute_error: 1358.3901\n",
            "Epoch 468/500\n",
            "210/210 [==============================] - 1s 3ms/step - loss: 1172.7361 - mean_absolute_error: 1172.7361 - val_loss: 1363.2605 - val_mean_absolute_error: 1363.2605\n",
            "Epoch 469/500\n",
            "210/210 [==============================] - 1s 3ms/step - loss: 1170.7202 - mean_absolute_error: 1170.7202 - val_loss: 1401.6047 - val_mean_absolute_error: 1401.6047\n",
            "Epoch 470/500\n",
            "210/210 [==============================] - 1s 3ms/step - loss: 1164.9587 - mean_absolute_error: 1164.9587 - val_loss: 1354.4908 - val_mean_absolute_error: 1354.4908\n",
            "Epoch 471/500\n",
            "210/210 [==============================] - 1s 3ms/step - loss: 1164.9862 - mean_absolute_error: 1164.9862 - val_loss: 1368.0981 - val_mean_absolute_error: 1368.0981\n",
            "Epoch 472/500\n",
            "210/210 [==============================] - 1s 3ms/step - loss: 1166.1993 - mean_absolute_error: 1166.1993 - val_loss: 1367.6949 - val_mean_absolute_error: 1367.6949\n",
            "Epoch 473/500\n",
            "210/210 [==============================] - 1s 3ms/step - loss: 1153.9241 - mean_absolute_error: 1153.9241 - val_loss: 1386.4686 - val_mean_absolute_error: 1386.4686\n",
            "Epoch 474/500\n",
            "210/210 [==============================] - 1s 3ms/step - loss: 1166.0570 - mean_absolute_error: 1166.0570 - val_loss: 1358.9520 - val_mean_absolute_error: 1358.9520\n",
            "Epoch 475/500\n",
            "210/210 [==============================] - 1s 3ms/step - loss: 1153.2969 - mean_absolute_error: 1153.2969 - val_loss: 1363.0905 - val_mean_absolute_error: 1363.0905\n",
            "Epoch 476/500\n",
            "210/210 [==============================] - 1s 3ms/step - loss: 1163.5446 - mean_absolute_error: 1163.5446 - val_loss: 1336.5474 - val_mean_absolute_error: 1336.5474\n",
            "Epoch 477/500\n",
            "210/210 [==============================] - 1s 3ms/step - loss: 1155.7328 - mean_absolute_error: 1155.7328 - val_loss: 1341.3850 - val_mean_absolute_error: 1341.3850\n",
            "Epoch 478/500\n",
            "210/210 [==============================] - 1s 3ms/step - loss: 1156.9846 - mean_absolute_error: 1156.9846 - val_loss: 1453.5608 - val_mean_absolute_error: 1453.5608\n",
            "Epoch 479/500\n",
            "210/210 [==============================] - 1s 3ms/step - loss: 1168.4171 - mean_absolute_error: 1168.4171 - val_loss: 1364.1201 - val_mean_absolute_error: 1364.1201\n",
            "Epoch 480/500\n",
            "210/210 [==============================] - 1s 3ms/step - loss: 1159.0438 - mean_absolute_error: 1159.0438 - val_loss: 1350.1512 - val_mean_absolute_error: 1350.1512\n",
            "Epoch 481/500\n",
            "210/210 [==============================] - 1s 3ms/step - loss: 1155.0303 - mean_absolute_error: 1155.0303 - val_loss: 1362.2753 - val_mean_absolute_error: 1362.2753\n",
            "Epoch 482/500\n",
            "210/210 [==============================] - 1s 3ms/step - loss: 1154.6648 - mean_absolute_error: 1154.6648 - val_loss: 1347.8229 - val_mean_absolute_error: 1347.8229\n",
            "Epoch 483/500\n",
            "210/210 [==============================] - 1s 3ms/step - loss: 1163.1462 - mean_absolute_error: 1163.1462 - val_loss: 1372.6951 - val_mean_absolute_error: 1372.6951\n",
            "Epoch 484/500\n",
            "210/210 [==============================] - 1s 3ms/step - loss: 1163.7603 - mean_absolute_error: 1163.7603 - val_loss: 1358.1610 - val_mean_absolute_error: 1358.1610\n",
            "Epoch 485/500\n",
            "210/210 [==============================] - 1s 3ms/step - loss: 1161.6207 - mean_absolute_error: 1161.6207 - val_loss: 1367.8726 - val_mean_absolute_error: 1367.8726\n",
            "Epoch 486/500\n",
            "210/210 [==============================] - 1s 3ms/step - loss: 1151.1034 - mean_absolute_error: 1151.1034 - val_loss: 1355.3561 - val_mean_absolute_error: 1355.3561\n",
            "Epoch 487/500\n",
            "210/210 [==============================] - 1s 3ms/step - loss: 1153.3840 - mean_absolute_error: 1153.3840 - val_loss: 1348.0782 - val_mean_absolute_error: 1348.0782\n",
            "Epoch 488/500\n",
            "210/210 [==============================] - 1s 3ms/step - loss: 1158.1779 - mean_absolute_error: 1158.1779 - val_loss: 1345.7284 - val_mean_absolute_error: 1345.7284\n",
            "Epoch 489/500\n",
            "210/210 [==============================] - 1s 3ms/step - loss: 1149.9050 - mean_absolute_error: 1149.9050 - val_loss: 1349.9784 - val_mean_absolute_error: 1349.9784\n",
            "Epoch 490/500\n",
            "210/210 [==============================] - 1s 3ms/step - loss: 1154.8904 - mean_absolute_error: 1154.8904 - val_loss: 1368.5354 - val_mean_absolute_error: 1368.5354\n",
            "Epoch 491/500\n",
            "210/210 [==============================] - 1s 3ms/step - loss: 1156.1609 - mean_absolute_error: 1156.1609 - val_loss: 1354.7214 - val_mean_absolute_error: 1354.7214\n",
            "Epoch 492/500\n",
            "210/210 [==============================] - 1s 3ms/step - loss: 1147.2693 - mean_absolute_error: 1147.2693 - val_loss: 1379.3188 - val_mean_absolute_error: 1379.3188\n",
            "Epoch 493/500\n",
            "210/210 [==============================] - 1s 3ms/step - loss: 1159.6899 - mean_absolute_error: 1159.6899 - val_loss: 1339.2157 - val_mean_absolute_error: 1339.2157\n",
            "Epoch 494/500\n",
            "210/210 [==============================] - 1s 3ms/step - loss: 1144.6858 - mean_absolute_error: 1144.6858 - val_loss: 1400.7013 - val_mean_absolute_error: 1400.7013\n",
            "Epoch 495/500\n",
            "210/210 [==============================] - 1s 3ms/step - loss: 1167.1638 - mean_absolute_error: 1167.1638 - val_loss: 1362.8336 - val_mean_absolute_error: 1362.8336\n",
            "Epoch 496/500\n",
            "210/210 [==============================] - 1s 3ms/step - loss: 1151.3263 - mean_absolute_error: 1151.3263 - val_loss: 1362.6532 - val_mean_absolute_error: 1362.6532\n",
            "Epoch 497/500\n",
            "210/210 [==============================] - 1s 3ms/step - loss: 1146.8575 - mean_absolute_error: 1146.8575 - val_loss: 1357.0626 - val_mean_absolute_error: 1357.0626\n",
            "Epoch 498/500\n",
            "210/210 [==============================] - 1s 3ms/step - loss: 1151.1027 - mean_absolute_error: 1151.1027 - val_loss: 1350.2548 - val_mean_absolute_error: 1350.2548\n",
            "Epoch 499/500\n",
            "210/210 [==============================] - 1s 3ms/step - loss: 1152.9253 - mean_absolute_error: 1152.9253 - val_loss: 1388.7190 - val_mean_absolute_error: 1388.7190\n",
            "Epoch 500/500\n",
            "210/210 [==============================] - 1s 3ms/step - loss: 1153.3669 - mean_absolute_error: 1153.3669 - val_loss: 1371.2334 - val_mean_absolute_error: 1371.2334\n"
          ]
        },
        {
          "output_type": "execute_result",
          "data": {
            "text/plain": [
              "<keras.callbacks.History at 0x7f4a363f1ed0>"
            ]
          },
          "metadata": {},
          "execution_count": 97
        }
      ]
    },
    {
      "cell_type": "code",
      "source": [
        "pred_nn=NN_model.predict(X_test)"
      ],
      "metadata": {
        "id": "vnuIAxp6UxbY"
      },
      "execution_count": null,
      "outputs": []
    },
    {
      "cell_type": "code",
      "source": [
        "score_nn=metrics.r2_score(y_test, pred_nn)"
      ],
      "metadata": {
        "id": "tu_MyfxiV-3j"
      },
      "execution_count": null,
      "outputs": []
    },
    {
      "cell_type": "code",
      "source": [
        "score_nn"
      ],
      "metadata": {
        "colab": {
          "base_uri": "https://localhost:8080/"
        },
        "id": "EQp6676GohO3",
        "outputId": "b5c264fd-ab6b-4e10-89ae-1cfaa20251c8"
      },
      "execution_count": null,
      "outputs": [
        {
          "output_type": "execute_result",
          "data": {
            "text/plain": [
              "0.7564845700587388"
            ]
          },
          "metadata": {},
          "execution_count": 100
        }
      ]
    },
    {
      "cell_type": "code",
      "source": [
        "plt.scatter(y_test, pred_nn, alpha = 0.5)\n",
        "plt.xlabel(\"y_test\")\n",
        "plt.ylabel(\"y_pred\")\n",
        "plt.show()"
      ],
      "metadata": {
        "colab": {
          "base_uri": "https://localhost:8080/",
          "height": 283
        },
        "id": "06tNlHJJmBPt",
        "outputId": "2a6a29c5-372b-4564-c755-d17cbcc55265"
      },
      "execution_count": null,
      "outputs": [
        {
          "output_type": "display_data",
          "data": {
            "text/plain": [
              "<Figure size 432x288 with 1 Axes>"
            ],
            "image/png": "[encoded data removed]"
          },
          "metadata": {
            "needs_background": "light"
          }
        }
      ]
    },
    {
      "cell_type": "code",
      "source": [
        "plt.scatter(y_test, pred_nn, alpha = 0.5)\n",
        "plt.xlabel(\"y_test\")\n",
        "plt.ylabel(\"y_pred\")\n",
        "plt.show()"
      ],
      "metadata": {
        "colab": {
          "base_uri": "https://localhost:8080/",
          "height": 283
        },
        "id": "O7WngGsFmYci",
        "outputId": "6667bf51-2486-461a-f79d-47ed406d010b"
      },
      "execution_count": null,
      "outputs": [
        {
          "output_type": "display_data",
          "data": {
            "text/plain": [
              "<Figure size 432x288 with 1 Axes>"
            ],
            "image/png": "[encoded data removed]"
          },
          "metadata": {
            "needs_background": "light"
          }
        }
      ]
    },
    {
      "cell_type": "markdown",
      "source": [
        "#Comparing the results of different models"
      ],
      "metadata": {
        "id": "tBG766eXmXwP"
      }
    },
    {
      "cell_type": "code",
      "source": [
        "scores_models=pd.DataFrame(list(zip(['Random Forest Regression','XGBoost regression','LightGBM regression','Artificial Neural Network'],[score_rf,score_xgb,score_lgb,score_nn])),columns=['Model','R2 Score'])"
      ],
      "metadata": {
        "id": "QtREVCpdX2k2"
      },
      "execution_count": null,
      "outputs": []
    },
    {
      "cell_type": "code",
      "source": [
        "scores_models"
      ],
      "metadata": {
        "colab": {
          "base_uri": "https://localhost:8080/",
          "height": 174
        },
        "id": "BA4EBE80pXsg",
        "outputId": "14a87fc0-2691-4483-d41f-2129f3204a1e"
      },
      "execution_count": null,
      "outputs": [
        {
          "output_type": "execute_result",
          "data": {
            "text/plain": [
              "                       Model  R2 Score\n",
              "0   Random Forest Regression  0.831414\n",
              "1         XGBoost regression  0.840750\n",
              "2        LightGBM regression  0.821950\n",
              "3  Artificial Neural Network  0.756485"
            ],
            "text/html": [
              "\n",
              "  <div id=\"df-a97fbe35-7832-4edf-93c3-a522a06ed462\">\n",
              "    <div class=\"colab-df-container\">\n",
              "      <div>\n",
              "<style scoped>\n",
              "    .dataframe tbody tr th:only-of-type {\n",
              "        vertical-align: middle;\n",
              "    }\n",
              "\n",
              "    .dataframe tbody tr th {\n",
              "        vertical-align: top;\n",
              "    }\n",
              "\n",
              "    .dataframe thead th {\n",
              "        text-align: right;\n",
              "    }\n",
              "</style>\n",
              "<table border=\"1\" class=\"dataframe\">\n",
              "  <thead>\n",
              "    <tr style=\"text-align: right;\">\n",
              "      <th></th>\n",
              "      <th>Model</th>\n",
              "      <th>R2 Score</th>\n",
              "    </tr>\n",
              "  </thead>\n",
              "  <tbody>\n",
              "    <tr>\n",
              "      <th>0</th>\n",
              "      <td>Random Forest Regression</td>\n",
              "      <td>0.831414</td>\n",
              "    </tr>\n",
              "    <tr>\n",
              "      <th>1</th>\n",
              "      <td>XGBoost regression</td>\n",
              "      <td>0.840750</td>\n",
              "    </tr>\n",
              "    <tr>\n",
              "      <th>2</th>\n",
              "      <td>LightGBM regression</td>\n",
              "      <td>0.821950</td>\n",
              "    </tr>\n",
              "    <tr>\n",
              "      <th>3</th>\n",
              "      <td>Artificial Neural Network</td>\n",
              "      <td>0.756485</td>\n",
              "    </tr>\n",
              "  </tbody>\n",
              "</table>\n",
              "</div>\n",
              "      <button class=\"colab-df-convert\" onclick=\"convertToInteractive('df-a97fbe35-7832-4edf-93c3-a522a06ed462')\"\n",
              "              title=\"Convert this dataframe to an interactive table.\"\n",
              "              style=\"display:none;\">\n",
              "        \n",
              "  <svg xmlns=\"http://www.w3.org/2000/svg\" height=\"24px\"viewBox=\"0 0 24 24\"\n",
              "       width=\"24px\">\n",
              "    <path d=\"M0 0h24v24H0V0z\" fill=\"none\"/>\n",
              "    <path d=\"M18.56 5.44l.94 2.06.94-2.06 2.06-.94-2.06-.94-.94-2.06-.94 2.06-2.06.94zm-11 1L8.5 8.5l.94-2.06 2.06-.94-2.06-.94L8.5 2.5l-.94 2.06-2.06.94zm10 10l.94 2.06.94-2.06 2.06-.94-2.06-.94-.94-2.06-.94 2.06-2.06.94z\"/><path d=\"M17.41 7.96l-1.37-1.37c-.4-.4-.92-.59-1.43-.59-.52 0-1.04.2-1.43.59L10.3 9.45l-7.72 7.72c-.78.78-.78 2.05 0 2.83L4 21.41c.39.39.9.59 1.41.59.51 0 1.02-.2 1.41-.59l7.78-7.78 2.81-2.81c.8-.78.8-2.07 0-2.86zM5.41 20L4 18.59l7.72-7.72 1.47 1.35L5.41 20z\"/>\n",
              "  </svg>\n",
              "      </button>\n",
              "      \n",
              "  <style>\n",
              "    .colab-df-container {\n",
              "      display:flex;\n",
              "      flex-wrap:wrap;\n",
              "      gap: 12px;\n",
              "    }\n",
              "\n",
              "    .colab-df-convert {\n",
              "      background-color: #E8F0FE;\n",
              "      border: none;\n",
              "      border-radius: 50%;\n",
              "      cursor: pointer;\n",
              "      display: none;\n",
              "      fill: #1967D2;\n",
              "      height: 32px;\n",
              "      padding: 0 0 0 0;\n",
              "      width: 32px;\n",
              "    }\n",
              "\n",
              "    .colab-df-convert:hover {\n",
              "      background-color: #E2EBFA;\n",
              "      box-shadow: 0px 1px 2px rgba(60, 64, 67, 0.3), 0px 1px 3px 1px rgba(60, 64, 67, 0.15);\n",
              "      fill: #174EA6;\n",
              "    }\n",
              "\n",
              "    [theme=dark] .colab-df-convert {\n",
              "      background-color: #3B4455;\n",
              "      fill: #D2E3FC;\n",
              "    }\n",
              "\n",
              "    [theme=dark] .colab-df-convert:hover {\n",
              "      background-color: #434B5C;\n",
              "      box-shadow: 0px 1px 3px 1px rgba(0, 0, 0, 0.15);\n",
              "      filter: drop-shadow(0px 1px 2px rgba(0, 0, 0, 0.3));\n",
              "      fill: #FFFFFF;\n",
              "    }\n",
              "  </style>\n",
              "\n",
              "      <script>\n",
              "        const buttonEl =\n",
              "          document.querySelector('#df-a97fbe35-7832-4edf-93c3-a522a06ed462 button.colab-df-convert');\n",
              "        buttonEl.style.display =\n",
              "          google.colab.kernel.accessAllowed ? 'block' : 'none';\n",
              "\n",
              "        async function convertToInteractive(key) {\n",
              "          const element = document.querySelector('#df-a97fbe35-7832-4edf-93c3-a522a06ed462');\n",
              "          const dataTable =\n",
              "            await google.colab.kernel.invokeFunction('convertToInteractive',\n",
              "                                                     [key], {});\n",
              "          if (!dataTable) return;\n",
              "\n",
              "          const docLinkHtml = 'Like what you see? Visit the ' +\n",
              "            '<a target=\"_blank\" href=https://colab.research.google.com/notebooks/data_table.ipynb>data table notebook</a>'\n",
              "            + ' to learn more about interactive tables.';\n",
              "          element.innerHTML = '';\n",
              "          dataTable['output_type'] = 'display_data';\n",
              "          await google.colab.output.renderOutput(dataTable, element);\n",
              "          const docLink = document.createElement('div');\n",
              "          docLink.innerHTML = docLinkHtml;\n",
              "          element.appendChild(docLink);\n",
              "        }\n",
              "      </script>\n",
              "    </div>\n",
              "  </div>\n",
              "  "
            ]
          },
          "metadata": {},
          "execution_count": 104
        }
      ]
    },
    {
      "cell_type": "markdown",
      "source": [
        "We can see that Artificial Neural Network has the least R2 score and after tuning it we can also get Best R2 score"
      ],
      "metadata": {
        "id": "LCJGpTajqMpl"
      }
    },
    {
      "cell_type": "code",
      "source": [
        ""
      ],
      "metadata": {
        "id": "p6IUy2_Epsv8"
      },
      "execution_count": null,
      "outputs": []
    }
  ]
}